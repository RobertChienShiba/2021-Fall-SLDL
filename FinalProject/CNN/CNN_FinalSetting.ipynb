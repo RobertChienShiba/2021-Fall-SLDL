{
 "cells": [
  {
   "cell_type": "markdown",
   "metadata": {
    "id": "pkDfzauwCGVe"
   },
   "source": [
    "###Load Data"
   ]
  },
  {
   "cell_type": "code",
   "execution_count": null,
   "metadata": {
    "colab": {
     "base_uri": "https://localhost:8080/"
    },
    "id": "KB8oZ33j570E",
    "outputId": "30b9df61-e335-4a8c-f577-ffe73996d8a3"
   },
   "outputs": [
    {
     "name": "stdout",
     "output_type": "stream",
     "text": [
      "Mounted at /content/drive\n"
     ]
    }
   ],
   "source": [
    "from google.colab import drive\n",
    "drive.mount('/content/drive')"
   ]
  },
  {
   "cell_type": "code",
   "execution_count": 1,
   "metadata": {
    "id": "RMVcs2AoHoVZ"
   },
   "outputs": [],
   "source": [
    "import torch\n",
    "import torch.nn as nn\n",
    "from torchvision import datasets ,models,transforms\n",
    "from pathlib import Path\n",
    "from matplotlib import pyplot as plt\n",
    "import numpy as np\n",
    "import torch.nn.functional as F\n",
    "from sklearn.model_selection import train_test_split\n",
    "import matplotlib.pyplot as plt\n",
    "from torch.nn import Linear, ReLU, CrossEntropyLoss, Conv2d, MaxPool2d, Module\n",
    "from torch.optim import Adam\n",
    "import pandas as pd\n",
    "import os, shutil\n",
    "from os import listdir\n",
    "from tqdm import tqdm_notebook as tqdm\n",
    "from PIL import Image\n",
    "import torchvision.transforms as transforms\n",
    "from torch.utils.data import DataLoader"
   ]
  },
  {
   "cell_type": "code",
   "execution_count": null,
   "metadata": {
    "colab": {
     "base_uri": "https://localhost:8080/"
    },
    "id": "Nci4NfRFbTGM",
    "outputId": "587aba9f-c3e3-414f-c685-09765a99c78c"
   },
   "outputs": [
    {
     "name": "stdout",
     "output_type": "stream",
     "text": [
      "Downloading...\n",
      "From: https://drive.google.com/uc?id=1l8YzfPxHeMuLfUdSILbbb7gK98d3a9Ja\n",
      "To: /content/split_.zip\n",
      "100% 4.56G/4.56G [00:38<00:00, 119MB/s] \n"
     ]
    }
   ],
   "source": [
    "!gdown --id '1l8YzfPxHeMuLfUdSILbbb7gK98d3a9Ja'\n",
    "!unzip -q split_.zip"
   ]
  },
  {
   "cell_type": "code",
   "execution_count": null,
   "metadata": {
    "colab": {
     "base_uri": "https://localhost:8080/"
    },
    "id": "0E39_pW9P-tC",
    "outputId": "7fb44c58-ff95-4f95-dfce-7375b218219f"
   },
   "outputs": [
    {
     "name": "stdout",
     "output_type": "stream",
     "text": [
      "train neg  2484\n",
      "train pos  2484\n",
      "test neg  359\n",
      "test pos  45\n",
      "val neg  363\n",
      "val pos  44\n"
     ]
    }
   ],
   "source": [
    "# check\n",
    "path, dirs, files = next(os.walk(\"content/drive/MyDrive/split/train/negative\"))\n",
    "print(\"train neg \",len(files))\n",
    "path, dirs, files = next(os.walk(\"content/drive/MyDrive/split/train/positive\"))\n",
    "print(\"train pos \",len(files))\n",
    "path, dirs, files = next(os.walk(\"content/drive/MyDrive/split/test/negative\"))\n",
    "print(\"test neg \",len(files))\n",
    "path, dirs, files = next(os.walk(\"content/drive/MyDrive/split/test/positive\"))\n",
    "print(\"test pos \",len(files))\n",
    "path, dirs, files = next(os.walk(\"content/drive/MyDrive/split/val/negative\"))\n",
    "print(\"val neg \",len(files))\n",
    "path, dirs, files = next(os.walk(\"content/drive/MyDrive/split/val/positive\"))\n",
    "print(\"val pos \",len(files))"
   ]
  },
  {
   "cell_type": "markdown",
   "metadata": {
    "id": "fJpfESMizbgb"
   },
   "source": [
    "### Transform to tensor"
   ]
  },
  {
   "cell_type": "code",
   "execution_count": 2,
   "metadata": {
    "id": "VFcTGGhozXBU"
   },
   "outputs": [],
   "source": [
    "# raw img size 4040 * 5416 pixel\n",
    "wid = 1000\n",
    "hgt = 1000\n",
    "\n",
    "train_tfm = transforms.Compose([\n",
    "    transforms.Resize((1000, 1000)),\n",
    "    # transforms.ColorJitter(contrast=1),\n",
    "    # transforms.RandomRotation(degrees = 8, fill = 1),\n",
    "    # transforms.Resize((128, 128)),\n",
    "    # transforms.RandomHorizontalFlip(p=0.5),\n",
    "    transforms.Grayscale(num_output_channels=1),\n",
    "    transforms.ToTensor(),\n",
    "])\n",
    "\n",
    "test_tfm = transforms.Compose([\n",
    "    transforms.Resize((1000, 1000)),\n",
    "    transforms.Grayscale(num_output_channels=1),\n",
    "    transforms.ToTensor(),\n",
    "])\n",
    "\n",
    "# input[512, 1, 28, 28]"
   ]
  },
  {
   "cell_type": "markdown",
   "metadata": {
    "id": "NJpzd9Z16Zqy"
   },
   "source": [
    "### Build Dataset"
   ]
  },
  {
   "cell_type": "code",
   "execution_count": 3,
   "metadata": {
    "id": "ph4o1U5WnxGd"
   },
   "outputs": [],
   "source": [
    "batch_size = 16\n",
    "#train_set = datasets.DatasetFolder(\"split/train\", loader=lambda x: Image.open(x), extensions=\"jpg\", transform=train_tfm)\n",
    "subtrain_set = datasets.DatasetFolder(\"split/train\", loader=lambda x: Image.open(x), extensions=\"jpg\", transform=train_tfm)\n",
    "valid_set = datasets.DatasetFolder(\"split/val\", loader=lambda x: Image.open(x), extensions=\"jpg\", transform=test_tfm)\n",
    "test_set = datasets.DatasetFolder(\"split/test\", loader=lambda x: Image.open(x), extensions=\"jpg\", transform=test_tfm)\n",
    "\n",
    "#train_loader = DataLoader(train_set, batch_size=batch_size, shuffle=True) # , num_workers=8, pin_memory=True\n",
    "subtrain_loader = DataLoader(subtrain_set, batch_size=batch_size, shuffle=True)\n",
    "valid_loader = DataLoader(valid_set, batch_size=batch_size, shuffle=True)\n",
    "test_loader = DataLoader(test_set, batch_size=batch_size, shuffle=False)"
   ]
  },
  {
   "cell_type": "markdown",
   "metadata": {
    "id": "v70BfWBdxahw"
   },
   "source": [
    "### MLP (博任)"
   ]
  },
  {
   "cell_type": "code",
   "execution_count": 4,
   "metadata": {
    "id": "zhq7ahtUitEG"
   },
   "outputs": [],
   "source": [
    "# dataiter = iter(train_loader)\n",
    "# images, labels = dataiter.next()\n",
    "\n",
    "# print(images.shape)\n",
    "# print(labels.shape)\n",
    "#CUDA_LAUNCH_BLOCKING=1\n",
    "use_cuda = torch.cuda.is_available()\n",
    "device = torch.device(\"cpu\")"
   ]
  },
  {
   "cell_type": "code",
   "execution_count": 5,
   "metadata": {
    "id": "V9sw6FqSzEG8"
   },
   "outputs": [],
   "source": [
    "from torch.nn.modules.activation import Sigmoid\n",
    "class Classifier(nn.Module):\n",
    "    def __init__(self):\n",
    "        super(Classifier, self).__init__()\n",
    "        # The arguments for commonly used modules:\n",
    "        # torch.nn.Conv2d(in_channels, out_channels, kernel_size, stride, padding)\n",
    "        # torch.nn.MaxPool2d(kernel_size, stride, padding)\n",
    "\n",
    "        # input image size: [1, 784, 784]  (C H W)\n",
    "        self.cnn_layers = nn.Sequential(\n",
    "            nn.Conv2d(1, 16, 3, 1, 1),\n",
    "            nn.BatchNorm2d(16),\n",
    "            nn.ReLU(),\n",
    "            \n",
    "            nn.MaxPool2d(2, 2, 0),\n",
    "\n",
    "            nn.Conv2d(16, 32, 3, 1, 1),\n",
    "            # nn.BatchNorm2d(64),\n",
    "            nn.ReLU(),\n",
    "            nn.MaxPool2d(2, 2, 0),\n",
    "\n",
    "            nn.Conv2d(32, 64, 3, 1, 1),\n",
    "            # nn.BatchNorm2d(256),\n",
    "            nn.ReLU(),\n",
    "            nn.MaxPool2d(2, 2, 0),\n",
    "        )\n",
    "        self.fc_layers = nn.Sequential(\n",
    "            nn.Linear(1000000, 128),  # * 196 * 196\n",
    "            nn.ReLU(),\n",
    "            nn.Linear(128, 128),\n",
    "            nn.ReLU(),\n",
    "            #nn.Dropout(0.5),\n",
    "            nn.Linear(128, 1),\n",
    "            nn.Sigmoid()\n",
    "        )\n",
    "\n",
    "    def forward(self, x):\n",
    "        # input (x): [batch_size, 3, 28, 28]\n",
    "        # output: [batch_size, 2]\n",
    "\n",
    "        # Extract features by convolutional layers.\n",
    "        x = self.cnn_layers(x)\n",
    "\n",
    "        # The extracted feature map must be flatten before going to fully-connected layers.\n",
    "        x = x.flatten(1)\n",
    "\n",
    "        # The features are transformed by fully-connected layers to obtain the final logits.\n",
    "        x = self.fc_layers(x)\n",
    "        return x\n"
   ]
  },
  {
   "cell_type": "code",
   "execution_count": 6,
   "metadata": {
    "colab": {
     "base_uri": "https://localhost:8080/"
    },
    "id": "UGQdmVOu6Rqb",
    "outputId": "4f3821d3-0a05-4bca-c7e0-3e9763502a57"
   },
   "outputs": [
    {
     "name": "stdout",
     "output_type": "stream",
     "text": [
      "Running on device:  cpu\n"
     ]
    }
   ],
   "source": [
    "device = \"cpu\"\n",
    "print(\"Running on device: \", device)\n",
    "my_model = Classifier().to(device)\n",
    "my_model.device = device"
   ]
  },
  {
   "cell_type": "code",
   "execution_count": 7,
   "metadata": {
    "id": "CkMQ3yhxX_8l"
   },
   "outputs": [],
   "source": [
    "# define the optimizer\n",
    "optimizer = torch.optim.Adam(my_model.parameters(), lr=0.0001)\n",
    "# Binary Cross Entropy Loss\n",
    "loss_fn = torch.nn.BCELoss()\n",
    "#loss_fn = nn.BCEWithLogitsLoss()"
   ]
  },
  {
   "cell_type": "code",
   "execution_count": 9,
   "metadata": {
    "id": "T_7QjaYfYDyU"
   },
   "outputs": [
    {
     "name": "stdout",
     "output_type": "stream",
     "text": [
      "Calculating Loss...\n"
     ]
    },
    {
     "name": "stderr",
     "output_type": "stream",
     "text": [
      "C:\\Users\\oplab\\AppData\\Local\\Temp/ipykernel_4144/1098009433.py:69: FutureWarning: The input object of type 'Tensor' is an array-like implementing one of the corresponding protocols (`__array__`, `__array_interface__` or `__array_struct__`); but not a sequence (or 0-D). In the future, this object will be coerced as if it was first converted using `np.array(obj)`. To retain the old behaviour, you have to either modify the type 'Tensor', or assign to an empty array created with `np.empty(correct_shape, dtype=object)`.\n",
      "  validoutputs_array = np.array(validoutputs_list)\n",
      "C:\\Users\\oplab\\AppData\\Local\\Temp/ipykernel_4144/1098009433.py:69: VisibleDeprecationWarning: Creating an ndarray from ragged nested sequences (which is a list-or-tuple of lists-or-tuples-or ndarrays with different lengths or shapes) is deprecated. If you meant to do this, you must specify 'dtype=object' when creating the ndarray.\n",
      "  validoutputs_array = np.array(validoutputs_list)\n",
      "C:\\Users\\oplab\\AppData\\Local\\Temp/ipykernel_4144/1098009433.py:74: FutureWarning: The input object of type 'Tensor' is an array-like implementing one of the corresponding protocols (`__array__`, `__array_interface__` or `__array_struct__`); but not a sequence (or 0-D). In the future, this object will be coerced as if it was first converted using `np.array(obj)`. To retain the old behaviour, you have to either modify the type 'Tensor', or assign to an empty array created with `np.empty(correct_shape, dtype=object)`.\n",
      "  validtargets_array = np.array(validtargets_list)\n",
      "C:\\Users\\oplab\\AppData\\Local\\Temp/ipykernel_4144/1098009433.py:74: VisibleDeprecationWarning: Creating an ndarray from ragged nested sequences (which is a list-or-tuple of lists-or-tuples-or ndarrays with different lengths or shapes) is deprecated. If you meant to do this, you must specify 'dtype=object' when creating the ndarray.\n",
      "  validtargets_array = np.array(validtargets_list)\n"
     ]
    },
    {
     "name": "stdout",
     "output_type": "stream",
     "text": [
      "Epoch 0 Batch 10: trainingLoss = 0.869, validationLoss = 0.699 (minibatch size = 16)\n",
      "Calculating Loss...\n",
      "Epoch 0 Batch 20: trainingLoss = 0.781, validationLoss = 0.671 (minibatch size = 16)\n",
      "Oh yah\n",
      "Calculating Loss...\n",
      "Epoch 0 Batch 30: trainingLoss = 0.753, validationLoss = 0.816 (minibatch size = 16)\n",
      "Calculating Loss...\n",
      "Epoch 0 Batch 40: trainingLoss = 0.741, validationLoss = 0.608 (minibatch size = 16)\n",
      "Oh yah\n",
      "Calculating Loss...\n",
      "Epoch 0 Batch 50: trainingLoss = 0.723, validationLoss = 0.582 (minibatch size = 16)\n",
      "Oh yah\n",
      "Calculating Loss...\n",
      "Epoch 0 Batch 60: trainingLoss = 0.715, validationLoss = 0.771 (minibatch size = 16)\n",
      "Calculating Loss...\n",
      "Epoch 0 Batch 70: trainingLoss = 0.712, validationLoss = 0.533 (minibatch size = 16)\n",
      "Oh yah\n",
      "Calculating Loss...\n",
      "Epoch 0 Batch 80: trainingLoss = 0.707, validationLoss = 0.594 (minibatch size = 16)\n",
      "Calculating Loss...\n",
      "Epoch 0 Batch 90: trainingLoss = 0.703, validationLoss = 0.585 (minibatch size = 16)\n",
      "Calculating Loss...\n",
      "Epoch 0 Batch 100: trainingLoss = 0.699, validationLoss = 0.806 (minibatch size = 16)\n",
      "Calculating Loss...\n",
      "Epoch 0 Batch 110: trainingLoss = 0.696, validationLoss = 0.645 (minibatch size = 16)\n",
      "Calculating Loss...\n",
      "Epoch 0 Batch 120: trainingLoss = 0.693, validationLoss = 0.679 (minibatch size = 16)\n",
      "Calculating Loss...\n",
      "Epoch 0 Batch 130: trainingLoss = 0.688, validationLoss = 0.711 (minibatch size = 16)\n",
      "Calculating Loss...\n",
      "Epoch 0 Batch 140: trainingLoss = 0.680, validationLoss = 0.477 (minibatch size = 16)\n",
      "Oh yah\n",
      "Calculating Loss...\n",
      "Epoch 0 Batch 150: trainingLoss = 0.680, validationLoss = 0.594 (minibatch size = 16)\n",
      "Calculating Loss...\n",
      "Epoch 0 Batch 160: trainingLoss = 0.676, validationLoss = 0.694 (minibatch size = 16)\n",
      "Calculating Loss...\n",
      "Epoch 0 Batch 170: trainingLoss = 0.674, validationLoss = 0.548 (minibatch size = 16)\n",
      "Calculating Loss...\n",
      "Epoch 0 Batch 180: trainingLoss = 0.670, validationLoss = 0.690 (minibatch size = 16)\n",
      "Calculating Loss...\n",
      "Epoch 0 Batch 190: trainingLoss = 0.669, validationLoss = 0.603 (minibatch size = 16)\n",
      "Calculating Loss...\n",
      "Epoch 0 Batch 200: trainingLoss = 0.666, validationLoss = 0.598 (minibatch size = 16)\n",
      "Calculating Loss...\n",
      "Epoch 0 Batch 210: trainingLoss = 0.663, validationLoss = 0.636 (minibatch size = 16)\n",
      "Calculating Loss...\n",
      "Epoch 0 Batch 220: trainingLoss = 0.662, validationLoss = 0.623 (minibatch size = 16)\n",
      "Calculating Loss...\n",
      "Epoch 0 Batch 230: trainingLoss = 0.660, validationLoss = 0.542 (minibatch size = 16)\n",
      "Calculating Loss...\n",
      "Epoch 0 Batch 240: trainingLoss = 0.660, validationLoss = 0.795 (minibatch size = 16)\n",
      "Calculating Loss...\n",
      "Epoch 0 Batch 250: trainingLoss = 0.657, validationLoss = 0.475 (minibatch size = 16)\n",
      "Oh yah\n",
      "Calculating Loss...\n",
      "Epoch 0 Batch 260: trainingLoss = 0.657, validationLoss = 0.670 (minibatch size = 16)\n",
      "Calculating Loss...\n",
      "Epoch 0 Batch 270: trainingLoss = 0.654, validationLoss = 0.757 (minibatch size = 16)\n",
      "Calculating Loss...\n",
      "Epoch 0 Batch 280: trainingLoss = 0.652, validationLoss = 0.413 (minibatch size = 16)\n",
      "Oh yah\n",
      "Calculating Loss...\n",
      "Epoch 0 Batch 290: trainingLoss = 0.652, validationLoss = 0.682 (minibatch size = 16)\n",
      "Calculating Loss...\n",
      "Epoch 0 Batch 300: trainingLoss = 0.650, validationLoss = 0.606 (minibatch size = 16)\n",
      "Calculating Loss...\n",
      "Epoch 0 Batch 310: trainingLoss = 0.648, validationLoss = 0.715 (minibatch size = 16)\n",
      "Calculating Loss...\n",
      "Epoch 1 Batch 320: trainingLoss = 0.645, validationLoss = 0.577 (minibatch size = 16)\n",
      "Calculating Loss...\n",
      "Epoch 1 Batch 330: trainingLoss = 0.643, validationLoss = 0.799 (minibatch size = 16)\n",
      "Calculating Loss...\n",
      "Epoch 1 Batch 340: trainingLoss = 0.640, validationLoss = 0.536 (minibatch size = 16)\n",
      "Calculating Loss...\n",
      "Epoch 1 Batch 350: trainingLoss = 0.637, validationLoss = 0.549 (minibatch size = 16)\n",
      "Calculating Loss...\n",
      "Epoch 1 Batch 360: trainingLoss = 0.633, validationLoss = 0.592 (minibatch size = 16)\n",
      "Calculating Loss...\n",
      "Epoch 1 Batch 370: trainingLoss = 0.628, validationLoss = 1.080 (minibatch size = 16)\n",
      "Calculating Loss...\n",
      "Epoch 1 Batch 380: trainingLoss = 0.624, validationLoss = 0.455 (minibatch size = 16)\n",
      "Calculating Loss...\n",
      "Epoch 1 Batch 390: trainingLoss = 0.621, validationLoss = 0.464 (minibatch size = 16)\n",
      "Calculating Loss...\n",
      "Epoch 1 Batch 400: trainingLoss = 0.619, validationLoss = 0.787 (minibatch size = 16)\n",
      "Calculating Loss...\n",
      "Epoch 1 Batch 410: trainingLoss = 0.616, validationLoss = 0.628 (minibatch size = 16)\n",
      "Calculating Loss...\n",
      "Epoch 1 Batch 420: trainingLoss = 0.612, validationLoss = 0.688 (minibatch size = 16)\n",
      "Calculating Loss...\n",
      "Epoch 1 Batch 430: trainingLoss = 0.607, validationLoss = 0.597 (minibatch size = 16)\n",
      "Calculating Loss...\n",
      "Epoch 1 Batch 440: trainingLoss = 0.603, validationLoss = 0.674 (minibatch size = 16)\n",
      "Calculating Loss...\n",
      "Epoch 1 Batch 450: trainingLoss = 0.599, validationLoss = 0.493 (minibatch size = 16)\n",
      "Calculating Loss...\n",
      "Epoch 1 Batch 460: trainingLoss = 0.596, validationLoss = 0.588 (minibatch size = 16)\n",
      "Calculating Loss...\n",
      "Epoch 1 Batch 470: trainingLoss = 0.591, validationLoss = 0.537 (minibatch size = 16)\n",
      "Calculating Loss...\n",
      "Epoch 1 Batch 480: trainingLoss = 0.587, validationLoss = 0.367 (minibatch size = 16)\n",
      "Oh yah\n",
      "Calculating Loss...\n",
      "Epoch 1 Batch 490: trainingLoss = 0.586, validationLoss = 0.483 (minibatch size = 16)\n",
      "Calculating Loss...\n",
      "Epoch 1 Batch 500: trainingLoss = 0.583, validationLoss = 0.677 (minibatch size = 16)\n",
      "Calculating Loss...\n",
      "Epoch 1 Batch 510: trainingLoss = 0.579, validationLoss = 0.727 (minibatch size = 16)\n",
      "Calculating Loss...\n",
      "Epoch 1 Batch 520: trainingLoss = 0.576, validationLoss = 0.734 (minibatch size = 16)\n",
      "Calculating Loss...\n",
      "Epoch 1 Batch 530: trainingLoss = 0.573, validationLoss = 0.412 (minibatch size = 16)\n",
      "Calculating Loss...\n",
      "Epoch 1 Batch 540: trainingLoss = 0.570, validationLoss = 0.628 (minibatch size = 16)\n",
      "Calculating Loss...\n",
      "Epoch 1 Batch 550: trainingLoss = 0.567, validationLoss = 0.578 (minibatch size = 16)\n",
      "Calculating Loss...\n",
      "Epoch 1 Batch 560: trainingLoss = 0.563, validationLoss = 0.487 (minibatch size = 16)\n",
      "Calculating Loss...\n",
      "Epoch 1 Batch 570: trainingLoss = 0.560, validationLoss = 0.484 (minibatch size = 16)\n",
      "Calculating Loss...\n",
      "Epoch 1 Batch 580: trainingLoss = 0.556, validationLoss = 1.077 (minibatch size = 16)\n",
      "Calculating Loss...\n",
      "Epoch 1 Batch 590: trainingLoss = 0.553, validationLoss = 0.479 (minibatch size = 16)\n",
      "Calculating Loss...\n",
      "Epoch 1 Batch 600: trainingLoss = 0.551, validationLoss = 0.459 (minibatch size = 16)\n",
      "Calculating Loss...\n",
      "Epoch 1 Batch 610: trainingLoss = 0.548, validationLoss = 0.822 (minibatch size = 16)\n",
      "Calculating Loss...\n",
      "Epoch 1 Batch 620: trainingLoss = 0.545, validationLoss = 0.712 (minibatch size = 16)\n",
      "Calculating Loss...\n",
      "Epoch 2 Batch 630: trainingLoss = 0.541, validationLoss = 0.655 (minibatch size = 16)\n",
      "Calculating Loss...\n",
      "Epoch 2 Batch 640: trainingLoss = 0.536, validationLoss = 0.774 (minibatch size = 16)\n",
      "Calculating Loss...\n",
      "Epoch 2 Batch 650: trainingLoss = 0.531, validationLoss = 0.551 (minibatch size = 16)\n",
      "Calculating Loss...\n",
      "Epoch 2 Batch 660: trainingLoss = 0.526, validationLoss = 0.449 (minibatch size = 16)\n",
      "Calculating Loss...\n",
      "Epoch 2 Batch 670: trainingLoss = 0.521, validationLoss = 1.278 (minibatch size = 16)\n",
      "Calculating Loss...\n",
      "Epoch 2 Batch 680: trainingLoss = 0.517, validationLoss = 0.953 (minibatch size = 16)\n",
      "Calculating Loss...\n",
      "Epoch 2 Batch 690: trainingLoss = 0.512, validationLoss = 0.784 (minibatch size = 16)\n",
      "Calculating Loss...\n",
      "Epoch 2 Batch 700: trainingLoss = 0.506, validationLoss = 0.820 (minibatch size = 16)\n",
      "Calculating Loss...\n",
      "Epoch 2 Batch 710: trainingLoss = 0.502, validationLoss = 0.797 (minibatch size = 16)\n",
      "Calculating Loss...\n",
      "Epoch 2 Batch 720: trainingLoss = 0.497, validationLoss = 0.865 (minibatch size = 16)\n",
      "Calculating Loss...\n",
      "Epoch 2 Batch 730: trainingLoss = 0.493, validationLoss = 1.380 (minibatch size = 16)\n",
      "Calculating Loss...\n",
      "Epoch 2 Batch 740: trainingLoss = 0.490, validationLoss = 0.939 (minibatch size = 16)\n",
      "Calculating Loss...\n",
      "Epoch 2 Batch 750: trainingLoss = 0.486, validationLoss = 1.072 (minibatch size = 16)\n",
      "Calculating Loss...\n",
      "Epoch 2 Batch 760: trainingLoss = 0.482, validationLoss = 0.582 (minibatch size = 16)\n",
      "Calculating Loss...\n",
      "Epoch 2 Batch 770: trainingLoss = 0.478, validationLoss = 0.749 (minibatch size = 16)\n",
      "Calculating Loss...\n",
      "Epoch 2 Batch 780: trainingLoss = 0.474, validationLoss = 0.719 (minibatch size = 16)\n",
      "Calculating Loss...\n",
      "Epoch 2 Batch 790: trainingLoss = 0.470, validationLoss = 0.468 (minibatch size = 16)\n",
      "Calculating Loss...\n",
      "Epoch 2 Batch 800: trainingLoss = 0.466, validationLoss = 0.564 (minibatch size = 16)\n",
      "Calculating Loss...\n",
      "Epoch 2 Batch 810: trainingLoss = 0.462, validationLoss = 0.601 (minibatch size = 16)\n",
      "Calculating Loss...\n",
      "Epoch 2 Batch 820: trainingLoss = 0.458, validationLoss = 0.881 (minibatch size = 16)\n",
      "Calculating Loss...\n",
      "Epoch 2 Batch 830: trainingLoss = 0.454, validationLoss = 0.752 (minibatch size = 16)\n",
      "Calculating Loss...\n",
      "Epoch 2 Batch 840: trainingLoss = 0.450, validationLoss = 1.004 (minibatch size = 16)\n",
      "Calculating Loss...\n",
      "Epoch 2 Batch 850: trainingLoss = 0.447, validationLoss = 1.414 (minibatch size = 16)\n",
      "Calculating Loss...\n",
      "Epoch 2 Batch 860: trainingLoss = 0.444, validationLoss = 0.744 (minibatch size = 16)\n",
      "Calculating Loss...\n",
      "Epoch 2 Batch 870: trainingLoss = 0.441, validationLoss = 0.499 (minibatch size = 16)\n",
      "Calculating Loss...\n",
      "Epoch 2 Batch 880: trainingLoss = 0.438, validationLoss = 0.794 (minibatch size = 16)\n",
      "Calculating Loss...\n",
      "Epoch 2 Batch 890: trainingLoss = 0.435, validationLoss = 1.319 (minibatch size = 16)\n",
      "Calculating Loss...\n",
      "Epoch 2 Batch 900: trainingLoss = 0.432, validationLoss = 0.581 (minibatch size = 16)\n",
      "Calculating Loss...\n",
      "Epoch 2 Batch 910: trainingLoss = 0.429, validationLoss = 0.680 (minibatch size = 16)\n",
      "Calculating Loss...\n",
      "Epoch 2 Batch 920: trainingLoss = 0.425, validationLoss = 0.724 (minibatch size = 16)\n",
      "Calculating Loss...\n",
      "Epoch 2 Batch 930: trainingLoss = 0.422, validationLoss = 0.751 (minibatch size = 16)\n",
      "Calculating Loss...\n",
      "Epoch 3 Batch 940: trainingLoss = 0.419, validationLoss = 1.639 (minibatch size = 16)\n",
      "Calculating Loss...\n",
      "Epoch 3 Batch 950: trainingLoss = 0.415, validationLoss = 0.681 (minibatch size = 16)\n",
      "Calculating Loss...\n",
      "Epoch 3 Batch 960: trainingLoss = 0.411, validationLoss = 1.649 (minibatch size = 16)\n",
      "Calculating Loss...\n",
      "Epoch 3 Batch 970: trainingLoss = 0.408, validationLoss = 0.780 (minibatch size = 16)\n",
      "Calculating Loss...\n",
      "Epoch 3 Batch 980: trainingLoss = 0.405, validationLoss = 0.686 (minibatch size = 16)\n",
      "Calculating Loss...\n",
      "Epoch 3 Batch 990: trainingLoss = 0.401, validationLoss = 0.638 (minibatch size = 16)\n",
      "Calculating Loss...\n",
      "Epoch 3 Batch 1000: trainingLoss = 0.398, validationLoss = 0.538 (minibatch size = 16)\n",
      "Calculating Loss...\n",
      "Epoch 3 Batch 1010: trainingLoss = 0.395, validationLoss = 1.434 (minibatch size = 16)\n",
      "Calculating Loss...\n",
      "Epoch 3 Batch 1020: trainingLoss = 0.392, validationLoss = 0.654 (minibatch size = 16)\n",
      "Calculating Loss...\n",
      "Epoch 3 Batch 1030: trainingLoss = 0.388, validationLoss = 0.818 (minibatch size = 16)\n",
      "Calculating Loss...\n",
      "Epoch 3 Batch 1040: trainingLoss = 0.385, validationLoss = 0.780 (minibatch size = 16)\n",
      "Calculating Loss...\n",
      "Epoch 3 Batch 1050: trainingLoss = 0.382, validationLoss = 0.655 (minibatch size = 16)\n",
      "Calculating Loss...\n",
      "Epoch 3 Batch 1060: trainingLoss = 0.380, validationLoss = 1.833 (minibatch size = 16)\n",
      "Calculating Loss...\n",
      "Epoch 3 Batch 1070: trainingLoss = 0.377, validationLoss = 0.836 (minibatch size = 16)\n",
      "Calculating Loss...\n",
      "Epoch 3 Batch 1080: trainingLoss = 0.374, validationLoss = 0.753 (minibatch size = 16)\n",
      "Calculating Loss...\n",
      "Epoch 3 Batch 1090: trainingLoss = 0.371, validationLoss = 1.176 (minibatch size = 16)\n",
      "Calculating Loss...\n",
      "Epoch 3 Batch 1100: trainingLoss = 0.368, validationLoss = 0.764 (minibatch size = 16)\n",
      "Calculating Loss...\n",
      "Epoch 3 Batch 1110: trainingLoss = 0.365, validationLoss = 0.769 (minibatch size = 16)\n",
      "Calculating Loss...\n",
      "Epoch 3 Batch 1120: trainingLoss = 0.363, validationLoss = 1.531 (minibatch size = 16)\n",
      "Calculating Loss...\n",
      "Epoch 3 Batch 1130: trainingLoss = 0.360, validationLoss = 0.772 (minibatch size = 16)\n",
      "Calculating Loss...\n",
      "Epoch 3 Batch 1140: trainingLoss = 0.357, validationLoss = 0.867 (minibatch size = 16)\n",
      "Calculating Loss...\n",
      "Epoch 3 Batch 1150: trainingLoss = 0.355, validationLoss = 0.862 (minibatch size = 16)\n",
      "Calculating Loss...\n",
      "Epoch 3 Batch 1160: trainingLoss = 0.352, validationLoss = 0.842 (minibatch size = 16)\n",
      "Calculating Loss...\n",
      "Epoch 3 Batch 1170: trainingLoss = 0.350, validationLoss = 0.925 (minibatch size = 16)\n",
      "Calculating Loss...\n",
      "Epoch 3 Batch 1180: trainingLoss = 0.347, validationLoss = 0.968 (minibatch size = 16)\n",
      "Calculating Loss...\n",
      "Epoch 3 Batch 1190: trainingLoss = 0.344, validationLoss = 1.042 (minibatch size = 16)\n",
      "Calculating Loss...\n",
      "Epoch 3 Batch 1200: trainingLoss = 0.342, validationLoss = 1.151 (minibatch size = 16)\n",
      "Calculating Loss...\n",
      "Epoch 3 Batch 1210: trainingLoss = 0.339, validationLoss = 1.768 (minibatch size = 16)\n",
      "Calculating Loss...\n",
      "Epoch 3 Batch 1220: trainingLoss = 0.337, validationLoss = 0.908 (minibatch size = 16)\n",
      "Calculating Loss...\n",
      "Epoch 3 Batch 1230: trainingLoss = 0.335, validationLoss = 0.849 (minibatch size = 16)\n",
      "Calculating Loss...\n",
      "Epoch 3 Batch 1240: trainingLoss = 0.332, validationLoss = 0.831 (minibatch size = 16)\n",
      "Calculating Loss...\n",
      "Epoch 4 Batch 1250: trainingLoss = 0.330, validationLoss = 0.858 (minibatch size = 16)\n",
      "Calculating Loss...\n",
      "Epoch 4 Batch 1260: trainingLoss = 0.328, validationLoss = 0.863 (minibatch size = 16)\n",
      "Calculating Loss...\n",
      "Epoch 4 Batch 1270: trainingLoss = 0.325, validationLoss = 0.824 (minibatch size = 16)\n",
      "Calculating Loss...\n",
      "Epoch 4 Batch 1280: trainingLoss = 0.323, validationLoss = 0.983 (minibatch size = 16)\n",
      "Calculating Loss...\n",
      "Epoch 4 Batch 1290: trainingLoss = 0.321, validationLoss = 0.906 (minibatch size = 16)\n",
      "Calculating Loss...\n",
      "Epoch 4 Batch 1300: trainingLoss = 0.319, validationLoss = 1.537 (minibatch size = 16)\n",
      "Calculating Loss...\n",
      "Epoch 4 Batch 1310: trainingLoss = 0.316, validationLoss = 0.838 (minibatch size = 16)\n",
      "Calculating Loss...\n",
      "Epoch 4 Batch 1320: trainingLoss = 0.314, validationLoss = 1.225 (minibatch size = 16)\n",
      "Calculating Loss...\n",
      "Epoch 4 Batch 1330: trainingLoss = 0.312, validationLoss = 0.937 (minibatch size = 16)\n",
      "Calculating Loss...\n",
      "Epoch 4 Batch 1340: trainingLoss = 0.310, validationLoss = 1.075 (minibatch size = 16)\n",
      "Calculating Loss...\n",
      "Epoch 4 Batch 1350: trainingLoss = 0.308, validationLoss = 0.950 (minibatch size = 16)\n",
      "Calculating Loss...\n",
      "Epoch 4 Batch 1360: trainingLoss = 0.306, validationLoss = 0.908 (minibatch size = 16)\n",
      "Calculating Loss...\n",
      "Epoch 4 Batch 1370: trainingLoss = 0.303, validationLoss = 1.698 (minibatch size = 16)\n",
      "Calculating Loss...\n",
      "Epoch 4 Batch 1380: trainingLoss = 0.301, validationLoss = 0.947 (minibatch size = 16)\n",
      "Calculating Loss...\n",
      "Epoch 4 Batch 1390: trainingLoss = 0.299, validationLoss = 1.488 (minibatch size = 16)\n",
      "Calculating Loss...\n",
      "Epoch 4 Batch 1400: trainingLoss = 0.297, validationLoss = 0.984 (minibatch size = 16)\n",
      "Calculating Loss...\n",
      "Epoch 4 Batch 1410: trainingLoss = 0.296, validationLoss = 0.865 (minibatch size = 16)\n",
      "Calculating Loss...\n",
      "Epoch 4 Batch 1420: trainingLoss = 0.294, validationLoss = 3.925 (minibatch size = 16)\n",
      "Calculating Loss...\n",
      "Epoch 4 Batch 1430: trainingLoss = 0.293, validationLoss = 0.697 (minibatch size = 16)\n",
      "Calculating Loss...\n",
      "Epoch 4 Batch 1440: trainingLoss = 0.291, validationLoss = 0.975 (minibatch size = 16)\n",
      "Calculating Loss...\n",
      "Epoch 4 Batch 1450: trainingLoss = 0.289, validationLoss = 2.233 (minibatch size = 16)\n",
      "Calculating Loss...\n",
      "Epoch 4 Batch 1460: trainingLoss = 0.288, validationLoss = 0.547 (minibatch size = 16)\n",
      "Calculating Loss...\n",
      "Epoch 4 Batch 1470: trainingLoss = 0.286, validationLoss = 1.580 (minibatch size = 16)\n",
      "Calculating Loss...\n",
      "Epoch 4 Batch 1480: trainingLoss = 0.284, validationLoss = 0.916 (minibatch size = 16)\n",
      "early stop1\n",
      "early stop2\n"
     ]
    }
   ],
   "source": [
    "nepoch = 100\n",
    "step_count = 0\n",
    "log_interval = 10\n",
    "#trainingAccuracy_list = []\n",
    "#validationAccuracy_list = []\n",
    "trainingloss_list = []\n",
    "validloss_list = []\n",
    "step_count_list = []\n",
    "#train_ncorrect = 0\n",
    "#train_test_nobs = 0\n",
    "cumulative_loss = 0\n",
    "countdown = 100\n",
    "\n",
    "\n",
    "for epoch_id in range(0, nepoch):    \n",
    "    if countdown == 0:\n",
    "        print(\"early stop2\")\n",
    "        break  \n",
    "    for batch_idx, (inputs, targets) in enumerate(subtrain_loader):\n",
    "        #reshape target to two-dimensional array\n",
    "        targets = targets.reshape((-1, 1))\n",
    "        step_count += 1        \n",
    "        my_model.train()\n",
    "        #print(inputs)\n",
    "        #print(targets)\n",
    "        inputs, targets = inputs.to(device), targets.to(device)\n",
    "      \n",
    "        optimizer.zero_grad()\n",
    "        #batch_size = inputs.shape[0]\n",
    "        #inputs = inputs.view(batch_size, -1)\n",
    "        outputs = my_model(inputs)   \n",
    "        targets = targets.float()\n",
    "        loss = loss_fn(outputs, targets)\n",
    "        cumulative_loss += loss\n",
    "\n",
    "        #train_pred = (outputs.cpu().detach().numpy() > 0.5).astype('float32')\n",
    "        #train_tmp_correct = (train_pred == targets.cpu().detach().numpy()).sum()\n",
    "        #train_ncorrect += train_tmp_correct\n",
    "        #train_test_nobs += len(train_pred) \n",
    "  \n",
    "        loss.backward()\n",
    "        optimizer.step()\n",
    "        #if step_count % log_interval == 0: \n",
    "        if step_count % log_interval == 0:\n",
    "            step_count_list.append(step_count)\n",
    "            #trainingAccuracy = train_ncorrect / train_test_nobs\n",
    "            #valid_ncorrect = 0\n",
    "            #valid_test_nobs = 0\n",
    "            validoutputs_list = []\n",
    "            validtargets_list = []\n",
    "            with torch.no_grad():\n",
    "              for i, (validinputs, validtargets) in enumerate(valid_loader):\n",
    "                if i == 0:\n",
    "                  print(\"Calculating Loss...\")\n",
    "                my_model.eval()\n",
    "                validtargets = validtargets.reshape((-1, 1))\n",
    "                validinputs, validtargets = validinputs.to(device), validtargets.to(device)\n",
    "                #batch_size = validinputs.shape[0]\n",
    "                #validinputs = validinputs.view(batch_size, -1)\n",
    "                validoutputs = my_model(validinputs) \n",
    "                validtargets = validtargets.float()\n",
    "                validoutputs_list.append(validoutputs)\n",
    "                validtargets_list.append(validtargets)\n",
    "                #valid_pred = (validoutputs.cpu().detach().numpy() > 0.5).astype('float32')\n",
    "                #valid_tmp_correct = (valid_pred == validtargets.cpu().detach().numpy()).sum()\n",
    "                #valid_ncorrect += valid_tmp_correct\n",
    "                #valid_test_nobs += len(valid_pred) \n",
    "            #validationAccuracy = valid_ncorrect / valid_test_nobs\n",
    "            validoutputs_array = np.array(validoutputs_list)\n",
    "            for i in range(len(validoutputs_array)):\n",
    "              validoutputs_array[i] = validoutputs_array[i].to(\"cpu\")\n",
    "              validoutputs_array[i] = validoutputs_array[i].numpy()\n",
    "            full_valid_outputs = np.concatenate(validoutputs_array, axis=0 )\n",
    "            validtargets_array = np.array(validtargets_list)\n",
    "            for i in range(len(validtargets_array)):\n",
    "              validtargets_array[i] = validtargets_array[i].to(\"cpu\")\n",
    "              validtargets_array[i] = validtargets_array[i].numpy()\n",
    "            full_valid_targets = np.concatenate(validtargets_array, axis=0 )\n",
    "            validloss = loss_fn(torch.tensor(full_valid_outputs), torch.tensor(full_valid_targets))\n",
    "            trainingloss = cumulative_loss / step_count\n",
    "            #trainingAccuracy_list.append(trainingAccuracy)\n",
    "            #validationAccuracy_list.append(validationAccuracy)\n",
    "            trainingloss_list.append(trainingloss.item())\n",
    "            validloss_list.append(validloss.item())\n",
    "            print(\"Epoch %d Batch %d: trainingLoss = %.3f, validationLoss = %.3f (minibatch size = %d)\" % (epoch_id, step_count, trainingloss.item(), validloss.item(), len(targets)))\n",
    "            #print(\"Epoch %d Batch %d: trainingAccuracy = %.3f, validationAccuracy = %.3f (minibatch size = %d)\" % (epoch_id, step_count, trainingAccuracy, validationAccuracy, len(targets)))        \n",
    "            if step_count < 20:\n",
    "                before_lowestloss = validloss\n",
    "                PATH = './CNN_final.pth' #save model\n",
    "                torch.save(my_model.state_dict(), PATH)\n",
    "                \n",
    "            elif step_count >=20:\n",
    "                if validloss < before_lowestloss:\n",
    "                    print(\"Oh yah\") #爽啦，進步了！\n",
    "                    PATH = './CNN_final.pth' #save model\n",
    "                    torch.save(my_model.state_dict(), PATH)\n",
    "                    before_lowestloss = validloss\n",
    "                    countdown = 100 #經過1000個batch相當於經過100個10個batch\n",
    "                else:\n",
    "                    countdown -= 1\n",
    "            if countdown == 0:\n",
    "                print(\"early stop1\") #好了啦\n",
    "                break"
   ]
  },
  {
   "cell_type": "code",
   "execution_count": 10,
   "metadata": {
    "colab": {
     "base_uri": "https://localhost:8080/"
    },
    "id": "xZj_j70MMIJY",
    "outputId": "5744557a-698b-40fd-b029-23e396afedac"
   },
   "outputs": [
    {
     "data": {
      "text/plain": [
       "<All keys matched successfully>"
      ]
     },
     "execution_count": 10,
     "metadata": {},
     "output_type": "execute_result"
    }
   ],
   "source": [
    "my_model.load_state_dict(torch.load(PATH)) #use the saved model to test"
   ]
  },
  {
   "cell_type": "code",
   "execution_count": 11,
   "metadata": {
    "id": "N8TmsQyTLq3b"
   },
   "outputs": [
    {
     "name": "stdout",
     "output_type": "stream",
     "text": [
      "Doing model testing...\n",
      "Test loss = 0.386\n",
      "Accuracy = 0.874\n"
     ]
    },
    {
     "name": "stderr",
     "output_type": "stream",
     "text": [
      "C:\\Users\\oplab\\AppData\\Local\\Temp/ipykernel_4144/4192451914.py:30: FutureWarning: The input object of type 'Tensor' is an array-like implementing one of the corresponding protocols (`__array__`, `__array_interface__` or `__array_struct__`); but not a sequence (or 0-D). In the future, this object will be coerced as if it was first converted using `np.array(obj)`. To retain the old behaviour, you have to either modify the type 'Tensor', or assign to an empty array created with `np.empty(correct_shape, dtype=object)`.\n",
      "  outputs_array = np.array(outputs_list)\n",
      "C:\\Users\\oplab\\AppData\\Local\\Temp/ipykernel_4144/4192451914.py:30: VisibleDeprecationWarning: Creating an ndarray from ragged nested sequences (which is a list-or-tuple of lists-or-tuples-or ndarrays with different lengths or shapes) is deprecated. If you meant to do this, you must specify 'dtype=object' when creating the ndarray.\n",
      "  outputs_array = np.array(outputs_list)\n",
      "C:\\Users\\oplab\\AppData\\Local\\Temp/ipykernel_4144/4192451914.py:35: FutureWarning: The input object of type 'Tensor' is an array-like implementing one of the corresponding protocols (`__array__`, `__array_interface__` or `__array_struct__`); but not a sequence (or 0-D). In the future, this object will be coerced as if it was first converted using `np.array(obj)`. To retain the old behaviour, you have to either modify the type 'Tensor', or assign to an empty array created with `np.empty(correct_shape, dtype=object)`.\n",
      "  targets_array = np.array(targets_list)\n",
      "C:\\Users\\oplab\\AppData\\Local\\Temp/ipykernel_4144/4192451914.py:35: VisibleDeprecationWarning: Creating an ndarray from ragged nested sequences (which is a list-or-tuple of lists-or-tuples-or ndarrays with different lengths or shapes) is deprecated. If you meant to do this, you must specify 'dtype=object' when creating the ndarray.\n",
      "  targets_array = np.array(targets_list)\n"
     ]
    }
   ],
   "source": [
    "my_model.eval()\n",
    "print(\"Doing model testing...\")\n",
    "test_nobs = 0\n",
    "ncorrect = 0\n",
    "pred_list = []\n",
    "true_list = []\n",
    "outputs_list = []\n",
    "targets_list = []\n",
    "with torch.no_grad():\n",
    "    for batch_idx, (inputs, targets) in enumerate(test_loader):            \n",
    "        inputs, targets = inputs.to(device), targets.to(device)\n",
    "        targets = targets.reshape((-1, 1))\n",
    "        #batch_size = inputs.shape[0]\n",
    "        #inputs = inputs.view(batch_size, -1)\n",
    "        outputs = my_model(inputs)\n",
    "        targets = targets.float()\n",
    "        outputs_list.append(outputs)\n",
    "        targets_list.append(targets)              \n",
    "        pred = (outputs.cpu().numpy() > 0.5).astype('float32')\n",
    "        pred_list.extend(pred.flatten().tolist())\n",
    "        true_list.extend(targets.flatten().tolist())\n",
    "        tmp_correct = (pred == targets.cpu().numpy()).sum()\n",
    "        ncorrect += tmp_correct\n",
    "        test_nobs += len(pred)        \n",
    "accuracy = ncorrect / test_nobs\n",
    "#print(np.array(outputs_list))\n",
    "#print(np.array(outputs_list).shape)\n",
    "#print(np.array(targets_list))\n",
    "#print(np.array(targets_list).shape)\n",
    "outputs_array = np.array(outputs_list)\n",
    "for i in range(len(outputs_array)):\n",
    "  outputs_array[i] = outputs_array[i].to(\"cpu\")\n",
    "  outputs_array[i] = outputs_array[i].numpy()\n",
    "full_test_outputs = np.concatenate(outputs_array, axis=0 )\n",
    "targets_array = np.array(targets_list)\n",
    "for i in range(len(targets_array)):\n",
    "  targets_array[i] = targets_array[i].to(\"cpu\")\n",
    "  targets_array[i] = targets_array[i].numpy()\n",
    "full_test_targets = np.concatenate(targets_array, axis=0 )\n",
    "testloss = loss_fn(torch.tensor(full_test_outputs), torch.tensor(full_test_targets))\n",
    "print(\"Test loss = %.3f\" % testloss.item())\n",
    "print(\"Accuracy = %.3f\" % accuracy)"
   ]
  },
  {
   "cell_type": "code",
   "execution_count": 12,
   "metadata": {
    "id": "gfsVHWPeL284"
   },
   "outputs": [
    {
     "name": "stdout",
     "output_type": "stream",
     "text": [
      "              precision    recall  f1-score   support\n",
      "\n",
      "         0.0       0.90      0.96      0.93       359\n",
      "         1.0       0.35      0.16      0.22        45\n",
      "\n",
      "    accuracy                           0.87       404\n",
      "   macro avg       0.63      0.56      0.57       404\n",
      "weighted avg       0.84      0.87      0.85       404\n",
      "\n",
      "AUC: 0.5596719281956051\n"
     ]
    }
   ],
   "source": [
    "from sklearn import metrics\n",
    "from sklearn.metrics import roc_auc_score\n",
    "print(metrics.classification_report(true_list, pred_list))\n",
    "print(\"AUC:\",roc_auc_score(true_list, pred_list))"
   ]
  },
  {
   "cell_type": "code",
   "execution_count": 13,
   "metadata": {
    "id": "2NGsfRMNGzPq"
   },
   "outputs": [
    {
     "data": {
      "image/png": "[encoded data removed]",
      "text/plain": [
       "<Figure size 432x288 with 1 Axes>"
      ]
     },
     "metadata": {
      "needs_background": "light"
     },
     "output_type": "display_data"
    }
   ],
   "source": [
    "import matplotlib.pyplot as plt\n",
    "plt.plot(step_count_list, trainingloss_list, label = \"training loss\")\n",
    "plt.plot(step_count_list, validloss_list, label = \"validation loss\")\n",
    "plt.legend()\n",
    "plt.show()"
   ]
  },
  {
   "cell_type": "code",
   "execution_count": 18,
   "metadata": {
    "id": "rz43DMSneFBl"
   },
   "outputs": [
    {
     "data": {
      "image/png": "[encoded data removed]",
      "text/plain": [
       "<Figure size 432x288 with 2 Axes>"
      ]
     },
     "metadata": {
      "needs_background": "light"
     },
     "output_type": "display_data"
    }
   ],
   "source": [
    "import matplotlib.pyplot as plt\n",
    "from sklearn.metrics import ConfusionMatrixDisplay\n",
    "from sklearn.metrics import confusion_matrix, ConfusionMatrixDisplay\n",
    "cm = confusion_matrix(true_list, pred_list)\n",
    "disp = ConfusionMatrixDisplay(confusion_matrix=cm)\n",
    "disp.plot()\n",
    "\n",
    "plt.show()"
   ]
  }
 ],
 "metadata": {
  "accelerator": "GPU",
  "colab": {
   "background_execution": "on",
   "collapsed_sections": [],
   "name": "Pytorch_Image_Classification_CNNwithDropout_FinalRun.ipynb",
   "provenance": []
  },
  "kernelspec": {
   "display_name": "Python 3 (ipykernel)",
   "language": "python",
   "name": "python3"
  },
  "language_info": {
   "codemirror_mode": {
    "name": "ipython",
    "version": 3
   },
   "file_extension": ".py",
   "mimetype": "text/x-python",
   "name": "python",
   "nbconvert_exporter": "python",
   "pygments_lexer": "ipython3",
   "version": "3.9.7"
  }
 },
 "nbformat": 4,
 "nbformat_minor": 4
}
