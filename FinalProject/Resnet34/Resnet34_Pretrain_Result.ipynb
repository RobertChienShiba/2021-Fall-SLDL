{
 "cells": [
  {
   "cell_type": "markdown",
   "metadata": {
    "id": "pkDfzauwCGVe"
   },
   "source": [
    "###Load Data"
   ]
  },
  {
   "cell_type": "code",
   "execution_count": null,
   "metadata": {
    "id": "RMVcs2AoHoVZ"
   },
   "outputs": [],
   "source": [
    "import torch\n",
    "import torch.nn as nn\n",
    "from torchvision import datasets ,models,transforms\n",
    "from pathlib import Path\n",
    "from matplotlib import pyplot as plt\n",
    "import numpy as np\n",
    "import torch.nn.functional as F\n",
    "from sklearn.model_selection import train_test_split\n",
    "import matplotlib.pyplot as plt\n",
    "from torch.nn import Linear, ReLU, CrossEntropyLoss, Conv2d, MaxPool2d, Module\n",
    "from torch.optim import Adam\n",
    "import pandas as pd\n",
    "import os, shutil\n",
    "from os import listdir\n",
    "from tqdm import tqdm_notebook as tqdm\n",
    "from PIL import Image\n",
    "import torchvision.transforms as transforms\n",
    "from torch.utils.data import DataLoader"
   ]
  },
  {
   "cell_type": "code",
   "execution_count": null,
   "metadata": {
    "colab": {
     "base_uri": "https://localhost:8080/"
    },
    "id": "bpnoiNU8L7rv",
    "outputId": "2b9b6de7-a110-4266-bac5-a6af0e0b9ccf"
   },
   "outputs": [
    {
     "name": "stdout",
     "output_type": "stream",
     "text": [
      "Mounted at /content/drive\n"
     ]
    }
   ],
   "source": [
    "from google.colab import drive\n",
    "drive.mount('/content/drive')"
   ]
  },
  {
   "cell_type": "code",
   "execution_count": null,
   "metadata": {
    "colab": {
     "base_uri": "https://localhost:8080/"
    },
    "id": "Nci4NfRFbTGM",
    "outputId": "42ad966f-3053-4191-aaf7-0cac76fd6ade"
   },
   "outputs": [
    {
     "name": "stdout",
     "output_type": "stream",
     "text": [
      "Downloading...\n",
      "From: https://drive.google.com/uc?id=1l8YzfPxHeMuLfUdSILbbb7gK98d3a9Ja\n",
      "To: /content/split_.zip\n",
      "100% 4.56G/4.56G [00:39<00:00, 117MB/s] \n"
     ]
    }
   ],
   "source": [
    "#!gdown --id '16k0608XLsNcCWvX9mawqv_ojAHQB7aa9'\n",
    "#!unzip -q OneDrive-2021-12-12.zip\n",
    "#https://drive.google.com/drive/folders/1KGXp-WE5SJ1xQqU9EQWsXNVA17XWS84w?usp=sharing\n",
    "#https://drive.google.com/u/0/uc?id=17BZWzb-FTx00cJAIrTHKogXdaZVuUtiM&export=download\n",
    "#https://drive.google.com/u/0/uc?export=download&confirm=dlti&id=17BZWzb-FTx00cJAIrTHKogXdaZVuUtiM\n",
    "#https://drive.google.com/file/d/1l8YzfPxHeMuLfUdSILbbb7gK98d3a9Ja/view?usp=sharing\n",
    "!gdown --id '1l8YzfPxHeMuLfUdSILbbb7gK98d3a9Ja'\n",
    "!unzip -q split_.zip"
   ]
  },
  {
   "cell_type": "code",
   "execution_count": null,
   "metadata": {
    "colab": {
     "base_uri": "https://localhost:8080/"
    },
    "id": "0E39_pW9P-tC",
    "outputId": "7a6822bf-94e7-4775-8870-f486179f4002"
   },
   "outputs": [
    {
     "name": "stdout",
     "output_type": "stream",
     "text": [
      "train neg  2484\n",
      "train pos  2484\n",
      "test neg  359\n",
      "test pos  45\n",
      "val neg  363\n",
      "val pos  44\n"
     ]
    }
   ],
   "source": [
    "# check\n",
    "path, dirs, files = next(os.walk(\"content/drive/MyDrive/split/train/negative\"))\n",
    "print(\"train neg \",len(files))\n",
    "path, dirs, files = next(os.walk(\"content/drive/MyDrive/split/train/positive\"))\n",
    "print(\"train pos \",len(files))\n",
    "path, dirs, files = next(os.walk(\"content/drive/MyDrive/split/test/negative\"))\n",
    "print(\"test neg \",len(files))\n",
    "path, dirs, files = next(os.walk(\"content/drive/MyDrive/split/test/positive\"))\n",
    "print(\"test pos \",len(files))\n",
    "path, dirs, files = next(os.walk(\"content/drive/MyDrive/split/val/negative\"))\n",
    "print(\"val neg \",len(files))\n",
    "path, dirs, files = next(os.walk(\"content/drive/MyDrive/split/val/positive\"))\n",
    "print(\"val pos \",len(files))"
   ]
  },
  {
   "cell_type": "markdown",
   "metadata": {
    "id": "fJpfESMizbgb"
   },
   "source": [
    "### Transform to tensor"
   ]
  },
  {
   "cell_type": "code",
   "execution_count": null,
   "metadata": {
    "id": "VFcTGGhozXBU"
   },
   "outputs": [],
   "source": [
    "# raw img size 4040 * 5416 pixel\n",
    "wid = 1000\n",
    "hgt = 1000\n",
    "\n",
    "train_tfm = transforms.Compose([\n",
    "    transforms.Resize((1000, 1000)),\n",
    "    # transforms.ColorJitter(contrast=1),\n",
    "    # transforms.RandomRotation(degrees = 8, fill = 1),\n",
    "    # transforms.Resize((128, 128)),\n",
    "    # transforms.RandomHorizontalFlip(p=0.5),\n",
    "    transforms.Grayscale(num_output_channels=3),\n",
    "    transforms.ToTensor(),\n",
    "])\n",
    "\n",
    "test_tfm = transforms.Compose([\n",
    "    transforms.Resize((1000, 1000)),\n",
    "    transforms.Grayscale(num_output_channels=3),\n",
    "    transforms.ToTensor(),\n",
    "])\n",
    "\n",
    "# input[512, 1, 28, 28]"
   ]
  },
  {
   "cell_type": "markdown",
   "metadata": {
    "id": "NJpzd9Z16Zqy"
   },
   "source": [
    "### Build Dataset"
   ]
  },
  {
   "cell_type": "code",
   "execution_count": null,
   "metadata": {
    "id": "ph4o1U5WnxGd"
   },
   "outputs": [],
   "source": [
    "batch_size = 16\n",
    "#train_set = datasets.DatasetFolder(\"split/train\", loader=lambda x: Image.open(x), extensions=\"jpg\", transform=train_tfm)\n",
    "subtrain_set = datasets.DatasetFolder(\"content/drive/MyDrive/split/train\", loader=lambda x: Image.open(x), extensions=\"jpg\", transform=train_tfm)\n",
    "valid_set = datasets.DatasetFolder(\"content/drive/MyDrive/split/val\", loader=lambda x: Image.open(x), extensions=\"jpg\", transform=test_tfm)\n",
    "test_set = datasets.DatasetFolder(\"content/drive/MyDrive/split/test\", loader=lambda x: Image.open(x), extensions=\"jpg\", transform=test_tfm)\n",
    "\n",
    "#train_loader = DataLoader(train_set, batch_size=batch_size, shuffle=True) # , num_workers=8, pin_memory=True\n",
    "subtrain_loader = DataLoader(subtrain_set, batch_size=batch_size, shuffle=True)\n",
    "valid_loader = DataLoader(valid_set, batch_size=batch_size, shuffle=True)\n",
    "test_loader = DataLoader(test_set, batch_size=batch_size, shuffle=False)"
   ]
  },
  {
   "cell_type": "code",
   "execution_count": null,
   "metadata": {
    "colab": {
     "base_uri": "https://localhost:8080/"
    },
    "id": "Sl40eDvxWaa5",
    "outputId": "36036d10-8a3e-4e49-d01c-3a305a01ab54"
   },
   "outputs": [
    {
     "name": "stdout",
     "output_type": "stream",
     "text": [
      "Get length: 4968\n",
      "Get training data at position 3:  (tensor([[[0.8157, 0.8039, 0.7922,  ..., 0.1137, 0.1137, 0.1137],\n",
      "         [0.7961, 0.7882, 0.7804,  ..., 0.1098, 0.1098, 0.1059],\n",
      "         [0.7725, 0.7765, 0.7765,  ..., 0.1098, 0.1020, 0.0980],\n",
      "         ...,\n",
      "         [0.4039, 0.4039, 0.4039,  ..., 0.2471, 0.2627, 0.2706],\n",
      "         [0.4078, 0.4039, 0.4039,  ..., 0.2471, 0.2627, 0.2706],\n",
      "         [0.4157, 0.4118, 0.4078,  ..., 0.2471, 0.2588, 0.2667]],\n",
      "\n",
      "        [[0.8157, 0.8039, 0.7922,  ..., 0.1137, 0.1137, 0.1137],\n",
      "         [0.7961, 0.7882, 0.7804,  ..., 0.1098, 0.1098, 0.1059],\n",
      "         [0.7725, 0.7765, 0.7765,  ..., 0.1098, 0.1020, 0.0980],\n",
      "         ...,\n",
      "         [0.4039, 0.4039, 0.4039,  ..., 0.2471, 0.2627, 0.2706],\n",
      "         [0.4078, 0.4039, 0.4039,  ..., 0.2471, 0.2627, 0.2706],\n",
      "         [0.4157, 0.4118, 0.4078,  ..., 0.2471, 0.2588, 0.2667]],\n",
      "\n",
      "        [[0.8157, 0.8039, 0.7922,  ..., 0.1137, 0.1137, 0.1137],\n",
      "         [0.7961, 0.7882, 0.7804,  ..., 0.1098, 0.1098, 0.1059],\n",
      "         [0.7725, 0.7765, 0.7765,  ..., 0.1098, 0.1020, 0.0980],\n",
      "         ...,\n",
      "         [0.4039, 0.4039, 0.4039,  ..., 0.2471, 0.2627, 0.2706],\n",
      "         [0.4078, 0.4039, 0.4039,  ..., 0.2471, 0.2627, 0.2706],\n",
      "         [0.4157, 0.4118, 0.4078,  ..., 0.2471, 0.2588, 0.2667]]]), 0)\n"
     ]
    }
   ],
   "source": [
    "print(\"Get length:\", len(subtrain_set))\n",
    "print(\"Get training data at position 3: \", subtrain_set[3])"
   ]
  },
  {
   "cell_type": "code",
   "execution_count": null,
   "metadata": {
    "colab": {
     "base_uri": "https://localhost:8080/"
    },
    "id": "g5VVJik1UQOh",
    "outputId": "bf884638-4f64-4130-933b-dfb15972726e"
   },
   "outputs": [
    {
     "data": {
      "text/plain": [
       "torch.Size([3, 1000, 1000])"
      ]
     },
     "execution_count": 8,
     "metadata": {},
     "output_type": "execute_result"
    }
   ],
   "source": [
    "subtrain_set[0][0].shape"
   ]
  },
  {
   "cell_type": "markdown",
   "metadata": {
    "id": "v70BfWBdxahw"
   },
   "source": [
    "### MLP (博任)"
   ]
  },
  {
   "cell_type": "code",
   "execution_count": null,
   "metadata": {
    "id": "zhq7ahtUitEG"
   },
   "outputs": [],
   "source": [
    "# dataiter = iter(train_loader)\n",
    "# images, labels = dataiter.next()\n",
    "\n",
    "# print(images.shape)\n",
    "# print(labels.shape)\n",
    "#CUDA_LAUNCH_BLOCKING=1\n",
    "use_cuda = torch.cuda.is_available()\n",
    "device = torch.device(\"cuda\" if use_cuda else \"cpu\")"
   ]
  },
  {
   "cell_type": "code",
   "execution_count": null,
   "metadata": {
    "colab": {
     "base_uri": "https://localhost:8080/",
     "height": 103,
     "referenced_widgets": [
      "dad3652a7a2f409a96a7854a4c8151d6",
      "471c08677c824f6a98ef09999bdcc974",
      "32e97e0cd76a4222a1e6e1aafa3e01a0",
      "b3c55ff5f38a475b945ff6ab62ad427f",
      "e481f4bf7ee54265acaf0431f5f6a05a",
      "27a63471f5594559b00cb69a84655a14",
      "422b949ceea34d17832f861a32c2f9cc",
      "4b54a47613d946ac9abbdcba7948a7f5",
      "8a885133769448418798eef71dae1569",
      "972c680ad601457db01d3a1c7d6835f7",
      "14896a651eeb43d48270802a2bab6b81"
     ]
    },
    "id": "ymng1wBObk0a",
    "outputId": "4d16a908-3eaa-487e-97f7-ba2b2fc2b72c"
   },
   "outputs": [
    {
     "name": "stdout",
     "output_type": "stream",
     "text": [
      "Running on device:  cuda\n"
     ]
    },
    {
     "name": "stderr",
     "output_type": "stream",
     "text": [
      "Downloading: \"https://download.pytorch.org/models/resnet34-b627a593.pth\" to /root/.cache/torch/hub/checkpoints/resnet34-b627a593.pth\n"
     ]
    },
    {
     "data": {
      "application/vnd.jupyter.widget-view+json": {
       "model_id": "dad3652a7a2f409a96a7854a4c8151d6",
       "version_major": 2,
       "version_minor": 0
      },
      "text/plain": [
       "  0%|          | 0.00/83.3M [00:00<?, ?B/s]"
      ]
     },
     "metadata": {},
     "output_type": "display_data"
    }
   ],
   "source": [
    "import torchvision\n",
    "import torchvision.transforms as transforms\n",
    "import torchvision.models as models\n",
    "#get number of input features\n",
    "#D_in = 3*5416*4040\n",
    "D_in = 1000*1000\n",
    "H = 56\n",
    "#Binary classification problem\n",
    "D_out = 1\n",
    "use_cuda = torch.cuda.is_available()\n",
    "device = torch.device(\"cuda\" if use_cuda else \"cpu\")\n",
    "print(\"Running on device: \", device)\n",
    "'''\n",
    "net = torch.nn.Sequential(\n",
    "        torch.nn.Linear(D_in, H),  \n",
    "        torch.nn.ReLU(),\n",
    "        torch.nn.Linear(H, H),\n",
    "        torch.nn.ReLU(),\n",
    "        torch.nn.Linear(H, D_out),\n",
    "        torch.nn.Sigmoid()\n",
    ")\n",
    "'''\n",
    "class model(nn.Module): # 2 types: real, fake\n",
    "    def __init__(self, backbone): # positive parameter means grl or not, True: not grl\n",
    "        super(model, self).__init__()\n",
    "        # self.convert = nn.Conv2d(1, 3, 2)\n",
    "        self.backbone = backbone\n",
    "        self.classifier = nn.Sequential(\n",
    "            nn.Linear(1000, 1),\n",
    "            nn.Sigmoid(),\n",
    "        )\n",
    "\n",
    "    def forward(self, x):\n",
    "        # print('ori = ', x.shape)\n",
    "        # x = self.convert(x)\n",
    "        # print(x.shape)\n",
    "        x = self.backbone(x)\n",
    "      \n",
    "        x = self.classifier(x)\n",
    "\n",
    "        return x\n",
    "\n",
    "#backbone = torchvision.models.resnet18(pretrained=True)\n",
    "backbone = torchvision.models.resnet34(pretrained=True)\n",
    "#下面這個model更猛，但你可能跑不動\n",
    "#backbone = torchvision.models.resnext101_32x8d(pretrained=True)\n",
    "\n",
    "my_model = model(backbone)\n",
    "\n",
    "# move the model to device (i.e., cpu or gpu)\n",
    "my_model = my_model.to(device)"
   ]
  },
  {
   "cell_type": "code",
   "execution_count": null,
   "metadata": {
    "id": "CkMQ3yhxX_8l"
   },
   "outputs": [],
   "source": [
    "# define the optimizer\n",
    "optimizer = torch.optim.Adam(my_model.parameters(), lr=0.0001)\n",
    "# Binary Cross Entropy Loss\n",
    "loss_fn = torch.nn.BCELoss()\n",
    "#loss_fn = nn.BCEWithLogitsLoss()"
   ]
  },
  {
   "cell_type": "code",
   "execution_count": null,
   "metadata": {
    "colab": {
     "background_save": true,
     "base_uri": "https://localhost:8080/"
    },
    "id": "2NfDaXZDkgDq",
    "outputId": "83b660ba-5344-466b-a143-812369e5f7dd"
   },
   "outputs": [
    {
     "name": "stdout",
     "output_type": "stream",
     "text": [
      "Calculating Loss...\n",
      "Epoch 0 Batch 10: trainingLoss = 0.794, validationLoss = 0.672 (minibatch size = 16)\n",
      "Calculating Loss...\n",
      "Epoch 0 Batch 20: trainingLoss = 0.750, validationLoss = 0.794 (minibatch size = 16)\n",
      "Calculating Loss...\n",
      "Epoch 0 Batch 30: trainingLoss = 0.694, validationLoss = 0.467 (minibatch size = 16)\n",
      "Oh yah\n",
      "Calculating Loss...\n",
      "Epoch 0 Batch 40: trainingLoss = 0.697, validationLoss = 0.719 (minibatch size = 16)\n",
      "Calculating Loss...\n",
      "Epoch 0 Batch 50: trainingLoss = 0.683, validationLoss = 0.723 (minibatch size = 16)\n",
      "Calculating Loss...\n",
      "Epoch 0 Batch 60: trainingLoss = 0.668, validationLoss = 0.549 (minibatch size = 16)\n",
      "Calculating Loss...\n",
      "Epoch 0 Batch 70: trainingLoss = 0.650, validationLoss = 1.016 (minibatch size = 16)\n",
      "Calculating Loss...\n",
      "Epoch 0 Batch 80: trainingLoss = 0.628, validationLoss = 0.603 (minibatch size = 16)\n",
      "Calculating Loss...\n",
      "Epoch 0 Batch 90: trainingLoss = 0.633, validationLoss = 2.140 (minibatch size = 16)\n",
      "Calculating Loss...\n",
      "Epoch 0 Batch 100: trainingLoss = 0.632, validationLoss = 1.568 (minibatch size = 16)\n",
      "Calculating Loss...\n",
      "Epoch 0 Batch 110: trainingLoss = 0.628, validationLoss = 0.991 (minibatch size = 16)\n",
      "Calculating Loss...\n",
      "Epoch 0 Batch 120: trainingLoss = 0.624, validationLoss = 0.475 (minibatch size = 16)\n",
      "Calculating Loss...\n",
      "Epoch 0 Batch 130: trainingLoss = 0.622, validationLoss = 1.063 (minibatch size = 16)\n",
      "Calculating Loss...\n",
      "Epoch 0 Batch 140: trainingLoss = 0.613, validationLoss = 0.808 (minibatch size = 16)\n",
      "Calculating Loss...\n",
      "Epoch 0 Batch 150: trainingLoss = 0.610, validationLoss = 0.430 (minibatch size = 16)\n",
      "Oh yah\n",
      "Calculating Loss...\n",
      "Epoch 0 Batch 160: trainingLoss = 0.604, validationLoss = 1.017 (minibatch size = 16)\n",
      "Calculating Loss...\n",
      "Epoch 0 Batch 170: trainingLoss = 0.601, validationLoss = 1.275 (minibatch size = 16)\n",
      "Calculating Loss...\n",
      "Epoch 0 Batch 180: trainingLoss = 0.601, validationLoss = 0.417 (minibatch size = 16)\n",
      "Oh yah\n",
      "Calculating Loss...\n",
      "Epoch 0 Batch 190: trainingLoss = 0.600, validationLoss = 0.385 (minibatch size = 16)\n",
      "Oh yah\n",
      "Calculating Loss...\n",
      "Epoch 0 Batch 200: trainingLoss = 0.601, validationLoss = 0.759 (minibatch size = 16)\n",
      "Calculating Loss...\n",
      "Epoch 0 Batch 210: trainingLoss = 0.598, validationLoss = 0.492 (minibatch size = 16)\n",
      "Calculating Loss...\n",
      "Epoch 0 Batch 220: trainingLoss = 0.597, validationLoss = 0.452 (minibatch size = 16)\n",
      "Calculating Loss...\n",
      "Epoch 0 Batch 230: trainingLoss = 0.595, validationLoss = 0.519 (minibatch size = 16)\n",
      "Calculating Loss...\n",
      "Epoch 0 Batch 240: trainingLoss = 0.593, validationLoss = 0.434 (minibatch size = 16)\n",
      "Calculating Loss...\n",
      "Epoch 0 Batch 250: trainingLoss = 0.592, validationLoss = 0.651 (minibatch size = 16)\n",
      "Calculating Loss...\n",
      "Epoch 0 Batch 260: trainingLoss = 0.590, validationLoss = 1.656 (minibatch size = 16)\n",
      "Calculating Loss...\n",
      "Epoch 0 Batch 270: trainingLoss = 0.591, validationLoss = 0.690 (minibatch size = 16)\n",
      "Calculating Loss...\n",
      "Epoch 0 Batch 280: trainingLoss = 0.591, validationLoss = 2.218 (minibatch size = 16)\n",
      "Calculating Loss...\n",
      "Epoch 0 Batch 290: trainingLoss = 0.588, validationLoss = 0.447 (minibatch size = 16)\n",
      "Calculating Loss...\n",
      "Epoch 0 Batch 300: trainingLoss = 0.591, validationLoss = 0.786 (minibatch size = 16)\n",
      "Calculating Loss...\n",
      "Epoch 0 Batch 310: trainingLoss = 0.590, validationLoss = 0.963 (minibatch size = 16)\n",
      "Calculating Loss...\n",
      "Epoch 1 Batch 320: trainingLoss = 0.585, validationLoss = 0.662 (minibatch size = 16)\n",
      "Calculating Loss...\n",
      "Epoch 1 Batch 330: trainingLoss = 0.585, validationLoss = 0.390 (minibatch size = 16)\n",
      "Calculating Loss...\n",
      "Epoch 1 Batch 340: trainingLoss = 0.583, validationLoss = 0.770 (minibatch size = 16)\n",
      "Calculating Loss...\n",
      "Epoch 1 Batch 350: trainingLoss = 0.582, validationLoss = 0.474 (minibatch size = 16)\n",
      "Calculating Loss...\n",
      "Epoch 1 Batch 360: trainingLoss = 0.580, validationLoss = 0.524 (minibatch size = 16)\n",
      "Calculating Loss...\n",
      "Epoch 1 Batch 370: trainingLoss = 0.577, validationLoss = 0.746 (minibatch size = 16)\n",
      "Calculating Loss...\n",
      "Epoch 1 Batch 380: trainingLoss = 0.574, validationLoss = 0.559 (minibatch size = 16)\n",
      "Calculating Loss...\n",
      "Epoch 1 Batch 390: trainingLoss = 0.571, validationLoss = 0.433 (minibatch size = 16)\n",
      "Calculating Loss...\n",
      "Epoch 1 Batch 400: trainingLoss = 0.569, validationLoss = 0.452 (minibatch size = 16)\n",
      "Calculating Loss...\n",
      "Epoch 1 Batch 410: trainingLoss = 0.567, validationLoss = 0.810 (minibatch size = 16)\n",
      "Calculating Loss...\n",
      "Epoch 1 Batch 420: trainingLoss = 0.566, validationLoss = 1.001 (minibatch size = 16)\n",
      "Calculating Loss...\n",
      "Epoch 1 Batch 430: trainingLoss = 0.564, validationLoss = 0.881 (minibatch size = 16)\n",
      "Calculating Loss...\n",
      "Epoch 1 Batch 440: trainingLoss = 0.562, validationLoss = 0.430 (minibatch size = 16)\n",
      "Calculating Loss...\n",
      "Epoch 1 Batch 450: trainingLoss = 0.561, validationLoss = 0.446 (minibatch size = 16)\n",
      "Calculating Loss...\n",
      "Epoch 1 Batch 460: trainingLoss = 0.559, validationLoss = 1.237 (minibatch size = 16)\n",
      "Calculating Loss...\n",
      "Epoch 1 Batch 470: trainingLoss = 0.558, validationLoss = 0.523 (minibatch size = 16)\n",
      "Calculating Loss...\n",
      "Epoch 1 Batch 480: trainingLoss = 0.556, validationLoss = 0.435 (minibatch size = 16)\n",
      "Calculating Loss...\n",
      "Epoch 1 Batch 490: trainingLoss = 0.554, validationLoss = 0.496 (minibatch size = 16)\n",
      "Calculating Loss...\n",
      "Epoch 1 Batch 500: trainingLoss = 0.552, validationLoss = 0.437 (minibatch size = 16)\n",
      "Calculating Loss...\n",
      "Epoch 1 Batch 510: trainingLoss = 0.550, validationLoss = 0.648 (minibatch size = 16)\n",
      "Calculating Loss...\n",
      "Epoch 1 Batch 520: trainingLoss = 0.552, validationLoss = 0.691 (minibatch size = 16)\n",
      "Calculating Loss...\n",
      "Epoch 1 Batch 530: trainingLoss = 0.551, validationLoss = 0.476 (minibatch size = 16)\n",
      "Calculating Loss...\n",
      "Epoch 1 Batch 540: trainingLoss = 0.550, validationLoss = 0.380 (minibatch size = 16)\n",
      "Oh yah\n",
      "Calculating Loss...\n",
      "Epoch 1 Batch 550: trainingLoss = 0.548, validationLoss = 0.704 (minibatch size = 16)\n",
      "Calculating Loss...\n",
      "Epoch 1 Batch 560: trainingLoss = 0.546, validationLoss = 0.826 (minibatch size = 16)\n",
      "Calculating Loss...\n",
      "Epoch 1 Batch 570: trainingLoss = 0.544, validationLoss = 0.454 (minibatch size = 16)\n",
      "Calculating Loss...\n",
      "Epoch 1 Batch 580: trainingLoss = 0.543, validationLoss = 0.417 (minibatch size = 16)\n",
      "Calculating Loss...\n",
      "Epoch 1 Batch 590: trainingLoss = 0.541, validationLoss = 0.639 (minibatch size = 16)\n",
      "Calculating Loss...\n",
      "Epoch 1 Batch 600: trainingLoss = 0.540, validationLoss = 0.626 (minibatch size = 16)\n",
      "Calculating Loss...\n",
      "Epoch 1 Batch 610: trainingLoss = 0.539, validationLoss = 0.788 (minibatch size = 16)\n",
      "Calculating Loss...\n",
      "Epoch 1 Batch 620: trainingLoss = 0.538, validationLoss = 0.679 (minibatch size = 16)\n",
      "Calculating Loss...\n",
      "Epoch 2 Batch 630: trainingLoss = 0.537, validationLoss = 0.817 (minibatch size = 16)\n",
      "Calculating Loss...\n",
      "Epoch 2 Batch 640: trainingLoss = 0.535, validationLoss = 0.411 (minibatch size = 16)\n",
      "Calculating Loss...\n",
      "Epoch 2 Batch 650: trainingLoss = 0.535, validationLoss = 0.329 (minibatch size = 16)\n",
      "Oh yah\n",
      "Calculating Loss...\n",
      "Epoch 2 Batch 660: trainingLoss = 0.532, validationLoss = 0.496 (minibatch size = 16)\n",
      "Calculating Loss...\n",
      "Epoch 2 Batch 670: trainingLoss = 0.532, validationLoss = 0.383 (minibatch size = 16)\n",
      "Calculating Loss...\n",
      "Epoch 2 Batch 680: trainingLoss = 0.530, validationLoss = 0.514 (minibatch size = 16)\n",
      "Calculating Loss...\n",
      "Epoch 2 Batch 690: trainingLoss = 0.528, validationLoss = 0.390 (minibatch size = 16)\n",
      "Calculating Loss...\n",
      "Epoch 2 Batch 700: trainingLoss = 0.526, validationLoss = 0.670 (minibatch size = 16)\n",
      "Calculating Loss...\n",
      "Epoch 2 Batch 710: trainingLoss = 0.524, validationLoss = 1.553 (minibatch size = 16)\n",
      "Calculating Loss...\n",
      "Epoch 2 Batch 720: trainingLoss = 0.522, validationLoss = 0.911 (minibatch size = 16)\n",
      "Calculating Loss...\n",
      "Epoch 2 Batch 730: trainingLoss = 0.522, validationLoss = 0.467 (minibatch size = 16)\n",
      "Calculating Loss...\n",
      "Epoch 2 Batch 740: trainingLoss = 0.520, validationLoss = 0.412 (minibatch size = 16)\n",
      "Calculating Loss...\n",
      "Epoch 2 Batch 750: trainingLoss = 0.517, validationLoss = 0.493 (minibatch size = 16)\n",
      "Calculating Loss...\n",
      "Epoch 2 Batch 760: trainingLoss = 0.516, validationLoss = 0.486 (minibatch size = 16)\n",
      "Calculating Loss...\n",
      "Epoch 2 Batch 770: trainingLoss = 0.515, validationLoss = 0.714 (minibatch size = 16)\n",
      "Calculating Loss...\n",
      "Epoch 2 Batch 780: trainingLoss = 0.513, validationLoss = 0.477 (minibatch size = 16)\n",
      "Calculating Loss...\n",
      "Epoch 2 Batch 790: trainingLoss = 0.512, validationLoss = 0.442 (minibatch size = 16)\n",
      "Calculating Loss...\n",
      "Epoch 2 Batch 800: trainingLoss = 0.511, validationLoss = 0.641 (minibatch size = 16)\n",
      "Calculating Loss...\n",
      "Epoch 2 Batch 810: trainingLoss = 0.509, validationLoss = 0.618 (minibatch size = 16)\n",
      "Calculating Loss...\n",
      "Epoch 2 Batch 820: trainingLoss = 0.507, validationLoss = 0.413 (minibatch size = 16)\n",
      "Calculating Loss...\n",
      "Epoch 2 Batch 830: trainingLoss = 0.505, validationLoss = 0.475 (minibatch size = 16)\n",
      "Calculating Loss...\n",
      "Epoch 2 Batch 840: trainingLoss = 0.505, validationLoss = 0.482 (minibatch size = 16)\n",
      "Calculating Loss...\n",
      "Epoch 2 Batch 850: trainingLoss = 0.505, validationLoss = 0.680 (minibatch size = 16)\n",
      "Calculating Loss...\n",
      "Epoch 2 Batch 860: trainingLoss = 0.503, validationLoss = 0.411 (minibatch size = 16)\n",
      "Calculating Loss...\n",
      "Epoch 2 Batch 870: trainingLoss = 0.502, validationLoss = 0.429 (minibatch size = 16)\n",
      "Calculating Loss...\n",
      "Epoch 2 Batch 880: trainingLoss = 0.501, validationLoss = 0.386 (minibatch size = 16)\n",
      "Calculating Loss...\n",
      "Epoch 2 Batch 890: trainingLoss = 0.499, validationLoss = 0.427 (minibatch size = 16)\n",
      "Calculating Loss...\n",
      "Epoch 2 Batch 900: trainingLoss = 0.498, validationLoss = 0.932 (minibatch size = 16)\n",
      "Calculating Loss...\n",
      "Epoch 2 Batch 910: trainingLoss = 0.496, validationLoss = 0.466 (minibatch size = 16)\n",
      "Calculating Loss...\n",
      "Epoch 2 Batch 920: trainingLoss = 0.493, validationLoss = 0.482 (minibatch size = 16)\n",
      "Calculating Loss...\n",
      "Epoch 2 Batch 930: trainingLoss = 0.493, validationLoss = 0.719 (minibatch size = 16)\n",
      "Calculating Loss...\n",
      "Epoch 3 Batch 940: trainingLoss = 0.492, validationLoss = 1.371 (minibatch size = 16)\n",
      "Calculating Loss...\n",
      "Epoch 3 Batch 950: trainingLoss = 0.490, validationLoss = 0.412 (minibatch size = 16)\n",
      "Calculating Loss...\n",
      "Epoch 3 Batch 960: trainingLoss = 0.488, validationLoss = 0.537 (minibatch size = 16)\n",
      "Calculating Loss...\n",
      "Epoch 3 Batch 970: trainingLoss = 0.486, validationLoss = 0.716 (minibatch size = 16)\n",
      "Calculating Loss...\n",
      "Epoch 3 Batch 980: trainingLoss = 0.483, validationLoss = 0.417 (minibatch size = 16)\n",
      "Calculating Loss...\n",
      "Epoch 3 Batch 990: trainingLoss = 0.480, validationLoss = 0.614 (minibatch size = 16)\n",
      "Calculating Loss...\n",
      "Epoch 3 Batch 1000: trainingLoss = 0.478, validationLoss = 0.492 (minibatch size = 16)\n",
      "Calculating Loss...\n",
      "Epoch 3 Batch 1010: trainingLoss = 0.475, validationLoss = 0.490 (minibatch size = 16)\n",
      "Calculating Loss...\n",
      "Epoch 3 Batch 1020: trainingLoss = 0.473, validationLoss = 1.123 (minibatch size = 16)\n",
      "Calculating Loss...\n",
      "Epoch 3 Batch 1030: trainingLoss = 0.471, validationLoss = 0.882 (minibatch size = 16)\n",
      "Calculating Loss...\n",
      "Epoch 3 Batch 1040: trainingLoss = 0.469, validationLoss = 0.953 (minibatch size = 16)\n",
      "Calculating Loss...\n",
      "Epoch 3 Batch 1050: trainingLoss = 0.468, validationLoss = 1.407 (minibatch size = 16)\n",
      "Calculating Loss...\n",
      "Epoch 3 Batch 1060: trainingLoss = 0.467, validationLoss = 0.742 (minibatch size = 16)\n",
      "Calculating Loss...\n",
      "Epoch 3 Batch 1070: trainingLoss = 0.465, validationLoss = 0.946 (minibatch size = 16)\n",
      "Calculating Loss...\n",
      "Epoch 3 Batch 1080: trainingLoss = 0.464, validationLoss = 0.890 (minibatch size = 16)\n",
      "Calculating Loss...\n",
      "Epoch 3 Batch 1090: trainingLoss = 0.462, validationLoss = 1.096 (minibatch size = 16)\n",
      "Calculating Loss...\n",
      "Epoch 3 Batch 1100: trainingLoss = 0.463, validationLoss = 0.427 (minibatch size = 16)\n",
      "Calculating Loss...\n",
      "Epoch 3 Batch 1110: trainingLoss = 0.461, validationLoss = 0.411 (minibatch size = 16)\n",
      "Calculating Loss...\n",
      "Epoch 3 Batch 1120: trainingLoss = 0.460, validationLoss = 0.980 (minibatch size = 16)\n",
      "Calculating Loss...\n",
      "Epoch 3 Batch 1130: trainingLoss = 0.459, validationLoss = 0.447 (minibatch size = 16)\n",
      "Calculating Loss...\n",
      "Epoch 3 Batch 1140: trainingLoss = 0.457, validationLoss = 0.491 (minibatch size = 16)\n",
      "Calculating Loss...\n",
      "Epoch 3 Batch 1150: trainingLoss = 0.455, validationLoss = 0.440 (minibatch size = 16)\n",
      "Calculating Loss...\n",
      "Epoch 3 Batch 1160: trainingLoss = 0.454, validationLoss = 0.510 (minibatch size = 16)\n",
      "Calculating Loss...\n",
      "Epoch 3 Batch 1170: trainingLoss = 0.452, validationLoss = 0.500 (minibatch size = 16)\n",
      "Calculating Loss...\n",
      "Epoch 3 Batch 1180: trainingLoss = 0.451, validationLoss = 1.138 (minibatch size = 16)\n",
      "Calculating Loss...\n",
      "Epoch 3 Batch 1190: trainingLoss = 0.450, validationLoss = 0.673 (minibatch size = 16)\n",
      "Calculating Loss...\n",
      "Epoch 3 Batch 1200: trainingLoss = 0.449, validationLoss = 0.703 (minibatch size = 16)\n",
      "Calculating Loss...\n",
      "Epoch 3 Batch 1210: trainingLoss = 0.448, validationLoss = 0.581 (minibatch size = 16)\n",
      "Calculating Loss...\n",
      "Epoch 3 Batch 1220: trainingLoss = 0.446, validationLoss = 0.514 (minibatch size = 16)\n",
      "Calculating Loss...\n",
      "Epoch 3 Batch 1230: trainingLoss = 0.445, validationLoss = 0.486 (minibatch size = 16)\n",
      "Calculating Loss...\n",
      "Epoch 3 Batch 1240: trainingLoss = 0.444, validationLoss = 0.607 (minibatch size = 16)\n",
      "Calculating Loss...\n",
      "Epoch 4 Batch 1250: trainingLoss = 0.443, validationLoss = 0.482 (minibatch size = 16)\n",
      "Calculating Loss...\n",
      "Epoch 4 Batch 1260: trainingLoss = 0.442, validationLoss = 0.856 (minibatch size = 16)\n",
      "Calculating Loss...\n",
      "Epoch 4 Batch 1270: trainingLoss = 0.440, validationLoss = 0.436 (minibatch size = 16)\n",
      "Calculating Loss...\n",
      "Epoch 4 Batch 1280: trainingLoss = 0.437, validationLoss = 0.494 (minibatch size = 16)\n",
      "Calculating Loss...\n",
      "Epoch 4 Batch 1290: trainingLoss = 0.435, validationLoss = 1.657 (minibatch size = 16)\n",
      "Calculating Loss...\n",
      "Epoch 4 Batch 1300: trainingLoss = 0.434, validationLoss = 0.632 (minibatch size = 16)\n",
      "Calculating Loss...\n",
      "Epoch 4 Batch 1310: trainingLoss = 0.432, validationLoss = 0.435 (minibatch size = 16)\n",
      "Calculating Loss...\n",
      "Epoch 4 Batch 1320: trainingLoss = 0.430, validationLoss = 0.537 (minibatch size = 16)\n",
      "Calculating Loss...\n",
      "Epoch 4 Batch 1330: trainingLoss = 0.429, validationLoss = 0.649 (minibatch size = 16)\n",
      "Calculating Loss...\n",
      "Epoch 4 Batch 1340: trainingLoss = 0.428, validationLoss = 0.485 (minibatch size = 16)\n",
      "Calculating Loss...\n",
      "Epoch 4 Batch 1350: trainingLoss = 0.426, validationLoss = 0.508 (minibatch size = 16)\n",
      "Calculating Loss...\n",
      "Epoch 4 Batch 1360: trainingLoss = 0.424, validationLoss = 0.832 (minibatch size = 16)\n",
      "Calculating Loss...\n",
      "Epoch 4 Batch 1370: trainingLoss = 0.422, validationLoss = 0.937 (minibatch size = 16)\n",
      "Calculating Loss...\n",
      "Epoch 4 Batch 1380: trainingLoss = 0.421, validationLoss = 0.706 (minibatch size = 16)\n",
      "Calculating Loss...\n",
      "Epoch 4 Batch 1390: trainingLoss = 0.419, validationLoss = 0.885 (minibatch size = 16)\n",
      "Calculating Loss...\n",
      "Epoch 4 Batch 1400: trainingLoss = 0.418, validationLoss = 0.645 (minibatch size = 16)\n",
      "Calculating Loss...\n",
      "Epoch 4 Batch 1410: trainingLoss = 0.416, validationLoss = 0.568 (minibatch size = 16)\n",
      "Calculating Loss...\n",
      "Epoch 4 Batch 1420: trainingLoss = 0.414, validationLoss = 1.194 (minibatch size = 16)\n",
      "Calculating Loss...\n",
      "Epoch 4 Batch 1430: trainingLoss = 0.413, validationLoss = 0.639 (minibatch size = 16)\n",
      "Calculating Loss...\n",
      "Epoch 4 Batch 1440: trainingLoss = 0.411, validationLoss = 0.554 (minibatch size = 16)\n",
      "Calculating Loss...\n",
      "Epoch 4 Batch 1450: trainingLoss = 0.409, validationLoss = 0.974 (minibatch size = 16)\n",
      "Calculating Loss...\n",
      "Epoch 4 Batch 1460: trainingLoss = 0.408, validationLoss = 1.974 (minibatch size = 16)\n",
      "Calculating Loss...\n",
      "Epoch 4 Batch 1470: trainingLoss = 0.407, validationLoss = 1.492 (minibatch size = 16)\n",
      "Calculating Loss...\n",
      "Epoch 4 Batch 1480: trainingLoss = 0.406, validationLoss = 0.930 (minibatch size = 16)\n",
      "Calculating Loss...\n",
      "Epoch 4 Batch 1490: trainingLoss = 0.405, validationLoss = 0.971 (minibatch size = 16)\n",
      "Calculating Loss...\n",
      "Epoch 4 Batch 1500: trainingLoss = 0.404, validationLoss = 0.597 (minibatch size = 16)\n",
      "Calculating Loss...\n",
      "Epoch 4 Batch 1510: trainingLoss = 0.403, validationLoss = 0.550 (minibatch size = 16)\n",
      "Calculating Loss...\n",
      "Epoch 4 Batch 1520: trainingLoss = 0.402, validationLoss = 0.470 (minibatch size = 16)\n",
      "Calculating Loss...\n",
      "Epoch 4 Batch 1530: trainingLoss = 0.401, validationLoss = 1.001 (minibatch size = 16)\n",
      "Calculating Loss...\n",
      "Epoch 4 Batch 1540: trainingLoss = 0.400, validationLoss = 0.560 (minibatch size = 16)\n",
      "Calculating Loss...\n",
      "Epoch 4 Batch 1550: trainingLoss = 0.398, validationLoss = 0.763 (minibatch size = 16)\n",
      "Calculating Loss...\n",
      "Epoch 5 Batch 1560: trainingLoss = 0.397, validationLoss = 0.658 (minibatch size = 16)\n",
      "Calculating Loss...\n",
      "Epoch 5 Batch 1570: trainingLoss = 0.395, validationLoss = 0.531 (minibatch size = 16)\n",
      "Calculating Loss...\n",
      "Epoch 5 Batch 1580: trainingLoss = 0.393, validationLoss = 0.605 (minibatch size = 16)\n",
      "Calculating Loss...\n",
      "Epoch 5 Batch 1590: trainingLoss = 0.391, validationLoss = 0.543 (minibatch size = 16)\n",
      "Calculating Loss...\n",
      "Epoch 5 Batch 1600: trainingLoss = 0.389, validationLoss = 0.669 (minibatch size = 16)\n",
      "Calculating Loss...\n",
      "Epoch 5 Batch 1610: trainingLoss = 0.387, validationLoss = 0.626 (minibatch size = 16)\n",
      "Calculating Loss...\n",
      "Epoch 5 Batch 1620: trainingLoss = 0.385, validationLoss = 0.937 (minibatch size = 16)\n",
      "Calculating Loss...\n",
      "Epoch 5 Batch 1630: trainingLoss = 0.383, validationLoss = 0.889 (minibatch size = 16)\n",
      "Calculating Loss...\n",
      "Epoch 5 Batch 1640: trainingLoss = 0.381, validationLoss = 0.712 (minibatch size = 16)\n",
      "Calculating Loss...\n",
      "Epoch 5 Batch 1650: trainingLoss = 0.380, validationLoss = 1.293 (minibatch size = 16)\n",
      "early stop1\n",
      "early stop2\n"
     ]
    }
   ],
   "source": [
    "nepoch = 100\n",
    "step_count = 0\n",
    "log_interval = 10\n",
    "#trainingAccuracy_list = []\n",
    "#validationAccuracy_list = []\n",
    "trainingloss_list = []\n",
    "validloss_list = []\n",
    "step_count_list = []\n",
    "#train_ncorrect = 0\n",
    "#train_test_nobs = 0\n",
    "cumulative_loss = 0\n",
    "countdown = 100\n",
    "\n",
    "\n",
    "for epoch_id in range(0, nepoch):    \n",
    "    if countdown == 0:\n",
    "        print(\"early stop2\")\n",
    "        break  \n",
    "    for batch_idx, (inputs, targets) in enumerate(subtrain_loader):\n",
    "        #reshape target to two-dimensional array\n",
    "        targets = targets.reshape((-1, 1))\n",
    "        step_count += 1        \n",
    "        my_model.train()\n",
    "        #print(inputs)\n",
    "        #print(targets)\n",
    "        inputs, targets = inputs.to(device), targets.to(device)\n",
    "      \n",
    "        optimizer.zero_grad()\n",
    "        outputs = my_model(inputs)   \n",
    "        targets = targets.float()\n",
    "        loss = loss_fn(outputs, targets)\n",
    "        cumulative_loss += loss\n",
    "\n",
    "        #train_pred = (outputs.cpu().detach().numpy() > 0.5).astype('float32')\n",
    "        #train_tmp_correct = (train_pred == targets.cpu().detach().numpy()).sum()\n",
    "        #train_ncorrect += train_tmp_correct\n",
    "        #train_test_nobs += len(train_pred) \n",
    "  \n",
    "        loss.backward()\n",
    "        optimizer.step()\n",
    "        #if step_count % log_interval == 0: \n",
    "        if step_count % log_interval == 0:\n",
    "            step_count_list.append(step_count)\n",
    "            #trainingAccuracy = train_ncorrect / train_test_nobs\n",
    "            #valid_ncorrect = 0\n",
    "            #valid_test_nobs = 0\n",
    "            validoutputs_list = []\n",
    "            validtargets_list = []\n",
    "            with torch.no_grad():\n",
    "              for i, (validinputs, validtargets) in enumerate(valid_loader):\n",
    "                if i == 0:\n",
    "                  print(\"Calculating Loss...\")\n",
    "                my_model.eval()\n",
    "                validtargets = validtargets.reshape((-1, 1))\n",
    "                validinputs, validtargets = validinputs.to(device), validtargets.to(device)\n",
    "                validoutputs = my_model(validinputs) \n",
    "                validtargets = validtargets.float()\n",
    "                validoutputs_list.append(validoutputs)\n",
    "                validtargets_list.append(validtargets)\n",
    "                #valid_pred = (validoutputs.cpu().detach().numpy() > 0.5).astype('float32')\n",
    "                #valid_tmp_correct = (valid_pred == validtargets.cpu().detach().numpy()).sum()\n",
    "                #valid_ncorrect += valid_tmp_correct\n",
    "                #valid_test_nobs += len(valid_pred) \n",
    "            #validationAccuracy = valid_ncorrect / valid_test_nobs\n",
    "            validoutputs_array = np.array(validoutputs_list)\n",
    "            for i in range(len(validoutputs_array)):\n",
    "              validoutputs_array[i] = validoutputs_array[i].to(\"cpu\")\n",
    "              validoutputs_array[i] = validoutputs_array[i].numpy()\n",
    "            full_valid_outputs = np.concatenate(validoutputs_array, axis=0 )\n",
    "            validtargets_array = np.array(validtargets_list)\n",
    "            for i in range(len(validtargets_array)):\n",
    "              validtargets_array[i] = validtargets_array[i].to(\"cpu\")\n",
    "              validtargets_array[i] = validtargets_array[i].numpy()\n",
    "            full_valid_targets = np.concatenate(validtargets_array, axis=0 )\n",
    "            validloss = loss_fn(torch.tensor(full_valid_outputs), torch.tensor(full_valid_targets))\n",
    "            trainingloss = cumulative_loss / step_count\n",
    "            #trainingAccuracy_list.append(trainingAccuracy)\n",
    "            #validationAccuracy_list.append(validationAccuracy)\n",
    "            trainingloss_list.append(trainingloss.item())\n",
    "            validloss_list.append(validloss.item())\n",
    "            print(\"Epoch %d Batch %d: trainingLoss = %.3f, validationLoss = %.3f (minibatch size = %d)\" % (epoch_id, step_count, trainingloss.item(), validloss.item(), len(targets)))\n",
    "            #print(\"Epoch %d Batch %d: trainingAccuracy = %.3f, validationAccuracy = %.3f (minibatch size = %d)\" % (epoch_id, step_count, trainingAccuracy, validationAccuracy, len(targets)))        \n",
    "            if step_count < 20:\n",
    "                before_lowestloss = validloss\n",
    "                PATH = './resnet34.pth' #save model\n",
    "                torch.save(my_model.state_dict(), PATH)\n",
    "                !cp resnet34.pth \"drive/My Drive\"\n",
    "            elif step_count >=20:\n",
    "                if validloss < before_lowestloss:\n",
    "                    print(\"Oh yah\") #爽啦，進步了！\n",
    "                    PATH = './resnet34.pth' #save model\n",
    "                    torch.save(my_model.state_dict(), PATH)\n",
    "                    !cp resnet34.pth \"drive/My Drive\"\n",
    "                    before_lowestloss = validloss\n",
    "                    countdown = 100 #經過1000個batch相當於經過100個10個batch\n",
    "                else:\n",
    "                    countdown -= 1\n",
    "            if countdown == 0:\n",
    "                print(\"early stop1\") #好了啦\n",
    "                break"
   ]
  },
  {
   "cell_type": "code",
   "execution_count": null,
   "metadata": {
    "colab": {
     "background_save": true
    },
    "id": "xZj_j70MMIJY",
    "outputId": "6d064865-9da0-428a-b8ac-b33a51fc1617"
   },
   "outputs": [
    {
     "data": {
      "text/plain": [
       "<All keys matched successfully>"
      ]
     },
     "execution_count": null,
     "metadata": {},
     "output_type": "execute_result"
    }
   ],
   "source": [
    "my_model.load_state_dict(torch.load(PATH)) #use the saved model to test"
   ]
  },
  {
   "cell_type": "code",
   "execution_count": null,
   "metadata": {
    "colab": {
     "background_save": true
    },
    "id": "N8TmsQyTLq3b",
    "outputId": "be47d1d7-1468-4aa5-af8b-18673649e5db"
   },
   "outputs": [
    {
     "name": "stdout",
     "output_type": "stream",
     "text": [
      "Doing model testing...\n",
      "Test loss = 0.355\n",
      "Accuracy = 0.874\n"
     ]
    }
   ],
   "source": [
    "my_model.eval()\n",
    "print(\"Doing model testing...\")\n",
    "test_nobs = 0\n",
    "ncorrect = 0\n",
    "pred_list = []\n",
    "true_list = []\n",
    "outputs_list = []\n",
    "targets_list = []\n",
    "with torch.no_grad():\n",
    "    for batch_idx, (inputs, targets) in enumerate(test_loader):            \n",
    "        inputs, targets = inputs.to(device), targets.to(device)\n",
    "        targets = targets.reshape((-1, 1))\n",
    "        outputs = my_model(inputs)\n",
    "        targets = targets.float()\n",
    "        outputs_list.append(outputs)\n",
    "        targets_list.append(targets)              \n",
    "        pred = (outputs.cpu().numpy() > 0.5).astype('float32')\n",
    "        pred_list.extend(pred.flatten().tolist())\n",
    "        true_list.extend(targets.flatten().tolist())\n",
    "        tmp_correct = (pred == targets.cpu().numpy()).sum()\n",
    "        ncorrect += tmp_correct\n",
    "        test_nobs += len(pred)        \n",
    "accuracy = ncorrect / test_nobs\n",
    "#print(np.array(outputs_list))\n",
    "#print(np.array(outputs_list).shape)\n",
    "#print(np.array(targets_list))\n",
    "#print(np.array(targets_list).shape)\n",
    "outputs_array = np.array(outputs_list)\n",
    "for i in range(len(outputs_array)):\n",
    "  outputs_array[i] = outputs_array[i].to(\"cpu\")\n",
    "  outputs_array[i] = outputs_array[i].numpy()\n",
    "full_test_outputs = np.concatenate(outputs_array, axis=0 )\n",
    "targets_array = np.array(targets_list)\n",
    "for i in range(len(targets_array)):\n",
    "  targets_array[i] = targets_array[i].to(\"cpu\")\n",
    "  targets_array[i] = targets_array[i].numpy()\n",
    "full_test_targets = np.concatenate(targets_array, axis=0 )\n",
    "testloss = loss_fn(torch.tensor(full_test_outputs), torch.tensor(full_test_targets))\n",
    "print(\"Test loss = %.3f\" % testloss.item())\n",
    "print(\"Accuracy = %.3f\" % accuracy)\n"
   ]
  },
  {
   "cell_type": "code",
   "execution_count": null,
   "metadata": {
    "colab": {
     "background_save": true
    },
    "id": "gfsVHWPeL284",
    "outputId": "1b6ccf4b-3f45-46b7-ecc0-c073f5506cb5"
   },
   "outputs": [
    {
     "name": "stdout",
     "output_type": "stream",
     "text": [
      "              precision    recall  f1-score   support\n",
      "\n",
      "         0.0       0.90      0.97      0.93       359\n",
      "         1.0       0.31      0.11      0.16        45\n",
      "\n",
      "    accuracy                           0.87       404\n",
      "   macro avg       0.60      0.54      0.55       404\n",
      "weighted avg       0.83      0.87      0.85       404\n",
      "\n",
      "AUC: 0.5402352212937171\n"
     ]
    }
   ],
   "source": [
    "from sklearn import metrics\n",
    "from sklearn.metrics import roc_auc_score\n",
    "print(metrics.classification_report(true_list, pred_list))\n",
    "print(\"AUC:\",roc_auc_score(true_list, pred_list))"
   ]
  },
  {
   "cell_type": "code",
   "execution_count": null,
   "metadata": {
    "colab": {
     "background_save": true
    },
    "id": "2NGsfRMNGzPq"
   },
   "outputs": [],
   "source": [
    "!cp resnet34.pth \"drive/My Drive\""
   ]
  },
  {
   "cell_type": "code",
   "execution_count": null,
   "metadata": {
    "colab": {
     "background_save": true
    },
    "id": "00G4oBcjxDL-",
    "outputId": "1e2155b8-1880-4b3b-96c7-4470339bf7fb"
   },
   "outputs": [
    {
     "data": {
      "image/png": "[encoded data removed]",
      "text/plain": [
       "<Figure size 432x288 with 1 Axes>"
      ]
     },
     "metadata": {},
     "output_type": "display_data"
    }
   ],
   "source": [
    "import matplotlib.pyplot as plt\n",
    "plt.plot(step_count_list, trainingloss_list, label = \"training loss\")\n",
    "plt.plot(step_count_list, validloss_list, label = \"validation loss\")\n",
    "plt.legend()\n",
    "plt.show()"
   ]
  },
  {
   "cell_type": "code",
   "execution_count": null,
   "metadata": {
    "colab": {
     "background_save": true
    },
    "id": "rOR2S8pGpdry",
    "outputId": "75f4a9ee-e87c-4b78-a810-8d73b5aa8719"
   },
   "outputs": [
    {
     "data": {
      "image/png": "[encoded data removed]",
      "text/plain": [
       "<Figure size 432x288 with 2 Axes>"
      ]
     },
     "metadata": {},
     "output_type": "display_data"
    }
   ],
   "source": [
    "import matplotlib.pyplot as plt\n",
    "from sklearn.metrics import ConfusionMatrixDisplay\n",
    "ConfusionMatrixDisplay.from_predictions(true_list, pred_list)\n",
    "\n",
    "plt.show()\n"
   ]
  }
 ],
 "metadata": {
  "accelerator": "GPU",
  "colab": {
   "background_execution": "on",
   "collapsed_sections": [],
   "name": "Pytorch_Image_Classification_resnet18_FinalRun.ipynb",
   "provenance": []
  },
  "kernelspec": {
   "display_name": "Python 3 (ipykernel)",
   "language": "python",
   "name": "python3"
  },
  "language_info": {
   "codemirror_mode": {
    "name": "ipython",
    "version": 3
   },
   "file_extension": ".py",
   "mimetype": "text/x-python",
   "name": "python",
   "nbconvert_exporter": "python",
   "pygments_lexer": "ipython3",
   "version": "3.9.7"
  },
  "widgets": {
   "application/vnd.jupyter.widget-state+json": {
    "14896a651eeb43d48270802a2bab6b81": {
     "model_module": "@jupyter-widgets/controls",
     "model_module_version": "1.5.0",
     "model_name": "DescriptionStyleModel",
     "state": {
      "_model_module": "@jupyter-widgets/controls",
      "_model_module_version": "1.5.0",
      "_model_name": "DescriptionStyleModel",
      "_view_count": null,
      "_view_module": "@jupyter-widgets/base",
      "_view_module_version": "1.2.0",
      "_view_name": "StyleView",
      "description_width": ""
     }
    },
    "27a63471f5594559b00cb69a84655a14": {
     "model_module": "@jupyter-widgets/base",
     "model_module_version": "1.2.0",
     "model_name": "LayoutModel",
     "state": {
      "_model_module": "@jupyter-widgets/base",
      "_model_module_version": "1.2.0",
      "_model_name": "LayoutModel",
      "_view_count": null,
      "_view_module": "@jupyter-widgets/base",
      "_view_module_version": "1.2.0",
      "_view_name": "LayoutView",
      "align_content": null,
      "align_items": null,
      "align_self": null,
      "border": null,
      "bottom": null,
      "display": null,
      "flex": null,
      "flex_flow": null,
      "grid_area": null,
      "grid_auto_columns": null,
      "grid_auto_flow": null,
      "grid_auto_rows": null,
      "grid_column": null,
      "grid_gap": null,
      "grid_row": null,
      "grid_template_areas": null,
      "grid_template_columns": null,
      "grid_template_rows": null,
      "height": null,
      "justify_content": null,
      "justify_items": null,
      "left": null,
      "margin": null,
      "max_height": null,
      "max_width": null,
      "min_height": null,
      "min_width": null,
      "object_fit": null,
      "object_position": null,
      "order": null,
      "overflow": null,
      "overflow_x": null,
      "overflow_y": null,
      "padding": null,
      "right": null,
      "top": null,
      "visibility": null,
      "width": null
     }
    },
    "32e97e0cd76a4222a1e6e1aafa3e01a0": {
     "model_module": "@jupyter-widgets/controls",
     "model_module_version": "1.5.0",
     "model_name": "FloatProgressModel",
     "state": {
      "_dom_classes": [],
      "_model_module": "@jupyter-widgets/controls",
      "_model_module_version": "1.5.0",
      "_model_name": "FloatProgressModel",
      "_view_count": null,
      "_view_module": "@jupyter-widgets/controls",
      "_view_module_version": "1.5.0",
      "_view_name": "ProgressView",
      "bar_style": "success",
      "description": "",
      "description_tooltip": null,
      "layout": "IPY_MODEL_4b54a47613d946ac9abbdcba7948a7f5",
      "max": 87319819,
      "min": 0,
      "orientation": "horizontal",
      "style": "IPY_MODEL_8a885133769448418798eef71dae1569",
      "value": 87319819
     }
    },
    "422b949ceea34d17832f861a32c2f9cc": {
     "model_module": "@jupyter-widgets/controls",
     "model_module_version": "1.5.0",
     "model_name": "DescriptionStyleModel",
     "state": {
      "_model_module": "@jupyter-widgets/controls",
      "_model_module_version": "1.5.0",
      "_model_name": "DescriptionStyleModel",
      "_view_count": null,
      "_view_module": "@jupyter-widgets/base",
      "_view_module_version": "1.2.0",
      "_view_name": "StyleView",
      "description_width": ""
     }
    },
    "471c08677c824f6a98ef09999bdcc974": {
     "model_module": "@jupyter-widgets/controls",
     "model_module_version": "1.5.0",
     "model_name": "HTMLModel",
     "state": {
      "_dom_classes": [],
      "_model_module": "@jupyter-widgets/controls",
      "_model_module_version": "1.5.0",
      "_model_name": "HTMLModel",
      "_view_count": null,
      "_view_module": "@jupyter-widgets/controls",
      "_view_module_version": "1.5.0",
      "_view_name": "HTMLView",
      "description": "",
      "description_tooltip": null,
      "layout": "IPY_MODEL_27a63471f5594559b00cb69a84655a14",
      "placeholder": "​",
      "style": "IPY_MODEL_422b949ceea34d17832f861a32c2f9cc",
      "value": "100%"
     }
    },
    "4b54a47613d946ac9abbdcba7948a7f5": {
     "model_module": "@jupyter-widgets/base",
     "model_module_version": "1.2.0",
     "model_name": "LayoutModel",
     "state": {
      "_model_module": "@jupyter-widgets/base",
      "_model_module_version": "1.2.0",
      "_model_name": "LayoutModel",
      "_view_count": null,
      "_view_module": "@jupyter-widgets/base",
      "_view_module_version": "1.2.0",
      "_view_name": "LayoutView",
      "align_content": null,
      "align_items": null,
      "align_self": null,
      "border": null,
      "bottom": null,
      "display": null,
      "flex": null,
      "flex_flow": null,
      "grid_area": null,
      "grid_auto_columns": null,
      "grid_auto_flow": null,
      "grid_auto_rows": null,
      "grid_column": null,
      "grid_gap": null,
      "grid_row": null,
      "grid_template_areas": null,
      "grid_template_columns": null,
      "grid_template_rows": null,
      "height": null,
      "justify_content": null,
      "justify_items": null,
      "left": null,
      "margin": null,
      "max_height": null,
      "max_width": null,
      "min_height": null,
      "min_width": null,
      "object_fit": null,
      "object_position": null,
      "order": null,
      "overflow": null,
      "overflow_x": null,
      "overflow_y": null,
      "padding": null,
      "right": null,
      "top": null,
      "visibility": null,
      "width": null
     }
    },
    "8a885133769448418798eef71dae1569": {
     "model_module": "@jupyter-widgets/controls",
     "model_module_version": "1.5.0",
     "model_name": "ProgressStyleModel",
     "state": {
      "_model_module": "@jupyter-widgets/controls",
      "_model_module_version": "1.5.0",
      "_model_name": "ProgressStyleModel",
      "_view_count": null,
      "_view_module": "@jupyter-widgets/base",
      "_view_module_version": "1.2.0",
      "_view_name": "StyleView",
      "bar_color": null,
      "description_width": ""
     }
    },
    "972c680ad601457db01d3a1c7d6835f7": {
     "model_module": "@jupyter-widgets/base",
     "model_module_version": "1.2.0",
     "model_name": "LayoutModel",
     "state": {
      "_model_module": "@jupyter-widgets/base",
      "_model_module_version": "1.2.0",
      "_model_name": "LayoutModel",
      "_view_count": null,
      "_view_module": "@jupyter-widgets/base",
      "_view_module_version": "1.2.0",
      "_view_name": "LayoutView",
      "align_content": null,
      "align_items": null,
      "align_self": null,
      "border": null,
      "bottom": null,
      "display": null,
      "flex": null,
      "flex_flow": null,
      "grid_area": null,
      "grid_auto_columns": null,
      "grid_auto_flow": null,
      "grid_auto_rows": null,
      "grid_column": null,
      "grid_gap": null,
      "grid_row": null,
      "grid_template_areas": null,
      "grid_template_columns": null,
      "grid_template_rows": null,
      "height": null,
      "justify_content": null,
      "justify_items": null,
      "left": null,
      "margin": null,
      "max_height": null,
      "max_width": null,
      "min_height": null,
      "min_width": null,
      "object_fit": null,
      "object_position": null,
      "order": null,
      "overflow": null,
      "overflow_x": null,
      "overflow_y": null,
      "padding": null,
      "right": null,
      "top": null,
      "visibility": null,
      "width": null
     }
    },
    "b3c55ff5f38a475b945ff6ab62ad427f": {
     "model_module": "@jupyter-widgets/controls",
     "model_module_version": "1.5.0",
     "model_name": "HTMLModel",
     "state": {
      "_dom_classes": [],
      "_model_module": "@jupyter-widgets/controls",
      "_model_module_version": "1.5.0",
      "_model_name": "HTMLModel",
      "_view_count": null,
      "_view_module": "@jupyter-widgets/controls",
      "_view_module_version": "1.5.0",
      "_view_name": "HTMLView",
      "description": "",
      "description_tooltip": null,
      "layout": "IPY_MODEL_972c680ad601457db01d3a1c7d6835f7",
      "placeholder": "​",
      "style": "IPY_MODEL_14896a651eeb43d48270802a2bab6b81",
      "value": " 83.3M/83.3M [00:01&lt;00:00, 112MB/s]"
     }
    },
    "dad3652a7a2f409a96a7854a4c8151d6": {
     "model_module": "@jupyter-widgets/controls",
     "model_module_version": "1.5.0",
     "model_name": "HBoxModel",
     "state": {
      "_dom_classes": [],
      "_model_module": "@jupyter-widgets/controls",
      "_model_module_version": "1.5.0",
      "_model_name": "HBoxModel",
      "_view_count": null,
      "_view_module": "@jupyter-widgets/controls",
      "_view_module_version": "1.5.0",
      "_view_name": "HBoxView",
      "box_style": "",
      "children": [
       "IPY_MODEL_471c08677c824f6a98ef09999bdcc974",
       "IPY_MODEL_32e97e0cd76a4222a1e6e1aafa3e01a0",
       "IPY_MODEL_b3c55ff5f38a475b945ff6ab62ad427f"
      ],
      "layout": "IPY_MODEL_e481f4bf7ee54265acaf0431f5f6a05a"
     }
    },
    "e481f4bf7ee54265acaf0431f5f6a05a": {
     "model_module": "@jupyter-widgets/base",
     "model_module_version": "1.2.0",
     "model_name": "LayoutModel",
     "state": {
      "_model_module": "@jupyter-widgets/base",
      "_model_module_version": "1.2.0",
      "_model_name": "LayoutModel",
      "_view_count": null,
      "_view_module": "@jupyter-widgets/base",
      "_view_module_version": "1.2.0",
      "_view_name": "LayoutView",
      "align_content": null,
      "align_items": null,
      "align_self": null,
      "border": null,
      "bottom": null,
      "display": null,
      "flex": null,
      "flex_flow": null,
      "grid_area": null,
      "grid_auto_columns": null,
      "grid_auto_flow": null,
      "grid_auto_rows": null,
      "grid_column": null,
      "grid_gap": null,
      "grid_row": null,
      "grid_template_areas": null,
      "grid_template_columns": null,
      "grid_template_rows": null,
      "height": null,
      "justify_content": null,
      "justify_items": null,
      "left": null,
      "margin": null,
      "max_height": null,
      "max_width": null,
      "min_height": null,
      "min_width": null,
      "object_fit": null,
      "object_position": null,
      "order": null,
      "overflow": null,
      "overflow_x": null,
      "overflow_y": null,
      "padding": null,
      "right": null,
      "top": null,
      "visibility": null,
      "width": null
     }
    }
   }
  }
 },
 "nbformat": 4,
 "nbformat_minor": 4
}
