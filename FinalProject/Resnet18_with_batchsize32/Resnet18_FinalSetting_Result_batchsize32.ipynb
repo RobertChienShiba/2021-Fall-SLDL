{
 "cells": [
  {
   "cell_type": "markdown",
   "metadata": {
    "id": "pkDfzauwCGVe"
   },
   "source": [
    "###Load Data"
   ]
  },
  {
   "cell_type": "code",
   "execution_count": null,
   "metadata": {
    "id": "RMVcs2AoHoVZ"
   },
   "outputs": [],
   "source": [
    "import torch\n",
    "import torch.nn as nn\n",
    "from torchvision import datasets ,models,transforms\n",
    "from pathlib import Path\n",
    "from matplotlib import pyplot as plt\n",
    "import numpy as np\n",
    "import torch.nn.functional as F\n",
    "from sklearn.model_selection import train_test_split\n",
    "import matplotlib.pyplot as plt\n",
    "from torch.nn import Linear, ReLU, CrossEntropyLoss, Conv2d, MaxPool2d, Module\n",
    "from torch.optim import Adam\n",
    "import pandas as pd\n",
    "import os, shutil\n",
    "from os import listdir\n",
    "from tqdm import tqdm_notebook as tqdm\n",
    "from PIL import Image\n",
    "import torchvision.transforms as transforms\n",
    "from torch.utils.data import DataLoader"
   ]
  },
  {
   "cell_type": "code",
   "execution_count": null,
   "metadata": {
    "colab": {
     "base_uri": "https://localhost:8080/"
    },
    "id": "bpnoiNU8L7rv",
    "outputId": "70451121-a323-4184-e99b-7805e762e964"
   },
   "outputs": [
    {
     "name": "stdout",
     "output_type": "stream",
     "text": [
      "Mounted at /content/drive\n"
     ]
    }
   ],
   "source": [
    "from google.colab import drive\n",
    "drive.mount('/content/drive')"
   ]
  },
  {
   "cell_type": "code",
   "execution_count": null,
   "metadata": {
    "colab": {
     "base_uri": "https://localhost:8080/"
    },
    "id": "Nci4NfRFbTGM",
    "outputId": "5bcb390b-73ba-46a4-c086-573193262a3d"
   },
   "outputs": [
    {
     "name": "stdout",
     "output_type": "stream",
     "text": [
      "Downloading...\n",
      "From: https://drive.google.com/uc?id=1l8YzfPxHeMuLfUdSILbbb7gK98d3a9Ja\n",
      "To: /content/split_.zip\n",
      "100% 4.56G/4.56G [00:25<00:00, 176MB/s] \n"
     ]
    }
   ],
   "source": [
    "#!gdown --id '16k0608XLsNcCWvX9mawqv_ojAHQB7aa9'\n",
    "#!unzip -q OneDrive-2021-12-12.zip\n",
    "#https://drive.google.com/drive/folders/1KGXp-WE5SJ1xQqU9EQWsXNVA17XWS84w?usp=sharing\n",
    "#https://drive.google.com/u/0/uc?id=17BZWzb-FTx00cJAIrTHKogXdaZVuUtiM&export=download\n",
    "#https://drive.google.com/u/0/uc?export=download&confirm=dlti&id=17BZWzb-FTx00cJAIrTHKogXdaZVuUtiM\n",
    "#https://drive.google.com/file/d/1l8YzfPxHeMuLfUdSILbbb7gK98d3a9Ja/view?usp=sharing\n",
    "!gdown --id '1l8YzfPxHeMuLfUdSILbbb7gK98d3a9Ja'\n",
    "!unzip -q split_.zip"
   ]
  },
  {
   "cell_type": "code",
   "execution_count": null,
   "metadata": {
    "colab": {
     "base_uri": "https://localhost:8080/"
    },
    "id": "0E39_pW9P-tC",
    "outputId": "9c828f83-8a81-4c67-cf3d-36b4ee4e678a"
   },
   "outputs": [
    {
     "name": "stdout",
     "output_type": "stream",
     "text": [
      "train neg  2484\n",
      "train pos  2484\n",
      "test neg  359\n",
      "test pos  45\n",
      "val neg  363\n",
      "val pos  44\n"
     ]
    }
   ],
   "source": [
    "# check\n",
    "path, dirs, files = next(os.walk(\"content/drive/MyDrive/split/train/negative\"))\n",
    "print(\"train neg \",len(files))\n",
    "path, dirs, files = next(os.walk(\"content/drive/MyDrive/split/train/positive\"))\n",
    "print(\"train pos \",len(files))\n",
    "path, dirs, files = next(os.walk(\"content/drive/MyDrive/split/test/negative\"))\n",
    "print(\"test neg \",len(files))\n",
    "path, dirs, files = next(os.walk(\"content/drive/MyDrive/split/test/positive\"))\n",
    "print(\"test pos \",len(files))\n",
    "path, dirs, files = next(os.walk(\"content/drive/MyDrive/split/val/negative\"))\n",
    "print(\"val neg \",len(files))\n",
    "path, dirs, files = next(os.walk(\"content/drive/MyDrive/split/val/positive\"))\n",
    "print(\"val pos \",len(files))"
   ]
  },
  {
   "cell_type": "markdown",
   "metadata": {
    "id": "fJpfESMizbgb"
   },
   "source": [
    "### Transform to tensor"
   ]
  },
  {
   "cell_type": "code",
   "execution_count": null,
   "metadata": {
    "id": "VFcTGGhozXBU"
   },
   "outputs": [],
   "source": [
    "# raw img size 4040 * 5416 pixel\n",
    "wid = 1000\n",
    "hgt = 1000\n",
    "\n",
    "train_tfm = transforms.Compose([\n",
    "    transforms.Resize((1000, 1000)),\n",
    "    # transforms.ColorJitter(contrast=1),\n",
    "    # transforms.RandomRotation(degrees = 8, fill = 1),\n",
    "    # transforms.Resize((128, 128)),\n",
    "    # transforms.RandomHorizontalFlip(p=0.5),\n",
    "    transforms.Grayscale(num_output_channels=3),\n",
    "    transforms.ToTensor(),\n",
    "])\n",
    "\n",
    "test_tfm = transforms.Compose([\n",
    "    transforms.Resize((1000, 1000)),\n",
    "    transforms.Grayscale(num_output_channels=3),\n",
    "    transforms.ToTensor(),\n",
    "])\n",
    "\n",
    "# input[512, 1, 28, 28]"
   ]
  },
  {
   "cell_type": "markdown",
   "metadata": {
    "id": "NJpzd9Z16Zqy"
   },
   "source": [
    "### Build Dataset"
   ]
  },
  {
   "cell_type": "code",
   "execution_count": null,
   "metadata": {
    "id": "ph4o1U5WnxGd"
   },
   "outputs": [],
   "source": [
    "batch_size = 32\n",
    "#train_set = datasets.DatasetFolder(\"split/train\", loader=lambda x: Image.open(x), extensions=\"jpg\", transform=train_tfm)\n",
    "subtrain_set = datasets.DatasetFolder(\"content/drive/MyDrive/split/train\", loader=lambda x: Image.open(x), extensions=\"jpg\", transform=train_tfm)\n",
    "valid_set = datasets.DatasetFolder(\"content/drive/MyDrive/split/val\", loader=lambda x: Image.open(x), extensions=\"jpg\", transform=test_tfm)\n",
    "test_set = datasets.DatasetFolder(\"content/drive/MyDrive/split/test\", loader=lambda x: Image.open(x), extensions=\"jpg\", transform=test_tfm)\n",
    "\n",
    "#train_loader = DataLoader(train_set, batch_size=batch_size, shuffle=True) # , num_workers=8, pin_memory=True\n",
    "subtrain_loader = DataLoader(subtrain_set, batch_size=batch_size, shuffle=True)\n",
    "valid_loader = DataLoader(valid_set, batch_size=batch_size, shuffle=True)\n",
    "test_loader = DataLoader(test_set, batch_size=batch_size, shuffle=False)"
   ]
  },
  {
   "cell_type": "code",
   "execution_count": null,
   "metadata": {
    "colab": {
     "base_uri": "https://localhost:8080/"
    },
    "id": "Sl40eDvxWaa5",
    "outputId": "5db10b62-4bc9-41b5-eb30-6d6e3e4acca3"
   },
   "outputs": [
    {
     "name": "stdout",
     "output_type": "stream",
     "text": [
      "Get length: 4968\n",
      "Get training data at position 3:  (tensor([[[0.8157, 0.8039, 0.7922,  ..., 0.1137, 0.1137, 0.1137],\n",
      "         [0.7961, 0.7882, 0.7804,  ..., 0.1098, 0.1098, 0.1059],\n",
      "         [0.7725, 0.7765, 0.7765,  ..., 0.1098, 0.1020, 0.0980],\n",
      "         ...,\n",
      "         [0.4039, 0.4039, 0.4039,  ..., 0.2471, 0.2627, 0.2706],\n",
      "         [0.4078, 0.4039, 0.4039,  ..., 0.2471, 0.2627, 0.2706],\n",
      "         [0.4157, 0.4118, 0.4078,  ..., 0.2471, 0.2588, 0.2667]],\n",
      "\n",
      "        [[0.8157, 0.8039, 0.7922,  ..., 0.1137, 0.1137, 0.1137],\n",
      "         [0.7961, 0.7882, 0.7804,  ..., 0.1098, 0.1098, 0.1059],\n",
      "         [0.7725, 0.7765, 0.7765,  ..., 0.1098, 0.1020, 0.0980],\n",
      "         ...,\n",
      "         [0.4039, 0.4039, 0.4039,  ..., 0.2471, 0.2627, 0.2706],\n",
      "         [0.4078, 0.4039, 0.4039,  ..., 0.2471, 0.2627, 0.2706],\n",
      "         [0.4157, 0.4118, 0.4078,  ..., 0.2471, 0.2588, 0.2667]],\n",
      "\n",
      "        [[0.8157, 0.8039, 0.7922,  ..., 0.1137, 0.1137, 0.1137],\n",
      "         [0.7961, 0.7882, 0.7804,  ..., 0.1098, 0.1098, 0.1059],\n",
      "         [0.7725, 0.7765, 0.7765,  ..., 0.1098, 0.1020, 0.0980],\n",
      "         ...,\n",
      "         [0.4039, 0.4039, 0.4039,  ..., 0.2471, 0.2627, 0.2706],\n",
      "         [0.4078, 0.4039, 0.4039,  ..., 0.2471, 0.2627, 0.2706],\n",
      "         [0.4157, 0.4118, 0.4078,  ..., 0.2471, 0.2588, 0.2667]]]), 0)\n"
     ]
    }
   ],
   "source": [
    "print(\"Get length:\", len(subtrain_set))\n",
    "print(\"Get training data at position 3: \", subtrain_set[3])"
   ]
  },
  {
   "cell_type": "code",
   "execution_count": null,
   "metadata": {
    "colab": {
     "base_uri": "https://localhost:8080/"
    },
    "id": "g5VVJik1UQOh",
    "outputId": "2fb3920c-0611-46ec-ace7-95473fd66f34"
   },
   "outputs": [
    {
     "data": {
      "text/plain": [
       "torch.Size([3, 1000, 1000])"
      ]
     },
     "execution_count": 24,
     "metadata": {},
     "output_type": "execute_result"
    }
   ],
   "source": [
    "subtrain_set[0][0].shape"
   ]
  },
  {
   "cell_type": "markdown",
   "metadata": {
    "id": "v70BfWBdxahw"
   },
   "source": [
    "### MLP (博任)"
   ]
  },
  {
   "cell_type": "code",
   "execution_count": null,
   "metadata": {
    "id": "zhq7ahtUitEG"
   },
   "outputs": [],
   "source": [
    "# dataiter = iter(train_loader)\n",
    "# images, labels = dataiter.next()\n",
    "\n",
    "# print(images.shape)\n",
    "# print(labels.shape)\n",
    "#CUDA_LAUNCH_BLOCKING=1\n",
    "use_cuda = torch.cuda.is_available()\n",
    "device = torch.device(\"cuda\" if use_cuda else \"cpu\")"
   ]
  },
  {
   "cell_type": "code",
   "execution_count": null,
   "metadata": {
    "colab": {
     "base_uri": "https://localhost:8080/"
    },
    "id": "ymng1wBObk0a",
    "outputId": "f5ef7a41-a5fe-4bc2-d5c2-325384dbfbf0"
   },
   "outputs": [
    {
     "name": "stdout",
     "output_type": "stream",
     "text": [
      "Running on device:  cuda\n"
     ]
    }
   ],
   "source": [
    "import torchvision\n",
    "import torchvision.transforms as transforms\n",
    "import torchvision.models as models\n",
    "#get number of input features\n",
    "#D_in = 3*5416*4040\n",
    "D_in = 1000*1000\n",
    "H = 56\n",
    "#Binary classification problem\n",
    "D_out = 1\n",
    "use_cuda = torch.cuda.is_available()\n",
    "device = torch.device(\"cuda\" if use_cuda else \"cpu\")\n",
    "print(\"Running on device: \", device)\n",
    "'''\n",
    "net = torch.nn.Sequential(\n",
    "        torch.nn.Linear(D_in, H),  \n",
    "        torch.nn.ReLU(),\n",
    "        torch.nn.Linear(H, H),\n",
    "        torch.nn.ReLU(),\n",
    "        torch.nn.Linear(H, D_out),\n",
    "        torch.nn.Sigmoid()\n",
    ")\n",
    "'''\n",
    "class model(nn.Module): # 2 types: real, fake\n",
    "    def __init__(self, backbone): # positive parameter means grl or not, True: not grl\n",
    "        super(model, self).__init__()\n",
    "        # self.convert = nn.Conv2d(1, 3, 2)\n",
    "        self.backbone = backbone\n",
    "        self.classifier = nn.Sequential(\n",
    "            nn.Linear(1000, 1),\n",
    "            nn.Sigmoid(),\n",
    "        )\n",
    "\n",
    "    def forward(self, x):\n",
    "        # print('ori = ', x.shape)\n",
    "        # x = self.convert(x)\n",
    "        # print(x.shape)\n",
    "        x = self.backbone(x)\n",
    "      \n",
    "        x = self.classifier(x)\n",
    "\n",
    "        return x\n",
    "\n",
    "backbone = torchvision.models.resnet18(pretrained=True)\n",
    "#下面這個model更猛，但你可能跑不動\n",
    "#backbone = torchvision.models.resnext101_32x8d(pretrained=True)\n",
    "\n",
    "my_model = model(backbone)\n",
    "\n",
    "# move the model to device (i.e., cpu or gpu)\n",
    "my_model = my_model.to(device)"
   ]
  },
  {
   "cell_type": "code",
   "execution_count": null,
   "metadata": {
    "id": "CkMQ3yhxX_8l"
   },
   "outputs": [],
   "source": [
    "# define the optimizer\n",
    "optimizer = torch.optim.Adam(my_model.parameters(), lr=0.0001)\n",
    "# Binary Cross Entropy Loss\n",
    "loss_fn = torch.nn.BCELoss()\n",
    "#loss_fn = nn.BCEWithLogitsLoss()"
   ]
  },
  {
   "cell_type": "code",
   "execution_count": null,
   "metadata": {
    "colab": {
     "background_save": true,
     "base_uri": "https://localhost:8080/"
    },
    "id": "2NfDaXZDkgDq",
    "outputId": "0780973a-df15-4853-8564-3b9db7d0c2b0"
   },
   "outputs": [
    {
     "name": "stdout",
     "output_type": "stream",
     "text": [
      "Calculating Loss...\n",
      "Epoch 0 Batch 10: trainingLoss = 0.589, validationLoss = 0.527 (minibatch size = 32)\n",
      "Calculating Loss...\n",
      "Epoch 0 Batch 20: trainingLoss = 0.572, validationLoss = 0.763 (minibatch size = 32)\n",
      "Calculating Loss...\n",
      "Epoch 0 Batch 30: trainingLoss = 0.597, validationLoss = 0.435 (minibatch size = 32)\n",
      "Oh yah\n",
      "Calculating Loss...\n",
      "Epoch 0 Batch 40: trainingLoss = 0.599, validationLoss = 0.605 (minibatch size = 32)\n",
      "Calculating Loss...\n",
      "Epoch 0 Batch 50: trainingLoss = 0.589, validationLoss = 0.704 (minibatch size = 32)\n",
      "Calculating Loss...\n",
      "Epoch 0 Batch 60: trainingLoss = 0.584, validationLoss = 0.669 (minibatch size = 32)\n",
      "Calculating Loss...\n",
      "Epoch 0 Batch 70: trainingLoss = 0.582, validationLoss = 1.002 (minibatch size = 32)\n",
      "Calculating Loss...\n",
      "Epoch 0 Batch 80: trainingLoss = 0.576, validationLoss = 0.393 (minibatch size = 32)\n",
      "Oh yah\n",
      "Calculating Loss...\n",
      "Epoch 0 Batch 90: trainingLoss = 0.574, validationLoss = 0.429 (minibatch size = 32)\n",
      "Calculating Loss...\n",
      "Epoch 0 Batch 100: trainingLoss = 0.568, validationLoss = 0.576 (minibatch size = 32)\n",
      "Calculating Loss...\n",
      "Epoch 0 Batch 110: trainingLoss = 0.560, validationLoss = 0.495 (minibatch size = 32)\n",
      "Calculating Loss...\n",
      "Epoch 0 Batch 120: trainingLoss = 0.554, validationLoss = 0.656 (minibatch size = 32)\n",
      "Calculating Loss...\n",
      "Epoch 0 Batch 130: trainingLoss = 0.548, validationLoss = 0.486 (minibatch size = 32)\n",
      "Calculating Loss...\n",
      "Epoch 0 Batch 140: trainingLoss = 0.543, validationLoss = 0.412 (minibatch size = 32)\n",
      "Calculating Loss...\n",
      "Epoch 0 Batch 150: trainingLoss = 0.542, validationLoss = 0.785 (minibatch size = 32)\n",
      "Calculating Loss...\n",
      "Epoch 1 Batch 160: trainingLoss = 0.543, validationLoss = 0.590 (minibatch size = 32)\n",
      "Calculating Loss...\n",
      "Epoch 1 Batch 170: trainingLoss = 0.541, validationLoss = 0.347 (minibatch size = 32)\n",
      "Oh yah\n",
      "Calculating Loss...\n",
      "Epoch 1 Batch 180: trainingLoss = 0.534, validationLoss = 0.541 (minibatch size = 32)\n",
      "Calculating Loss...\n",
      "Epoch 1 Batch 190: trainingLoss = 0.529, validationLoss = 0.483 (minibatch size = 32)\n",
      "Calculating Loss...\n",
      "Epoch 1 Batch 200: trainingLoss = 0.525, validationLoss = 0.397 (minibatch size = 32)\n",
      "Calculating Loss...\n",
      "Epoch 1 Batch 210: trainingLoss = 0.522, validationLoss = 1.742 (minibatch size = 32)\n",
      "Calculating Loss...\n",
      "Epoch 1 Batch 220: trainingLoss = 0.518, validationLoss = 0.414 (minibatch size = 32)\n",
      "Calculating Loss...\n",
      "Epoch 1 Batch 230: trainingLoss = 0.515, validationLoss = 0.594 (minibatch size = 32)\n",
      "Calculating Loss...\n",
      "Epoch 1 Batch 240: trainingLoss = 0.514, validationLoss = 0.558 (minibatch size = 32)\n",
      "Calculating Loss...\n",
      "Epoch 1 Batch 250: trainingLoss = 0.509, validationLoss = 0.612 (minibatch size = 32)\n",
      "Calculating Loss...\n",
      "Epoch 1 Batch 260: trainingLoss = 0.505, validationLoss = 0.752 (minibatch size = 32)\n",
      "Calculating Loss...\n",
      "Epoch 1 Batch 270: trainingLoss = 0.501, validationLoss = 0.440 (minibatch size = 32)\n",
      "Calculating Loss...\n",
      "Epoch 1 Batch 280: trainingLoss = 0.498, validationLoss = 0.753 (minibatch size = 32)\n",
      "Calculating Loss...\n",
      "Epoch 1 Batch 290: trainingLoss = 0.493, validationLoss = 1.148 (minibatch size = 32)\n",
      "Calculating Loss...\n",
      "Epoch 1 Batch 300: trainingLoss = 0.490, validationLoss = 1.081 (minibatch size = 32)\n",
      "Calculating Loss...\n",
      "Epoch 1 Batch 310: trainingLoss = 0.488, validationLoss = 0.612 (minibatch size = 32)\n",
      "Calculating Loss...\n",
      "Epoch 2 Batch 320: trainingLoss = 0.486, validationLoss = 0.393 (minibatch size = 32)\n",
      "Calculating Loss...\n",
      "Epoch 2 Batch 330: trainingLoss = 0.483, validationLoss = 0.406 (minibatch size = 32)\n",
      "Calculating Loss...\n",
      "Epoch 2 Batch 340: trainingLoss = 0.479, validationLoss = 0.568 (minibatch size = 32)\n",
      "Calculating Loss...\n",
      "Epoch 2 Batch 350: trainingLoss = 0.474, validationLoss = 0.640 (minibatch size = 32)\n",
      "Calculating Loss...\n",
      "Epoch 2 Batch 360: trainingLoss = 0.469, validationLoss = 0.380 (minibatch size = 32)\n",
      "Calculating Loss...\n",
      "Epoch 2 Batch 370: trainingLoss = 0.464, validationLoss = 0.719 (minibatch size = 32)\n",
      "Calculating Loss...\n",
      "Epoch 2 Batch 380: trainingLoss = 0.459, validationLoss = 0.759 (minibatch size = 32)\n",
      "Calculating Loss...\n",
      "Epoch 2 Batch 390: trainingLoss = 0.456, validationLoss = 0.633 (minibatch size = 32)\n",
      "Calculating Loss...\n",
      "Epoch 2 Batch 400: trainingLoss = 0.454, validationLoss = 0.431 (minibatch size = 32)\n",
      "Calculating Loss...\n",
      "Epoch 2 Batch 410: trainingLoss = 0.450, validationLoss = 0.517 (minibatch size = 32)\n",
      "Calculating Loss...\n",
      "Epoch 2 Batch 420: trainingLoss = 0.446, validationLoss = 0.610 (minibatch size = 32)\n",
      "Calculating Loss...\n",
      "Epoch 2 Batch 430: trainingLoss = 0.443, validationLoss = 0.484 (minibatch size = 32)\n",
      "Calculating Loss...\n",
      "Epoch 2 Batch 440: trainingLoss = 0.440, validationLoss = 0.545 (minibatch size = 32)\n",
      "Calculating Loss...\n",
      "Epoch 2 Batch 450: trainingLoss = 0.438, validationLoss = 0.497 (minibatch size = 32)\n",
      "Calculating Loss...\n",
      "Epoch 2 Batch 460: trainingLoss = 0.437, validationLoss = 1.708 (minibatch size = 32)\n",
      "Calculating Loss...\n",
      "Epoch 3 Batch 470: trainingLoss = 0.434, validationLoss = 0.727 (minibatch size = 32)\n",
      "Calculating Loss...\n",
      "Epoch 3 Batch 480: trainingLoss = 0.431, validationLoss = 0.505 (minibatch size = 32)\n",
      "Calculating Loss...\n",
      "Epoch 3 Batch 490: trainingLoss = 0.427, validationLoss = 0.478 (minibatch size = 32)\n",
      "Calculating Loss...\n",
      "Epoch 3 Batch 500: trainingLoss = 0.423, validationLoss = 0.507 (minibatch size = 32)\n",
      "Calculating Loss...\n",
      "Epoch 3 Batch 510: trainingLoss = 0.418, validationLoss = 0.469 (minibatch size = 32)\n",
      "Calculating Loss...\n",
      "Epoch 3 Batch 520: trainingLoss = 0.416, validationLoss = 0.709 (minibatch size = 32)\n",
      "Calculating Loss...\n",
      "Epoch 3 Batch 530: trainingLoss = 0.413, validationLoss = 0.579 (minibatch size = 32)\n",
      "Calculating Loss...\n",
      "Epoch 3 Batch 540: trainingLoss = 0.410, validationLoss = 0.902 (minibatch size = 32)\n",
      "Calculating Loss...\n",
      "Epoch 3 Batch 550: trainingLoss = 0.407, validationLoss = 0.415 (minibatch size = 32)\n",
      "Calculating Loss...\n",
      "Epoch 3 Batch 560: trainingLoss = 0.403, validationLoss = 0.471 (minibatch size = 32)\n",
      "Calculating Loss...\n",
      "Epoch 3 Batch 570: trainingLoss = 0.401, validationLoss = 1.889 (minibatch size = 32)\n",
      "Calculating Loss...\n",
      "Epoch 3 Batch 580: trainingLoss = 0.397, validationLoss = 0.568 (minibatch size = 32)\n",
      "Calculating Loss...\n",
      "Epoch 3 Batch 590: trainingLoss = 0.394, validationLoss = 1.002 (minibatch size = 32)\n",
      "Calculating Loss...\n",
      "Epoch 3 Batch 600: trainingLoss = 0.390, validationLoss = 0.546 (minibatch size = 32)\n",
      "Calculating Loss...\n",
      "Epoch 3 Batch 610: trainingLoss = 0.387, validationLoss = 0.582 (minibatch size = 32)\n",
      "Calculating Loss...\n",
      "Epoch 3 Batch 620: trainingLoss = 0.384, validationLoss = 1.122 (minibatch size = 32)\n",
      "Calculating Loss...\n",
      "Epoch 4 Batch 630: trainingLoss = 0.380, validationLoss = 0.821 (minibatch size = 32)\n",
      "Calculating Loss...\n",
      "Epoch 4 Batch 640: trainingLoss = 0.377, validationLoss = 0.565 (minibatch size = 32)\n",
      "Calculating Loss...\n",
      "Epoch 4 Batch 650: trainingLoss = 0.373, validationLoss = 0.984 (minibatch size = 32)\n",
      "Calculating Loss...\n",
      "Epoch 4 Batch 660: trainingLoss = 0.370, validationLoss = 1.158 (minibatch size = 32)\n",
      "Calculating Loss...\n",
      "Epoch 4 Batch 670: trainingLoss = 0.366, validationLoss = 0.629 (minibatch size = 32)\n",
      "Calculating Loss...\n",
      "Epoch 4 Batch 680: trainingLoss = 0.362, validationLoss = 0.840 (minibatch size = 32)\n",
      "Calculating Loss...\n",
      "Epoch 4 Batch 690: trainingLoss = 0.359, validationLoss = 0.791 (minibatch size = 32)\n",
      "Calculating Loss...\n",
      "Epoch 4 Batch 700: trainingLoss = 0.356, validationLoss = 0.546 (minibatch size = 32)\n",
      "Calculating Loss...\n",
      "Epoch 4 Batch 710: trainingLoss = 0.354, validationLoss = 0.720 (minibatch size = 32)\n",
      "Calculating Loss...\n",
      "Epoch 4 Batch 720: trainingLoss = 0.350, validationLoss = 0.443 (minibatch size = 32)\n",
      "Calculating Loss...\n",
      "Epoch 4 Batch 730: trainingLoss = 0.347, validationLoss = 0.628 (minibatch size = 32)\n",
      "Calculating Loss...\n",
      "Epoch 4 Batch 740: trainingLoss = 0.344, validationLoss = 0.604 (minibatch size = 32)\n",
      "Calculating Loss...\n",
      "Epoch 4 Batch 750: trainingLoss = 0.341, validationLoss = 0.801 (minibatch size = 32)\n",
      "Calculating Loss...\n",
      "Epoch 4 Batch 760: trainingLoss = 0.339, validationLoss = 0.709 (minibatch size = 32)\n",
      "Calculating Loss...\n",
      "Epoch 4 Batch 770: trainingLoss = 0.336, validationLoss = 0.926 (minibatch size = 32)\n",
      "Calculating Loss...\n",
      "Epoch 4 Batch 780: trainingLoss = 0.334, validationLoss = 0.605 (minibatch size = 8)\n",
      "Calculating Loss...\n",
      "Epoch 5 Batch 790: trainingLoss = 0.331, validationLoss = 0.740 (minibatch size = 32)\n",
      "Calculating Loss...\n",
      "Epoch 5 Batch 800: trainingLoss = 0.328, validationLoss = 0.952 (minibatch size = 32)\n",
      "Calculating Loss...\n",
      "Epoch 5 Batch 810: trainingLoss = 0.325, validationLoss = 1.012 (minibatch size = 32)\n",
      "Calculating Loss...\n",
      "Epoch 5 Batch 820: trainingLoss = 0.322, validationLoss = 0.613 (minibatch size = 32)\n",
      "Calculating Loss...\n",
      "Epoch 5 Batch 830: trainingLoss = 0.320, validationLoss = 1.456 (minibatch size = 32)\n",
      "Calculating Loss...\n",
      "Epoch 5 Batch 840: trainingLoss = 0.317, validationLoss = 0.936 (minibatch size = 32)\n",
      "Calculating Loss...\n",
      "Epoch 5 Batch 850: trainingLoss = 0.314, validationLoss = 0.726 (minibatch size = 32)\n",
      "Calculating Loss...\n",
      "Epoch 5 Batch 860: trainingLoss = 0.311, validationLoss = 0.613 (minibatch size = 32)\n",
      "Calculating Loss...\n",
      "Epoch 5 Batch 870: trainingLoss = 0.309, validationLoss = 0.607 (minibatch size = 32)\n",
      "Calculating Loss...\n",
      "Epoch 5 Batch 880: trainingLoss = 0.307, validationLoss = 0.896 (minibatch size = 32)\n",
      "Calculating Loss...\n",
      "Epoch 5 Batch 890: trainingLoss = 0.305, validationLoss = 0.845 (minibatch size = 32)\n",
      "Calculating Loss...\n",
      "Epoch 5 Batch 900: trainingLoss = 0.302, validationLoss = 1.543 (minibatch size = 32)\n",
      "Calculating Loss...\n",
      "Epoch 5 Batch 910: trainingLoss = 0.300, validationLoss = 0.656 (minibatch size = 32)\n",
      "Calculating Loss...\n",
      "Epoch 5 Batch 920: trainingLoss = 0.298, validationLoss = 0.501 (minibatch size = 32)\n",
      "Calculating Loss...\n",
      "Epoch 5 Batch 930: trainingLoss = 0.296, validationLoss = 1.116 (minibatch size = 32)\n",
      "Calculating Loss...\n",
      "Epoch 6 Batch 940: trainingLoss = 0.294, validationLoss = 0.840 (minibatch size = 32)\n",
      "Calculating Loss...\n",
      "Epoch 6 Batch 950: trainingLoss = 0.292, validationLoss = 0.610 (minibatch size = 32)\n",
      "Calculating Loss...\n",
      "Epoch 6 Batch 960: trainingLoss = 0.289, validationLoss = 0.835 (minibatch size = 32)\n",
      "Calculating Loss...\n",
      "Epoch 6 Batch 970: trainingLoss = 0.287, validationLoss = 2.217 (minibatch size = 32)\n",
      "Calculating Loss...\n",
      "Epoch 6 Batch 980: trainingLoss = 0.285, validationLoss = 0.682 (minibatch size = 32)\n",
      "Calculating Loss...\n",
      "Epoch 6 Batch 990: trainingLoss = 0.282, validationLoss = 0.663 (minibatch size = 32)\n",
      "Calculating Loss...\n",
      "Epoch 6 Batch 1000: trainingLoss = 0.280, validationLoss = 0.578 (minibatch size = 32)\n",
      "Calculating Loss...\n",
      "Epoch 6 Batch 1010: trainingLoss = 0.277, validationLoss = 0.761 (minibatch size = 32)\n",
      "Calculating Loss...\n",
      "Epoch 6 Batch 1020: trainingLoss = 0.275, validationLoss = 0.930 (minibatch size = 32)\n",
      "Calculating Loss...\n",
      "Epoch 6 Batch 1030: trainingLoss = 0.273, validationLoss = 0.882 (minibatch size = 32)\n",
      "Calculating Loss...\n",
      "Epoch 6 Batch 1040: trainingLoss = 0.271, validationLoss = 1.206 (minibatch size = 32)\n",
      "Calculating Loss...\n",
      "Epoch 6 Batch 1050: trainingLoss = 0.269, validationLoss = 0.789 (minibatch size = 32)\n",
      "Calculating Loss...\n",
      "Epoch 6 Batch 1060: trainingLoss = 0.267, validationLoss = 0.649 (minibatch size = 32)\n",
      "Calculating Loss...\n",
      "Epoch 6 Batch 1070: trainingLoss = 0.265, validationLoss = 0.594 (minibatch size = 32)\n",
      "Calculating Loss...\n",
      "Epoch 6 Batch 1080: trainingLoss = 0.263, validationLoss = 0.737 (minibatch size = 32)\n",
      "Calculating Loss...\n",
      "Epoch 6 Batch 1090: trainingLoss = 0.261, validationLoss = 0.810 (minibatch size = 32)\n",
      "Calculating Loss...\n",
      "Epoch 7 Batch 1100: trainingLoss = 0.259, validationLoss = 1.528 (minibatch size = 32)\n",
      "Calculating Loss...\n",
      "Epoch 7 Batch 1110: trainingLoss = 0.257, validationLoss = 1.005 (minibatch size = 32)\n",
      "Calculating Loss...\n",
      "Epoch 7 Batch 1120: trainingLoss = 0.255, validationLoss = 0.759 (minibatch size = 32)\n",
      "Calculating Loss...\n",
      "Epoch 7 Batch 1130: trainingLoss = 0.253, validationLoss = 0.876 (minibatch size = 32)\n",
      "Calculating Loss...\n",
      "Epoch 7 Batch 1140: trainingLoss = 0.251, validationLoss = 1.315 (minibatch size = 32)\n",
      "Calculating Loss...\n",
      "Epoch 7 Batch 1150: trainingLoss = 0.250, validationLoss = 1.098 (minibatch size = 32)\n",
      "Calculating Loss...\n",
      "Epoch 7 Batch 1160: trainingLoss = 0.249, validationLoss = 1.034 (minibatch size = 32)\n",
      "Calculating Loss...\n",
      "Epoch 7 Batch 1170: trainingLoss = 0.247, validationLoss = 1.203 (minibatch size = 32)\n",
      "early stop1\n",
      "early stop2\n"
     ]
    }
   ],
   "source": [
    "nepoch = 100\n",
    "step_count = 0\n",
    "log_interval = 10\n",
    "#trainingAccuracy_list = []\n",
    "#validationAccuracy_list = []\n",
    "trainingloss_list = []\n",
    "validloss_list = []\n",
    "step_count_list = []\n",
    "#train_ncorrect = 0\n",
    "#train_test_nobs = 0\n",
    "cumulative_loss = 0\n",
    "countdown = 100\n",
    "\n",
    "\n",
    "for epoch_id in range(0, nepoch):    \n",
    "    if countdown == 0:\n",
    "        print(\"early stop2\")\n",
    "        break  \n",
    "    for batch_idx, (inputs, targets) in enumerate(subtrain_loader):\n",
    "        #reshape target to two-dimensional array\n",
    "        targets = targets.reshape((-1, 1))\n",
    "        step_count += 1        \n",
    "        my_model.train()\n",
    "        #print(inputs)\n",
    "        #print(targets)\n",
    "        inputs, targets = inputs.to(device), targets.to(device)\n",
    "      \n",
    "        optimizer.zero_grad()\n",
    "        outputs = my_model(inputs)   \n",
    "        targets = targets.float()\n",
    "        loss = loss_fn(outputs, targets)\n",
    "        cumulative_loss += loss\n",
    "\n",
    "        #train_pred = (outputs.cpu().detach().numpy() > 0.5).astype('float32')\n",
    "        #train_tmp_correct = (train_pred == targets.cpu().detach().numpy()).sum()\n",
    "        #train_ncorrect += train_tmp_correct\n",
    "        #train_test_nobs += len(train_pred) \n",
    "  \n",
    "        loss.backward()\n",
    "        optimizer.step()\n",
    "        #if step_count % log_interval == 0: \n",
    "        if step_count % log_interval == 0:\n",
    "            step_count_list.append(step_count)\n",
    "            #trainingAccuracy = train_ncorrect / train_test_nobs\n",
    "            #valid_ncorrect = 0\n",
    "            #valid_test_nobs = 0\n",
    "            validoutputs_list = []\n",
    "            validtargets_list = []\n",
    "            with torch.no_grad():\n",
    "              for i, (validinputs, validtargets) in enumerate(valid_loader):\n",
    "                if i == 0:\n",
    "                  print(\"Calculating Loss...\")\n",
    "                my_model.eval()\n",
    "                validtargets = validtargets.reshape((-1, 1))\n",
    "                validinputs, validtargets = validinputs.to(device), validtargets.to(device)\n",
    "                validoutputs = my_model(validinputs) \n",
    "                validtargets = validtargets.float()\n",
    "                validoutputs_list.append(validoutputs)\n",
    "                validtargets_list.append(validtargets)\n",
    "                #valid_pred = (validoutputs.cpu().detach().numpy() > 0.5).astype('float32')\n",
    "                #valid_tmp_correct = (valid_pred == validtargets.cpu().detach().numpy()).sum()\n",
    "                #valid_ncorrect += valid_tmp_correct\n",
    "                #valid_test_nobs += len(valid_pred) \n",
    "            #validationAccuracy = valid_ncorrect / valid_test_nobs\n",
    "            validoutputs_array = np.array(validoutputs_list)\n",
    "            for i in range(len(validoutputs_array)):\n",
    "              validoutputs_array[i] = validoutputs_array[i].to(\"cpu\")\n",
    "              validoutputs_array[i] = validoutputs_array[i].numpy()\n",
    "            full_valid_outputs = np.concatenate(validoutputs_array, axis=0 )\n",
    "            validtargets_array = np.array(validtargets_list)\n",
    "            for i in range(len(validtargets_array)):\n",
    "              validtargets_array[i] = validtargets_array[i].to(\"cpu\")\n",
    "              validtargets_array[i] = validtargets_array[i].numpy()\n",
    "            full_valid_targets = np.concatenate(validtargets_array, axis=0 )\n",
    "            validloss = loss_fn(torch.tensor(full_valid_outputs), torch.tensor(full_valid_targets))\n",
    "            trainingloss = cumulative_loss / step_count\n",
    "            #trainingAccuracy_list.append(trainingAccuracy)\n",
    "            #validationAccuracy_list.append(validationAccuracy)\n",
    "            trainingloss_list.append(trainingloss.item())\n",
    "            validloss_list.append(validloss.item())\n",
    "            print(\"Epoch %d Batch %d: trainingLoss = %.3f, validationLoss = %.3f (minibatch size = %d)\" % (epoch_id, step_count, trainingloss.item(), validloss.item(), len(targets)))\n",
    "            #print(\"Epoch %d Batch %d: trainingAccuracy = %.3f, validationAccuracy = %.3f (minibatch size = %d)\" % (epoch_id, step_count, trainingAccuracy, validationAccuracy, len(targets)))        \n",
    "            if step_count < 20:\n",
    "                before_lowestloss = validloss\n",
    "                PATH = './resnet18_new3.pth' #save model\n",
    "                torch.save(my_model.state_dict(), PATH)\n",
    "                !cp resnet18_new3.pth \"drive/My Drive\"\n",
    "            elif step_count >=20:\n",
    "                if validloss < before_lowestloss:\n",
    "                    print(\"Oh yah\") #爽啦，進步了！\n",
    "                    PATH = './resnet18_new3.pth' #save model\n",
    "                    torch.save(my_model.state_dict(), PATH)\n",
    "                    !cp resnet18_new3.pth \"drive/My Drive\"\n",
    "                    before_lowestloss = validloss\n",
    "                    countdown = 100 #經過1000個batch相當於經過100個10個batch\n",
    "                else:\n",
    "                    countdown -= 1\n",
    "            if countdown == 0:\n",
    "                print(\"early stop1\") #好了啦\n",
    "                break"
   ]
  },
  {
   "cell_type": "code",
   "execution_count": null,
   "metadata": {
    "colab": {
     "background_save": true
    },
    "id": "xZj_j70MMIJY",
    "outputId": "fba55cf6-260a-4104-a01a-c7b6f4a3db1b"
   },
   "outputs": [
    {
     "data": {
      "text/plain": [
       "<All keys matched successfully>"
      ]
     },
     "execution_count": null,
     "metadata": {},
     "output_type": "execute_result"
    }
   ],
   "source": [
    "my_model.load_state_dict(torch.load(PATH)) #use the saved model to test"
   ]
  },
  {
   "cell_type": "code",
   "execution_count": null,
   "metadata": {
    "colab": {
     "background_save": true
    },
    "id": "N8TmsQyTLq3b",
    "outputId": "acb2780a-10ac-4e95-cf4e-17fb07fa0f6f"
   },
   "outputs": [
    {
     "name": "stdout",
     "output_type": "stream",
     "text": [
      "Doing model testing...\n",
      "Test loss = 0.408\n",
      "Accuracy = 0.859\n"
     ]
    }
   ],
   "source": [
    "my_model.eval()\n",
    "print(\"Doing model testing...\")\n",
    "test_nobs = 0\n",
    "ncorrect = 0\n",
    "pred_list = []\n",
    "true_list = []\n",
    "outputs_list = []\n",
    "targets_list = []\n",
    "with torch.no_grad():\n",
    "    for batch_idx, (inputs, targets) in enumerate(test_loader):            \n",
    "        inputs, targets = inputs.to(device), targets.to(device)\n",
    "        targets = targets.reshape((-1, 1))\n",
    "        outputs = my_model(inputs)\n",
    "        targets = targets.float()\n",
    "        outputs_list.append(outputs)\n",
    "        targets_list.append(targets)              \n",
    "        pred = (outputs.cpu().numpy() > 0.5).astype('float32')\n",
    "        pred_list.extend(pred.flatten().tolist())\n",
    "        true_list.extend(targets.flatten().tolist())\n",
    "        tmp_correct = (pred == targets.cpu().numpy()).sum()\n",
    "        ncorrect += tmp_correct\n",
    "        test_nobs += len(pred)        \n",
    "accuracy = ncorrect / test_nobs\n",
    "#print(np.array(outputs_list))\n",
    "#print(np.array(outputs_list).shape)\n",
    "#print(np.array(targets_list))\n",
    "#print(np.array(targets_list).shape)\n",
    "outputs_array = np.array(outputs_list)\n",
    "for i in range(len(outputs_array)):\n",
    "  outputs_array[i] = outputs_array[i].to(\"cpu\")\n",
    "  outputs_array[i] = outputs_array[i].numpy()\n",
    "full_test_outputs = np.concatenate(outputs_array, axis=0 )\n",
    "targets_array = np.array(targets_list)\n",
    "for i in range(len(targets_array)):\n",
    "  targets_array[i] = targets_array[i].to(\"cpu\")\n",
    "  targets_array[i] = targets_array[i].numpy()\n",
    "full_test_targets = np.concatenate(targets_array, axis=0 )\n",
    "testloss = loss_fn(torch.tensor(full_test_outputs), torch.tensor(full_test_targets))\n",
    "print(\"Test loss = %.3f\" % testloss.item())\n",
    "print(\"Accuracy = %.3f\" % accuracy)\n"
   ]
  },
  {
   "cell_type": "code",
   "execution_count": null,
   "metadata": {
    "colab": {
     "background_save": true
    },
    "id": "gfsVHWPeL284",
    "outputId": "3083f5d7-84b2-4163-abeb-51e39763f1a1"
   },
   "outputs": [
    {
     "name": "stdout",
     "output_type": "stream",
     "text": [
      "              precision    recall  f1-score   support\n",
      "\n",
      "         0.0       0.90      0.95      0.92       359\n",
      "         1.0       0.23      0.11      0.15        45\n",
      "\n",
      "    accuracy                           0.86       404\n",
      "   macro avg       0.56      0.53      0.54       404\n",
      "weighted avg       0.82      0.86      0.84       404\n",
      "\n",
      "AUC: 0.5318786753327144\n"
     ]
    }
   ],
   "source": [
    "from sklearn import metrics\n",
    "from sklearn.metrics import roc_auc_score\n",
    "print(metrics.classification_report(true_list, pred_list))\n",
    "print(\"AUC:\",roc_auc_score(true_list, pred_list))"
   ]
  },
  {
   "cell_type": "code",
   "execution_count": null,
   "metadata": {
    "colab": {
     "background_save": true
    },
    "id": "2NGsfRMNGzPq"
   },
   "outputs": [],
   "source": [
    "!cp resnet18_new3.pth \"drive/My Drive\""
   ]
  },
  {
   "cell_type": "code",
   "execution_count": null,
   "metadata": {
    "colab": {
     "background_save": true
    },
    "id": "00G4oBcjxDL-",
    "outputId": "a479ec3e-5869-4b63-b3aa-aee4c01a5e71"
   },
   "outputs": [
    {
     "data": {
      "image/png": "[encoded data removed]",
      "text/plain": [
       "<Figure size 432x288 with 1 Axes>"
      ]
     },
     "metadata": {},
     "output_type": "display_data"
    }
   ],
   "source": [
    "import matplotlib.pyplot as plt\n",
    "plt.plot(step_count_list, trainingloss_list, label = \"training loss\")\n",
    "plt.plot(step_count_list, validloss_list, label = \"validation loss\")\n",
    "plt.legend()\n",
    "plt.show()"
   ]
  },
  {
   "cell_type": "code",
   "execution_count": null,
   "metadata": {
    "id": "rOR2S8pGpdry"
   },
   "outputs": [],
   "source": []
  }
 ],
 "metadata": {
  "accelerator": "GPU",
  "colab": {
   "background_execution": "on",
   "collapsed_sections": [],
   "machine_shape": "hm",
   "name": "Pytorch_Image_Classification_resnet18_FinalRun.ipynb",
   "provenance": []
  },
  "kernelspec": {
   "display_name": "Python 3 (ipykernel)",
   "language": "python",
   "name": "python3"
  },
  "language_info": {
   "codemirror_mode": {
    "name": "ipython",
    "version": 3
   },
   "file_extension": ".py",
   "mimetype": "text/x-python",
   "name": "python",
   "nbconvert_exporter": "python",
   "pygments_lexer": "ipython3",
   "version": "3.9.7"
  }
 },
 "nbformat": 4,
 "nbformat_minor": 4
}
