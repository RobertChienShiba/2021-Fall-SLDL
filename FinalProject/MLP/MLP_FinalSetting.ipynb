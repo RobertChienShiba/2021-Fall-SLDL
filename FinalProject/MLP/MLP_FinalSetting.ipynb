{
 "cells": [
  {
   "cell_type": "markdown",
   "metadata": {
    "id": "pkDfzauwCGVe"
   },
   "source": [
    "###Load Data"
   ]
  },
  {
   "cell_type": "code",
   "execution_count": 1,
   "metadata": {
    "id": "RMVcs2AoHoVZ"
   },
   "outputs": [],
   "source": [
    "import torch\n",
    "import torch.nn as nn\n",
    "from torchvision import datasets ,models,transforms\n",
    "from pathlib import Path\n",
    "from matplotlib import pyplot as plt\n",
    "import numpy as np\n",
    "import torch.nn.functional as F\n",
    "from sklearn.model_selection import train_test_split\n",
    "import matplotlib.pyplot as plt\n",
    "from torch.nn import Linear, ReLU, CrossEntropyLoss, Conv2d, MaxPool2d, Module\n",
    "from torch.optim import Adam\n",
    "import pandas as pd\n",
    "import os, shutil\n",
    "from os import listdir\n",
    "from tqdm import tqdm_notebook as tqdm\n",
    "from PIL import Image\n",
    "import torchvision.transforms as transforms\n",
    "from torch.utils.data import DataLoader"
   ]
  },
  {
   "cell_type": "code",
   "execution_count": null,
   "metadata": {
    "colab": {
     "base_uri": "https://localhost:8080/"
    },
    "id": "e6kmvFcKCE2X",
    "outputId": "831651a5-148b-437f-af02-270863d1a1ed"
   },
   "outputs": [
    {
     "name": "stdout",
     "output_type": "stream",
     "text": [
      "Mounted at /content/drive\n"
     ]
    }
   ],
   "source": [
    "from google.colab import drive\n",
    "drive.mount('/content/drive')"
   ]
  },
  {
   "cell_type": "code",
   "execution_count": null,
   "metadata": {
    "colab": {
     "base_uri": "https://localhost:8080/"
    },
    "id": "Nci4NfRFbTGM",
    "outputId": "f79bb911-5d43-4284-de10-a85a57b90b48"
   },
   "outputs": [
    {
     "name": "stdout",
     "output_type": "stream",
     "text": [
      "Downloading...\n",
      "From: https://drive.google.com/uc?id=1l8YzfPxHeMuLfUdSILbbb7gK98d3a9Ja\n",
      "To: /content/split_.zip\n",
      "100% 4.56G/4.56G [00:43<00:00, 105MB/s] \n"
     ]
    }
   ],
   "source": [
    "#!gdown --id '16k0608XLsNcCWvX9mawqv_ojAHQB7aa9'\n",
    "#!unzip -q OneDrive-2021-12-12.zip\n",
    "#https://drive.google.com/drive/folders/1KGXp-WE5SJ1xQqU9EQWsXNVA17XWS84w?usp=sharing\n",
    "!gdown --id '1l8YzfPxHeMuLfUdSILbbb7gK98d3a9Ja'\n",
    "!unzip -q split_.zip"
   ]
  },
  {
   "cell_type": "code",
   "execution_count": null,
   "metadata": {
    "colab": {
     "base_uri": "https://localhost:8080/"
    },
    "id": "0E39_pW9P-tC",
    "outputId": "a72f0265-75dc-47a2-c8df-59e3c6143df8"
   },
   "outputs": [
    {
     "name": "stdout",
     "output_type": "stream",
     "text": [
      "train neg  2484\n",
      "train pos  2484\n",
      "test neg  359\n",
      "test pos  45\n",
      "val neg  363\n",
      "val pos  44\n"
     ]
    }
   ],
   "source": [
    "# check\n",
    "path, dirs, files = next(os.walk(\"content/drive/MyDrive/split/train/negative\"))\n",
    "print(\"train neg \",len(files))\n",
    "path, dirs, files = next(os.walk(\"content/drive/MyDrive/split/train/positive\"))\n",
    "print(\"train pos \",len(files))\n",
    "path, dirs, files = next(os.walk(\"content/drive/MyDrive/split/test/negative\"))\n",
    "print(\"test neg \",len(files))\n",
    "path, dirs, files = next(os.walk(\"content/drive/MyDrive/split/test/positive\"))\n",
    "print(\"test pos \",len(files))\n",
    "path, dirs, files = next(os.walk(\"content/drive/MyDrive/split/val/negative\"))\n",
    "print(\"val neg \",len(files))\n",
    "path, dirs, files = next(os.walk(\"content/drive/MyDrive/split/val/positive\"))\n",
    "print(\"val pos \",len(files))"
   ]
  },
  {
   "cell_type": "markdown",
   "metadata": {
    "id": "fJpfESMizbgb"
   },
   "source": [
    "### Transform to tensor"
   ]
  },
  {
   "cell_type": "code",
   "execution_count": 2,
   "metadata": {
    "id": "VFcTGGhozXBU"
   },
   "outputs": [],
   "source": [
    "# raw img size 4040 * 5416 pixel\n",
    "wid = 1000\n",
    "hgt = 1000\n",
    "\n",
    "train_tfm = transforms.Compose([\n",
    "    transforms.Resize((1000, 1000)),\n",
    "    # transforms.ColorJitter(contrast=1),\n",
    "    # transforms.RandomRotation(degrees = 8, fill = 1),\n",
    "    # transforms.Resize((128, 128)),\n",
    "    # transforms.RandomHorizontalFlip(p=0.5),\n",
    "    transforms.Grayscale(num_output_channels=1),\n",
    "    transforms.ToTensor(),\n",
    "])\n",
    "\n",
    "test_tfm = transforms.Compose([\n",
    "    transforms.Resize((1000, 1000)),\n",
    "    transforms.Grayscale(num_output_channels=1),\n",
    "    transforms.ToTensor(),\n",
    "])\n",
    "\n",
    "# input[512, 1, 28, 28]"
   ]
  },
  {
   "cell_type": "markdown",
   "metadata": {
    "id": "NJpzd9Z16Zqy"
   },
   "source": [
    "### Build Dataset"
   ]
  },
  {
   "cell_type": "code",
   "execution_count": 3,
   "metadata": {
    "id": "ph4o1U5WnxGd"
   },
   "outputs": [],
   "source": [
    "batch_size = 16\n",
    "#train_set = datasets.DatasetFolder(\"split/train\", loader=lambda x: Image.open(x), extensions=\"jpg\", transform=train_tfm)\n",
    "subtrain_set = datasets.DatasetFolder(\"split/train\", loader=lambda x: Image.open(x), extensions=\"jpg\", transform=train_tfm)\n",
    "valid_set = datasets.DatasetFolder(\"split/val\", loader=lambda x: Image.open(x), extensions=\"jpg\", transform=test_tfm)\n",
    "test_set = datasets.DatasetFolder(\"split/test\", loader=lambda x: Image.open(x), extensions=\"jpg\", transform=test_tfm)\n",
    "\n",
    "#train_loader = DataLoader(train_set, batch_size=batch_size, shuffle=True) # , num_workers=8, pin_memory=True\n",
    "subtrain_loader = DataLoader(subtrain_set, batch_size=batch_size, shuffle=True)\n",
    "valid_loader = DataLoader(valid_set, batch_size=batch_size, shuffle=True)\n",
    "test_loader = DataLoader(test_set, batch_size=batch_size, shuffle=False)"
   ]
  },
  {
   "cell_type": "code",
   "execution_count": 4,
   "metadata": {
    "colab": {
     "base_uri": "https://localhost:8080/"
    },
    "id": "Sl40eDvxWaa5",
    "outputId": "01480a05-2799-4b66-9efe-4fa5c89e02f3"
   },
   "outputs": [
    {
     "name": "stdout",
     "output_type": "stream",
     "text": [
      "Get length: 4968\n",
      "Get training data at position 3:  (tensor([[[0.8157, 0.8039, 0.7922,  ..., 0.1137, 0.1137, 0.1137],\n",
      "         [0.7961, 0.7882, 0.7804,  ..., 0.1098, 0.1098, 0.1059],\n",
      "         [0.7725, 0.7765, 0.7765,  ..., 0.1098, 0.1020, 0.0980],\n",
      "         ...,\n",
      "         [0.4039, 0.4039, 0.4039,  ..., 0.2471, 0.2627, 0.2706],\n",
      "         [0.4078, 0.4039, 0.4039,  ..., 0.2471, 0.2627, 0.2706],\n",
      "         [0.4157, 0.4118, 0.4078,  ..., 0.2471, 0.2588, 0.2667]]]), 0)\n"
     ]
    }
   ],
   "source": [
    "print(\"Get length:\", len(subtrain_set))\n",
    "print(\"Get training data at position 3: \", subtrain_set[3])"
   ]
  },
  {
   "cell_type": "code",
   "execution_count": 5,
   "metadata": {
    "colab": {
     "base_uri": "https://localhost:8080/"
    },
    "id": "g5VVJik1UQOh",
    "outputId": "55de9765-9638-4291-9e9f-837a07180b1d"
   },
   "outputs": [
    {
     "data": {
      "text/plain": [
       "torch.Size([1, 1000, 1000])"
      ]
     },
     "execution_count": 5,
     "metadata": {},
     "output_type": "execute_result"
    }
   ],
   "source": [
    "subtrain_set[0][0].shape"
   ]
  },
  {
   "cell_type": "markdown",
   "metadata": {
    "id": "v70BfWBdxahw"
   },
   "source": [
    "### MLP (博任)"
   ]
  },
  {
   "cell_type": "code",
   "execution_count": 6,
   "metadata": {
    "id": "zhq7ahtUitEG"
   },
   "outputs": [],
   "source": [
    "# dataiter = iter(train_loader)\n",
    "# images, labels = dataiter.next()\n",
    "\n",
    "# print(images.shape)\n",
    "# print(labels.shape)\n",
    "#CUDA_LAUNCH_BLOCKING=1\n",
    "use_cuda = torch.cuda.is_available()\n",
    "device = torch.device(\"cuda\" if use_cuda else \"cpu\")"
   ]
  },
  {
   "cell_type": "code",
   "execution_count": 7,
   "metadata": {
    "colab": {
     "base_uri": "https://localhost:8080/"
    },
    "id": "3MFYg9zWR8gV",
    "outputId": "890243a5-b1ea-4c64-dc2e-163f5baa23ca"
   },
   "outputs": [
    {
     "name": "stdout",
     "output_type": "stream",
     "text": [
      "Running on device:  cuda\n"
     ]
    }
   ],
   "source": [
    "#get number of input features\n",
    "#D_in = 3*5416*4040\n",
    "D_in = 1000*1000\n",
    "H = 128\n",
    "#Binary classification problem\n",
    "D_out = 1\n",
    "use_cuda = torch.cuda.is_available()\n",
    "if use_cuda:\n",
    "    device = \"cuda\"   \n",
    "else:\n",
    "    device = \"cpu\"\n",
    "print(\"Running on device: \", device)\n",
    "net = torch.nn.Sequential(\n",
    "        torch.nn.Linear(D_in, H),  \n",
    "        torch.nn.ReLU(),\n",
    "        #torch.nn.Dropout(0.5),\n",
    "        torch.nn.Linear(H, H),\n",
    "        torch.nn.ReLU(),\n",
    "        #torch.nn.Dropout(0.5),\n",
    "        torch.nn.Linear(H, H),\n",
    "        torch.nn.ReLU(),\n",
    "        #torch.nn.Dropout(0.5),\n",
    "        torch.nn.Linear(H, H),\n",
    "        torch.nn.ReLU(),\n",
    "        #torch.nn.Dropout(0.5),\n",
    "        torch.nn.Linear(H, D_out),\n",
    "        torch.nn.Sigmoid()\n",
    ")\n",
    "# convert everything to float precision. \n",
    "net = net.float()\n",
    "my_model = net \n",
    "\n",
    "# move the model to device (i.e., cpu or gpu)\n",
    "my_model = my_model.to(device)"
   ]
  },
  {
   "cell_type": "code",
   "execution_count": 8,
   "metadata": {
    "id": "CkMQ3yhxX_8l"
   },
   "outputs": [],
   "source": [
    "# define the optimizer\n",
    "optimizer = torch.optim.Adam(my_model.parameters(), lr=0.0001)\n",
    "# Binary Cross Entropy Loss\n",
    "loss_fn = torch.nn.BCELoss()\n",
    "#loss_fn = nn.BCEWithLogitsLoss()"
   ]
  },
  {
   "cell_type": "code",
   "execution_count": 13,
   "metadata": {
    "id": "5DAq_E0Bqy8_"
   },
   "outputs": [
    {
     "name": "stdout",
     "output_type": "stream",
     "text": [
      "Calculating Loss...\n"
     ]
    },
    {
     "name": "stderr",
     "output_type": "stream",
     "text": [
      "C:\\Users\\oplab\\AppData\\Local\\Temp/ipykernel_2508/668682494.py:71: FutureWarning: The input object of type 'Tensor' is an array-like implementing one of the corresponding protocols (`__array__`, `__array_interface__` or `__array_struct__`); but not a sequence (or 0-D). In the future, this object will be coerced as if it was first converted using `np.array(obj)`. To retain the old behaviour, you have to either modify the type 'Tensor', or assign to an empty array created with `np.empty(correct_shape, dtype=object)`.\n",
      "  validoutputs_array = np.array(validoutputs_list)\n",
      "C:\\Users\\oplab\\AppData\\Local\\Temp/ipykernel_2508/668682494.py:71: VisibleDeprecationWarning: Creating an ndarray from ragged nested sequences (which is a list-or-tuple of lists-or-tuples-or ndarrays with different lengths or shapes) is deprecated. If you meant to do this, you must specify 'dtype=object' when creating the ndarray.\n",
      "  validoutputs_array = np.array(validoutputs_list)\n",
      "C:\\Users\\oplab\\AppData\\Local\\Temp/ipykernel_2508/668682494.py:78: FutureWarning: The input object of type 'Tensor' is an array-like implementing one of the corresponding protocols (`__array__`, `__array_interface__` or `__array_struct__`); but not a sequence (or 0-D). In the future, this object will be coerced as if it was first converted using `np.array(obj)`. To retain the old behaviour, you have to either modify the type 'Tensor', or assign to an empty array created with `np.empty(correct_shape, dtype=object)`.\n",
      "  validtargets_array = np.array(validtargets_list)\n",
      "C:\\Users\\oplab\\AppData\\Local\\Temp/ipykernel_2508/668682494.py:78: VisibleDeprecationWarning: Creating an ndarray from ragged nested sequences (which is a list-or-tuple of lists-or-tuples-or ndarrays with different lengths or shapes) is deprecated. If you meant to do this, you must specify 'dtype=object' when creating the ndarray.\n",
      "  validtargets_array = np.array(validtargets_list)\n"
     ]
    },
    {
     "name": "stdout",
     "output_type": "stream",
     "text": [
      "Epoch 0 Batch 10: trainingLoss = 0.712, validationLoss = 0.903 (minibatch size = 16)\n",
      "Calculating Loss...\n",
      "Epoch 0 Batch 20: trainingLoss = 0.723, validationLoss = 1.078 (minibatch size = 16)\n",
      "Calculating Loss...\n",
      "Epoch 0 Batch 30: trainingLoss = 0.732, validationLoss = 0.668 (minibatch size = 16)\n",
      "Oh yah\n",
      "Calculating Loss...\n",
      "Epoch 0 Batch 40: trainingLoss = 0.722, validationLoss = 0.788 (minibatch size = 16)\n",
      "Calculating Loss...\n",
      "Epoch 0 Batch 50: trainingLoss = 0.723, validationLoss = 0.674 (minibatch size = 16)\n",
      "Calculating Loss...\n",
      "Epoch 0 Batch 60: trainingLoss = 0.727, validationLoss = 1.644 (minibatch size = 16)\n",
      "Calculating Loss...\n",
      "Epoch 0 Batch 70: trainingLoss = 0.743, validationLoss = 1.068 (minibatch size = 16)\n",
      "Calculating Loss...\n",
      "Epoch 0 Batch 80: trainingLoss = 0.738, validationLoss = 0.753 (minibatch size = 16)\n",
      "Calculating Loss...\n",
      "Epoch 0 Batch 90: trainingLoss = 0.735, validationLoss = 0.739 (minibatch size = 16)\n",
      "Calculating Loss...\n",
      "Epoch 0 Batch 100: trainingLoss = 0.735, validationLoss = 0.973 (minibatch size = 16)\n",
      "Calculating Loss...\n",
      "Epoch 0 Batch 110: trainingLoss = 0.740, validationLoss = 0.882 (minibatch size = 16)\n",
      "Calculating Loss...\n",
      "Epoch 0 Batch 120: trainingLoss = 0.736, validationLoss = 0.892 (minibatch size = 16)\n",
      "Calculating Loss...\n",
      "Epoch 0 Batch 130: trainingLoss = 0.733, validationLoss = 0.541 (minibatch size = 16)\n",
      "Oh yah\n",
      "Calculating Loss...\n",
      "Epoch 0 Batch 140: trainingLoss = 0.730, validationLoss = 0.768 (minibatch size = 16)\n",
      "Calculating Loss...\n",
      "Epoch 0 Batch 150: trainingLoss = 0.727, validationLoss = 0.661 (minibatch size = 16)\n",
      "Calculating Loss...\n",
      "Epoch 0 Batch 160: trainingLoss = 0.726, validationLoss = 0.729 (minibatch size = 16)\n",
      "Calculating Loss...\n",
      "Epoch 0 Batch 170: trainingLoss = 0.723, validationLoss = 0.632 (minibatch size = 16)\n",
      "Calculating Loss...\n",
      "Epoch 0 Batch 180: trainingLoss = 0.720, validationLoss = 0.708 (minibatch size = 16)\n",
      "Calculating Loss...\n",
      "Epoch 0 Batch 190: trainingLoss = 0.716, validationLoss = 0.689 (minibatch size = 16)\n",
      "Calculating Loss...\n",
      "Epoch 0 Batch 200: trainingLoss = 0.714, validationLoss = 0.834 (minibatch size = 16)\n",
      "Calculating Loss...\n",
      "Epoch 0 Batch 210: trainingLoss = 0.712, validationLoss = 0.455 (minibatch size = 16)\n",
      "Oh yah\n",
      "Calculating Loss...\n",
      "Epoch 0 Batch 220: trainingLoss = 0.712, validationLoss = 0.790 (minibatch size = 16)\n",
      "Calculating Loss...\n",
      "Epoch 0 Batch 230: trainingLoss = 0.711, validationLoss = 0.613 (minibatch size = 16)\n",
      "Calculating Loss...\n",
      "Epoch 0 Batch 240: trainingLoss = 0.709, validationLoss = 0.453 (minibatch size = 16)\n",
      "Oh yah\n",
      "Calculating Loss...\n",
      "Epoch 0 Batch 250: trainingLoss = 0.708, validationLoss = 0.690 (minibatch size = 16)\n",
      "Calculating Loss...\n",
      "Epoch 0 Batch 260: trainingLoss = 0.707, validationLoss = 0.657 (minibatch size = 16)\n",
      "Calculating Loss...\n",
      "Epoch 0 Batch 270: trainingLoss = 0.706, validationLoss = 0.549 (minibatch size = 16)\n",
      "Calculating Loss...\n",
      "Epoch 0 Batch 280: trainingLoss = 0.704, validationLoss = 0.603 (minibatch size = 16)\n",
      "Calculating Loss...\n",
      "Epoch 0 Batch 290: trainingLoss = 0.703, validationLoss = 0.814 (minibatch size = 16)\n",
      "Calculating Loss...\n",
      "Epoch 0 Batch 300: trainingLoss = 0.703, validationLoss = 0.607 (minibatch size = 16)\n",
      "Calculating Loss...\n",
      "Epoch 0 Batch 310: trainingLoss = 0.701, validationLoss = 0.529 (minibatch size = 16)\n",
      "Calculating Loss...\n",
      "Epoch 1 Batch 320: trainingLoss = 0.701, validationLoss = 0.587 (minibatch size = 16)\n",
      "Calculating Loss...\n",
      "Epoch 1 Batch 330: trainingLoss = 0.701, validationLoss = 1.119 (minibatch size = 16)\n",
      "Calculating Loss...\n",
      "Epoch 1 Batch 340: trainingLoss = 0.704, validationLoss = 0.734 (minibatch size = 16)\n",
      "Calculating Loss...\n",
      "Epoch 1 Batch 350: trainingLoss = 0.703, validationLoss = 0.568 (minibatch size = 16)\n",
      "Calculating Loss...\n",
      "Epoch 1 Batch 360: trainingLoss = 0.701, validationLoss = 0.679 (minibatch size = 16)\n",
      "Calculating Loss...\n",
      "Epoch 1 Batch 370: trainingLoss = 0.701, validationLoss = 0.691 (minibatch size = 16)\n",
      "Calculating Loss...\n",
      "Epoch 1 Batch 380: trainingLoss = 0.700, validationLoss = 0.451 (minibatch size = 16)\n",
      "Oh yah\n",
      "Calculating Loss...\n",
      "Epoch 1 Batch 390: trainingLoss = 0.700, validationLoss = 0.561 (minibatch size = 16)\n",
      "Calculating Loss...\n",
      "Epoch 1 Batch 400: trainingLoss = 0.700, validationLoss = 0.751 (minibatch size = 16)\n",
      "Calculating Loss...\n",
      "Epoch 1 Batch 410: trainingLoss = 0.698, validationLoss = 0.630 (minibatch size = 16)\n",
      "Calculating Loss...\n",
      "Epoch 1 Batch 420: trainingLoss = 0.697, validationLoss = 0.642 (minibatch size = 16)\n",
      "Calculating Loss...\n",
      "Epoch 1 Batch 430: trainingLoss = 0.697, validationLoss = 0.492 (minibatch size = 16)\n",
      "Calculating Loss...\n",
      "Epoch 1 Batch 440: trainingLoss = 0.696, validationLoss = 0.798 (minibatch size = 16)\n",
      "Calculating Loss...\n",
      "Epoch 1 Batch 450: trainingLoss = 0.695, validationLoss = 0.510 (minibatch size = 16)\n",
      "Calculating Loss...\n",
      "Epoch 1 Batch 460: trainingLoss = 0.694, validationLoss = 0.840 (minibatch size = 16)\n",
      "Calculating Loss...\n",
      "Epoch 1 Batch 470: trainingLoss = 0.693, validationLoss = 0.475 (minibatch size = 16)\n",
      "Calculating Loss...\n",
      "Epoch 1 Batch 480: trainingLoss = 0.692, validationLoss = 0.941 (minibatch size = 16)\n",
      "Calculating Loss...\n",
      "Epoch 1 Batch 490: trainingLoss = 0.692, validationLoss = 0.710 (minibatch size = 16)\n",
      "Calculating Loss...\n",
      "Epoch 1 Batch 500: trainingLoss = 0.691, validationLoss = 0.591 (minibatch size = 16)\n",
      "Calculating Loss...\n",
      "Epoch 1 Batch 510: trainingLoss = 0.690, validationLoss = 0.820 (minibatch size = 16)\n",
      "Calculating Loss...\n",
      "Epoch 1 Batch 520: trainingLoss = 0.689, validationLoss = 0.523 (minibatch size = 16)\n",
      "Calculating Loss...\n",
      "Epoch 1 Batch 530: trainingLoss = 0.688, validationLoss = 0.570 (minibatch size = 16)\n",
      "Calculating Loss...\n",
      "Epoch 1 Batch 540: trainingLoss = 0.688, validationLoss = 0.594 (minibatch size = 16)\n",
      "Calculating Loss...\n",
      "Epoch 1 Batch 550: trainingLoss = 0.687, validationLoss = 0.593 (minibatch size = 16)\n",
      "Calculating Loss...\n",
      "Epoch 1 Batch 560: trainingLoss = 0.686, validationLoss = 0.704 (minibatch size = 16)\n",
      "Calculating Loss...\n",
      "Epoch 1 Batch 570: trainingLoss = 0.686, validationLoss = 0.516 (minibatch size = 16)\n",
      "Calculating Loss...\n",
      "Epoch 1 Batch 580: trainingLoss = 0.685, validationLoss = 0.434 (minibatch size = 16)\n",
      "Oh yah\n",
      "Calculating Loss...\n",
      "Epoch 1 Batch 590: trainingLoss = 0.686, validationLoss = 0.493 (minibatch size = 16)\n",
      "Calculating Loss...\n",
      "Epoch 1 Batch 600: trainingLoss = 0.685, validationLoss = 0.519 (minibatch size = 16)\n",
      "Calculating Loss...\n",
      "Epoch 1 Batch 610: trainingLoss = 0.685, validationLoss = 0.657 (minibatch size = 16)\n",
      "Calculating Loss...\n",
      "Epoch 1 Batch 620: trainingLoss = 0.685, validationLoss = 0.501 (minibatch size = 16)\n",
      "Calculating Loss...\n",
      "Epoch 2 Batch 630: trainingLoss = 0.683, validationLoss = 0.691 (minibatch size = 16)\n",
      "Calculating Loss...\n",
      "Epoch 2 Batch 640: trainingLoss = 0.682, validationLoss = 1.057 (minibatch size = 16)\n",
      "Calculating Loss...\n",
      "Epoch 2 Batch 650: trainingLoss = 0.683, validationLoss = 0.496 (minibatch size = 16)\n",
      "Calculating Loss...\n",
      "Epoch 2 Batch 660: trainingLoss = 0.683, validationLoss = 0.422 (minibatch size = 16)\n",
      "Oh yah\n",
      "Calculating Loss...\n",
      "Epoch 2 Batch 670: trainingLoss = 0.684, validationLoss = 0.820 (minibatch size = 16)\n",
      "Calculating Loss...\n",
      "Epoch 2 Batch 680: trainingLoss = 0.683, validationLoss = 0.529 (minibatch size = 16)\n",
      "Calculating Loss...\n",
      "Epoch 2 Batch 690: trainingLoss = 0.683, validationLoss = 0.647 (minibatch size = 16)\n",
      "Calculating Loss...\n",
      "Epoch 2 Batch 700: trainingLoss = 0.682, validationLoss = 0.647 (minibatch size = 16)\n",
      "Calculating Loss...\n",
      "Epoch 2 Batch 710: trainingLoss = 0.682, validationLoss = 0.409 (minibatch size = 16)\n",
      "Oh yah\n",
      "Calculating Loss...\n",
      "Epoch 2 Batch 720: trainingLoss = 0.681, validationLoss = 0.635 (minibatch size = 16)\n",
      "Calculating Loss...\n",
      "Epoch 2 Batch 730: trainingLoss = 0.681, validationLoss = 0.614 (minibatch size = 16)\n",
      "Calculating Loss...\n",
      "Epoch 2 Batch 740: trainingLoss = 0.680, validationLoss = 0.839 (minibatch size = 16)\n",
      "Calculating Loss...\n",
      "Epoch 2 Batch 750: trainingLoss = 0.680, validationLoss = 0.703 (minibatch size = 16)\n",
      "Calculating Loss...\n",
      "Epoch 2 Batch 760: trainingLoss = 0.681, validationLoss = 0.522 (minibatch size = 16)\n",
      "Calculating Loss...\n",
      "Epoch 2 Batch 770: trainingLoss = 0.680, validationLoss = 0.829 (minibatch size = 16)\n",
      "Calculating Loss...\n",
      "Epoch 2 Batch 780: trainingLoss = 0.680, validationLoss = 0.547 (minibatch size = 16)\n",
      "Calculating Loss...\n",
      "Epoch 2 Batch 790: trainingLoss = 0.680, validationLoss = 0.612 (minibatch size = 16)\n",
      "Calculating Loss...\n",
      "Epoch 2 Batch 800: trainingLoss = 0.680, validationLoss = 0.743 (minibatch size = 16)\n",
      "Calculating Loss...\n",
      "Epoch 2 Batch 810: trainingLoss = 0.679, validationLoss = 0.550 (minibatch size = 16)\n",
      "Calculating Loss...\n",
      "Epoch 2 Batch 820: trainingLoss = 0.678, validationLoss = 0.608 (minibatch size = 16)\n",
      "Calculating Loss...\n",
      "Epoch 2 Batch 830: trainingLoss = 0.678, validationLoss = 0.650 (minibatch size = 16)\n",
      "Calculating Loss...\n",
      "Epoch 2 Batch 840: trainingLoss = 0.679, validationLoss = 0.758 (minibatch size = 16)\n",
      "Calculating Loss...\n",
      "Epoch 2 Batch 850: trainingLoss = 0.679, validationLoss = 0.567 (minibatch size = 16)\n",
      "Calculating Loss...\n",
      "Epoch 2 Batch 860: trainingLoss = 0.678, validationLoss = 0.600 (minibatch size = 16)\n",
      "Calculating Loss...\n",
      "Epoch 2 Batch 870: trainingLoss = 0.678, validationLoss = 0.461 (minibatch size = 16)\n",
      "Calculating Loss...\n",
      "Epoch 2 Batch 880: trainingLoss = 0.678, validationLoss = 0.819 (minibatch size = 16)\n",
      "Calculating Loss...\n",
      "Epoch 2 Batch 890: trainingLoss = 0.678, validationLoss = 0.450 (minibatch size = 16)\n",
      "Calculating Loss...\n",
      "Epoch 2 Batch 900: trainingLoss = 0.677, validationLoss = 0.744 (minibatch size = 16)\n",
      "Calculating Loss...\n",
      "Epoch 2 Batch 910: trainingLoss = 0.677, validationLoss = 0.608 (minibatch size = 16)\n",
      "Calculating Loss...\n",
      "Epoch 2 Batch 920: trainingLoss = 0.677, validationLoss = 0.881 (minibatch size = 16)\n",
      "Calculating Loss...\n",
      "Epoch 2 Batch 930: trainingLoss = 0.677, validationLoss = 0.716 (minibatch size = 16)\n",
      "Calculating Loss...\n",
      "Epoch 3 Batch 940: trainingLoss = 0.677, validationLoss = 0.665 (minibatch size = 16)\n",
      "Calculating Loss...\n",
      "Epoch 3 Batch 950: trainingLoss = 0.677, validationLoss = 0.610 (minibatch size = 16)\n",
      "Calculating Loss...\n",
      "Epoch 3 Batch 960: trainingLoss = 0.676, validationLoss = 0.931 (minibatch size = 16)\n",
      "Calculating Loss...\n",
      "Epoch 3 Batch 970: trainingLoss = 0.676, validationLoss = 0.521 (minibatch size = 16)\n",
      "Calculating Loss...\n",
      "Epoch 3 Batch 980: trainingLoss = 0.676, validationLoss = 0.928 (minibatch size = 16)\n",
      "Calculating Loss...\n",
      "Epoch 3 Batch 990: trainingLoss = 0.676, validationLoss = 0.538 (minibatch size = 16)\n",
      "Calculating Loss...\n",
      "Epoch 3 Batch 1000: trainingLoss = 0.675, validationLoss = 0.659 (minibatch size = 16)\n",
      "Calculating Loss...\n",
      "Epoch 3 Batch 1010: trainingLoss = 0.675, validationLoss = 0.713 (minibatch size = 16)\n",
      "Calculating Loss...\n",
      "Epoch 3 Batch 1020: trainingLoss = 0.675, validationLoss = 0.656 (minibatch size = 16)\n",
      "Calculating Loss...\n",
      "Epoch 3 Batch 1030: trainingLoss = 0.674, validationLoss = 0.543 (minibatch size = 16)\n",
      "Calculating Loss...\n",
      "Epoch 3 Batch 1040: trainingLoss = 0.673, validationLoss = 0.506 (minibatch size = 16)\n",
      "Calculating Loss...\n",
      "Epoch 3 Batch 1050: trainingLoss = 0.673, validationLoss = 0.784 (minibatch size = 16)\n",
      "Calculating Loss...\n",
      "Epoch 3 Batch 1060: trainingLoss = 0.673, validationLoss = 0.568 (minibatch size = 16)\n",
      "Calculating Loss...\n",
      "Epoch 3 Batch 1070: trainingLoss = 0.672, validationLoss = 0.518 (minibatch size = 16)\n",
      "Calculating Loss...\n",
      "Epoch 3 Batch 1080: trainingLoss = 0.672, validationLoss = 0.998 (minibatch size = 16)\n",
      "Calculating Loss...\n",
      "Epoch 3 Batch 1090: trainingLoss = 0.673, validationLoss = 0.713 (minibatch size = 16)\n",
      "Calculating Loss...\n",
      "Epoch 3 Batch 1100: trainingLoss = 0.672, validationLoss = 0.497 (minibatch size = 16)\n",
      "Calculating Loss...\n",
      "Epoch 3 Batch 1110: trainingLoss = 0.672, validationLoss = 0.888 (minibatch size = 16)\n",
      "Calculating Loss...\n",
      "Epoch 3 Batch 1120: trainingLoss = 0.672, validationLoss = 0.594 (minibatch size = 16)\n",
      "Calculating Loss...\n",
      "Epoch 3 Batch 1130: trainingLoss = 0.671, validationLoss = 0.493 (minibatch size = 16)\n",
      "Calculating Loss...\n",
      "Epoch 3 Batch 1140: trainingLoss = 0.671, validationLoss = 0.689 (minibatch size = 16)\n",
      "Calculating Loss...\n",
      "Epoch 3 Batch 1150: trainingLoss = 0.671, validationLoss = 0.470 (minibatch size = 16)\n",
      "Calculating Loss...\n",
      "Epoch 3 Batch 1160: trainingLoss = 0.671, validationLoss = 0.721 (minibatch size = 16)\n",
      "Calculating Loss...\n",
      "Epoch 3 Batch 1170: trainingLoss = 0.671, validationLoss = 0.608 (minibatch size = 16)\n",
      "Calculating Loss...\n",
      "Epoch 3 Batch 1180: trainingLoss = 0.670, validationLoss = 0.482 (minibatch size = 16)\n",
      "Calculating Loss...\n",
      "Epoch 3 Batch 1190: trainingLoss = 0.670, validationLoss = 0.759 (minibatch size = 16)\n",
      "Calculating Loss...\n",
      "Epoch 3 Batch 1200: trainingLoss = 0.670, validationLoss = 0.665 (minibatch size = 16)\n",
      "Calculating Loss...\n",
      "Epoch 3 Batch 1210: trainingLoss = 0.670, validationLoss = 0.593 (minibatch size = 16)\n",
      "Calculating Loss...\n",
      "Epoch 3 Batch 1220: trainingLoss = 0.669, validationLoss = 0.659 (minibatch size = 16)\n",
      "Calculating Loss...\n",
      "Epoch 3 Batch 1230: trainingLoss = 0.669, validationLoss = 0.603 (minibatch size = 16)\n",
      "Calculating Loss...\n",
      "Epoch 3 Batch 1240: trainingLoss = 0.669, validationLoss = 0.565 (minibatch size = 16)\n",
      "Calculating Loss...\n",
      "Epoch 4 Batch 1250: trainingLoss = 0.669, validationLoss = 0.590 (minibatch size = 16)\n",
      "Calculating Loss...\n",
      "Epoch 4 Batch 1260: trainingLoss = 0.669, validationLoss = 0.535 (minibatch size = 16)\n",
      "Calculating Loss...\n",
      "Epoch 4 Batch 1270: trainingLoss = 0.668, validationLoss = 0.809 (minibatch size = 16)\n",
      "Calculating Loss...\n",
      "Epoch 4 Batch 1280: trainingLoss = 0.668, validationLoss = 0.576 (minibatch size = 16)\n",
      "Calculating Loss...\n",
      "Epoch 4 Batch 1290: trainingLoss = 0.668, validationLoss = 0.640 (minibatch size = 16)\n",
      "Calculating Loss...\n",
      "Epoch 4 Batch 1300: trainingLoss = 0.668, validationLoss = 0.562 (minibatch size = 16)\n",
      "Calculating Loss...\n",
      "Epoch 4 Batch 1310: trainingLoss = 0.667, validationLoss = 0.796 (minibatch size = 16)\n",
      "Calculating Loss...\n",
      "Epoch 4 Batch 1320: trainingLoss = 0.667, validationLoss = 0.633 (minibatch size = 16)\n",
      "Calculating Loss...\n",
      "Epoch 4 Batch 1330: trainingLoss = 0.667, validationLoss = 0.715 (minibatch size = 16)\n",
      "Calculating Loss...\n",
      "Epoch 4 Batch 1340: trainingLoss = 0.667, validationLoss = 0.609 (minibatch size = 16)\n",
      "Calculating Loss...\n",
      "Epoch 4 Batch 1350: trainingLoss = 0.667, validationLoss = 0.706 (minibatch size = 16)\n",
      "Calculating Loss...\n",
      "Epoch 4 Batch 1360: trainingLoss = 0.667, validationLoss = 0.565 (minibatch size = 16)\n",
      "Calculating Loss...\n",
      "Epoch 4 Batch 1370: trainingLoss = 0.666, validationLoss = 0.811 (minibatch size = 16)\n",
      "Calculating Loss...\n",
      "Epoch 4 Batch 1380: trainingLoss = 0.665, validationLoss = 0.659 (minibatch size = 16)\n",
      "Calculating Loss...\n",
      "Epoch 4 Batch 1390: trainingLoss = 0.665, validationLoss = 0.596 (minibatch size = 16)\n",
      "Calculating Loss...\n",
      "Epoch 4 Batch 1400: trainingLoss = 0.665, validationLoss = 0.618 (minibatch size = 16)\n",
      "Calculating Loss...\n",
      "Epoch 4 Batch 1410: trainingLoss = 0.664, validationLoss = 0.726 (minibatch size = 16)\n",
      "Calculating Loss...\n",
      "Epoch 4 Batch 1420: trainingLoss = 0.665, validationLoss = 0.501 (minibatch size = 16)\n",
      "Calculating Loss...\n",
      "Epoch 4 Batch 1430: trainingLoss = 0.665, validationLoss = 0.589 (minibatch size = 16)\n",
      "Calculating Loss...\n",
      "Epoch 4 Batch 1440: trainingLoss = 0.664, validationLoss = 0.613 (minibatch size = 16)\n",
      "Calculating Loss...\n",
      "Epoch 4 Batch 1450: trainingLoss = 0.665, validationLoss = 0.636 (minibatch size = 16)\n",
      "Calculating Loss...\n",
      "Epoch 4 Batch 1460: trainingLoss = 0.664, validationLoss = 0.672 (minibatch size = 16)\n",
      "Calculating Loss...\n",
      "Epoch 4 Batch 1470: trainingLoss = 0.664, validationLoss = 0.522 (minibatch size = 16)\n",
      "Calculating Loss...\n",
      "Epoch 4 Batch 1480: trainingLoss = 0.664, validationLoss = 0.669 (minibatch size = 16)\n",
      "Calculating Loss...\n",
      "Epoch 4 Batch 1490: trainingLoss = 0.664, validationLoss = 0.565 (minibatch size = 16)\n",
      "Calculating Loss...\n",
      "Epoch 4 Batch 1500: trainingLoss = 0.663, validationLoss = 0.552 (minibatch size = 16)\n",
      "Calculating Loss...\n",
      "Epoch 4 Batch 1510: trainingLoss = 0.663, validationLoss = 0.513 (minibatch size = 16)\n",
      "Calculating Loss...\n",
      "Epoch 4 Batch 1520: trainingLoss = 0.662, validationLoss = 0.520 (minibatch size = 16)\n",
      "Calculating Loss...\n",
      "Epoch 4 Batch 1530: trainingLoss = 0.662, validationLoss = 0.765 (minibatch size = 16)\n",
      "Calculating Loss...\n",
      "Epoch 4 Batch 1540: trainingLoss = 0.662, validationLoss = 0.423 (minibatch size = 16)\n",
      "Calculating Loss...\n",
      "Epoch 4 Batch 1550: trainingLoss = 0.662, validationLoss = 0.908 (minibatch size = 16)\n",
      "Calculating Loss...\n",
      "Epoch 5 Batch 1560: trainingLoss = 0.662, validationLoss = 0.614 (minibatch size = 16)\n",
      "Calculating Loss...\n",
      "Epoch 5 Batch 1570: trainingLoss = 0.662, validationLoss = 0.586 (minibatch size = 16)\n",
      "Calculating Loss...\n",
      "Epoch 5 Batch 1580: trainingLoss = 0.661, validationLoss = 0.530 (minibatch size = 16)\n",
      "Calculating Loss...\n",
      "Epoch 5 Batch 1590: trainingLoss = 0.661, validationLoss = 0.688 (minibatch size = 16)\n",
      "Calculating Loss...\n",
      "Epoch 5 Batch 1600: trainingLoss = 0.661, validationLoss = 1.039 (minibatch size = 16)\n",
      "Calculating Loss...\n",
      "Epoch 5 Batch 1610: trainingLoss = 0.662, validationLoss = 0.551 (minibatch size = 16)\n",
      "Calculating Loss...\n",
      "Epoch 5 Batch 1620: trainingLoss = 0.661, validationLoss = 0.557 (minibatch size = 16)\n",
      "Calculating Loss...\n",
      "Epoch 5 Batch 1630: trainingLoss = 0.661, validationLoss = 0.568 (minibatch size = 16)\n",
      "Calculating Loss...\n",
      "Epoch 5 Batch 1640: trainingLoss = 0.661, validationLoss = 0.571 (minibatch size = 16)\n",
      "Calculating Loss...\n",
      "Epoch 5 Batch 1650: trainingLoss = 0.661, validationLoss = 0.573 (minibatch size = 16)\n",
      "Calculating Loss...\n",
      "Epoch 5 Batch 1660: trainingLoss = 0.661, validationLoss = 0.763 (minibatch size = 16)\n",
      "Calculating Loss...\n",
      "Epoch 5 Batch 1670: trainingLoss = 0.661, validationLoss = 0.722 (minibatch size = 16)\n",
      "Calculating Loss...\n",
      "Epoch 5 Batch 1680: trainingLoss = 0.660, validationLoss = 0.802 (minibatch size = 16)\n",
      "Calculating Loss...\n",
      "Epoch 5 Batch 1690: trainingLoss = 0.660, validationLoss = 0.572 (minibatch size = 16)\n",
      "Calculating Loss...\n",
      "Epoch 5 Batch 1700: trainingLoss = 0.660, validationLoss = 0.694 (minibatch size = 16)\n",
      "Calculating Loss...\n",
      "Epoch 5 Batch 1710: trainingLoss = 0.660, validationLoss = 0.545 (minibatch size = 16)\n",
      "early stop1\n",
      "early stop2\n"
     ]
    }
   ],
   "source": [
    "nepoch = 100\n",
    "step_count = 0\n",
    "log_interval = 10\n",
    "#trainingAccuracy_list = []\n",
    "#validationAccuracy_list = []\n",
    "trainingloss_list = []\n",
    "validloss_list = []\n",
    "step_count_list = []\n",
    "#train_ncorrect = 0\n",
    "#train_test_nobs = 0\n",
    "cumulative_loss = 0\n",
    "countdown = 100\n",
    "\n",
    "\n",
    "for epoch_id in range(0, nepoch):    \n",
    "    if countdown == 0:\n",
    "        print(\"early stop2\")\n",
    "        break  \n",
    "    for batch_idx, (inputs, targets) in enumerate(subtrain_loader):\n",
    "        #reshape target to two-dimensional array\n",
    "        targets = targets.reshape((-1, 1))\n",
    "        step_count += 1        \n",
    "        my_model.train()\n",
    "        #print(inputs)\n",
    "        #print(targets)\n",
    "        inputs, targets = inputs.to(device), targets.to(device)\n",
    "      \n",
    "        optimizer.zero_grad()\n",
    "        batch_size = inputs.shape[0]\n",
    "        inputs = inputs.view(batch_size, -1)\n",
    "        outputs = my_model(inputs)   \n",
    "        targets = targets.float()\n",
    "        loss = loss_fn(outputs, targets)\n",
    "        cumulative_loss += loss\n",
    "\n",
    "        #train_pred = (outputs.cpu().detach().numpy() > 0.5).astype('float32')\n",
    "        #train_tmp_correct = (train_pred == targets.cpu().detach().numpy()).sum()\n",
    "        #train_ncorrect += train_tmp_correct\n",
    "        #train_test_nobs += len(train_pred) \n",
    "  \n",
    "        loss.backward()\n",
    "        optimizer.step()\n",
    "        #if step_count % log_interval == 0: \n",
    "        if step_count % log_interval == 0:\n",
    "            step_count_list.append(step_count)\n",
    "            #trainingAccuracy = train_ncorrect / train_test_nobs\n",
    "            #valid_ncorrect = 0\n",
    "            #valid_test_nobs = 0\n",
    "            validoutputs_list = []\n",
    "            validtargets_list = []\n",
    "            with torch.no_grad():\n",
    "              for i, (validinputs, validtargets) in enumerate(valid_loader):\n",
    "                if i == 0:\n",
    "                  print(\"Calculating Loss...\")\n",
    "                my_model.eval()\n",
    "                validtargets = validtargets.reshape((-1, 1))\n",
    "                validinputs, validtargets = validinputs.to(device), validtargets.to(device)\n",
    "                batch_size = validinputs.shape[0]\n",
    "                validinputs = validinputs.view(batch_size, -1)\n",
    "                validoutputs = my_model(validinputs) \n",
    "                validtargets = validtargets.float()\n",
    "                validoutputs_list.append(validoutputs)\n",
    "                validtargets_list.append(validtargets)\n",
    "                #valid_pred = (validoutputs.cpu().detach().numpy() > 0.5).astype('float32')\n",
    "                #valid_tmp_correct = (valid_pred == validtargets.cpu().detach().numpy()).sum()\n",
    "                #valid_ncorrect += valid_tmp_correct\n",
    "                #valid_test_nobs += len(valid_pred) \n",
    "            #validationAccuracy = valid_ncorrect / valid_test_nobs\n",
    "            for i in range(len(validoutputs_list)):\n",
    "              validoutputs_list[i] = validoutputs_list[i].to(\"cpu\")\n",
    "            validoutputs_array = np.array(validoutputs_list)\n",
    "            for i in range(len(validoutputs_array)):\n",
    "              validoutputs_array[i] = validoutputs_array[i].to(\"cpu\")\n",
    "              validoutputs_array[i] = validoutputs_array[i].numpy()\n",
    "            full_valid_outputs = np.concatenate(validoutputs_array, axis=0)\n",
    "            for i in range(len(validtargets_list)):\n",
    "              validtargets_list[i] = validtargets_list[i].to(\"cpu\")\n",
    "            validtargets_array = np.array(validtargets_list)\n",
    "            for i in range(len(validtargets_array)):\n",
    "              validtargets_array[i] = validtargets_array[i].to(\"cpu\")\n",
    "              validtargets_array[i] = validtargets_array[i].numpy()\n",
    "            full_valid_targets = np.concatenate(validtargets_array, axis=0 )\n",
    "            validloss = loss_fn(torch.tensor(full_valid_outputs), torch.tensor(full_valid_targets))\n",
    "            trainingloss = cumulative_loss / step_count\n",
    "            #trainingAccuracy_list.append(trainingAccuracy)\n",
    "            #validationAccuracy_list.append(validationAccuracy)\n",
    "            trainingloss_list.append(trainingloss.item())\n",
    "            validloss_list.append(validloss.item())\n",
    "            print(\"Epoch %d Batch %d: trainingLoss = %.3f, validationLoss = %.3f (minibatch size = %d)\" % (epoch_id, step_count, trainingloss.item(), validloss.item(), len(targets)))\n",
    "            #print(\"Epoch %d Batch %d: trainingAccuracy = %.3f, validationAccuracy = %.3f (minibatch size = %d)\" % (epoch_id, step_count, trainingAccuracy, validationAccuracy, len(targets)))        \n",
    "            if step_count < 20:\n",
    "                before_lowestloss = validloss\n",
    "                PATH = './MLP_final.pth' #save model\n",
    "                torch.save(my_model.state_dict(), PATH)\n",
    "              \n",
    "            elif step_count >=20:\n",
    "                if validloss < before_lowestloss:\n",
    "                    print(\"Oh yah\") #爽啦，進步了！\n",
    "                    PATH = './MLP_final.pth' #save model\n",
    "                    torch.save(my_model.state_dict(), PATH)\n",
    "                    \n",
    "                    before_lowestloss = validloss\n",
    "                    countdown = 100 #經過1000個batch相當於經過100個10個batch\n",
    "                else:\n",
    "                    countdown -= 1\n",
    "            if countdown == 0:\n",
    "                print(\"early stop1\") #好了啦\n",
    "                break"
   ]
  },
  {
   "cell_type": "code",
   "execution_count": 14,
   "metadata": {
    "id": "xZj_j70MMIJY"
   },
   "outputs": [
    {
     "data": {
      "text/plain": [
       "<All keys matched successfully>"
      ]
     },
     "execution_count": 14,
     "metadata": {},
     "output_type": "execute_result"
    }
   ],
   "source": [
    "my_model.load_state_dict(torch.load(PATH)) #use the saved model to test"
   ]
  },
  {
   "cell_type": "code",
   "execution_count": 16,
   "metadata": {
    "id": "N8TmsQyTLq3b"
   },
   "outputs": [
    {
     "name": "stdout",
     "output_type": "stream",
     "text": [
      "Doing model testing...\n",
      "Test loss = 0.413\n",
      "Accuracy = 0.851\n"
     ]
    },
    {
     "name": "stderr",
     "output_type": "stream",
     "text": [
      "C:\\Users\\oplab\\AppData\\Local\\Temp/ipykernel_2508/3587041624.py:32: FutureWarning: The input object of type 'Tensor' is an array-like implementing one of the corresponding protocols (`__array__`, `__array_interface__` or `__array_struct__`); but not a sequence (or 0-D). In the future, this object will be coerced as if it was first converted using `np.array(obj)`. To retain the old behaviour, you have to either modify the type 'Tensor', or assign to an empty array created with `np.empty(correct_shape, dtype=object)`.\n",
      "  outputs_array = np.array(outputs_list)\n",
      "C:\\Users\\oplab\\AppData\\Local\\Temp/ipykernel_2508/3587041624.py:32: VisibleDeprecationWarning: Creating an ndarray from ragged nested sequences (which is a list-or-tuple of lists-or-tuples-or ndarrays with different lengths or shapes) is deprecated. If you meant to do this, you must specify 'dtype=object' when creating the ndarray.\n",
      "  outputs_array = np.array(outputs_list)\n",
      "C:\\Users\\oplab\\AppData\\Local\\Temp/ipykernel_2508/3587041624.py:39: FutureWarning: The input object of type 'Tensor' is an array-like implementing one of the corresponding protocols (`__array__`, `__array_interface__` or `__array_struct__`); but not a sequence (or 0-D). In the future, this object will be coerced as if it was first converted using `np.array(obj)`. To retain the old behaviour, you have to either modify the type 'Tensor', or assign to an empty array created with `np.empty(correct_shape, dtype=object)`.\n",
      "  targets_array = np.array(targets_list)\n",
      "C:\\Users\\oplab\\AppData\\Local\\Temp/ipykernel_2508/3587041624.py:39: VisibleDeprecationWarning: Creating an ndarray from ragged nested sequences (which is a list-or-tuple of lists-or-tuples-or ndarrays with different lengths or shapes) is deprecated. If you meant to do this, you must specify 'dtype=object' when creating the ndarray.\n",
      "  targets_array = np.array(targets_list)\n"
     ]
    }
   ],
   "source": [
    "my_model.eval()\n",
    "print(\"Doing model testing...\")\n",
    "test_nobs = 0\n",
    "ncorrect = 0\n",
    "pred_list = []\n",
    "true_list = []\n",
    "outputs_list = []\n",
    "targets_list = []\n",
    "with torch.no_grad():\n",
    "    for batch_idx, (inputs, targets) in enumerate(test_loader):            \n",
    "        inputs, targets = inputs.to(device), targets.to(device)\n",
    "        targets = targets.reshape((-1, 1))\n",
    "        batch_size = inputs.shape[0]\n",
    "        inputs = inputs.view(batch_size, -1)\n",
    "        outputs = my_model(inputs)\n",
    "        targets = targets.float()\n",
    "        outputs_list.append(outputs)\n",
    "        targets_list.append(targets)              \n",
    "        pred = (outputs.cpu().numpy() > 0.5).astype('float32')\n",
    "        pred_list.extend(pred.flatten().tolist())\n",
    "        true_list.extend(targets.flatten().tolist())\n",
    "        tmp_correct = (pred == targets.cpu().numpy()).sum()\n",
    "        ncorrect += tmp_correct\n",
    "        test_nobs += len(pred)        \n",
    "accuracy = ncorrect / test_nobs\n",
    "#print(np.array(outputs_list))\n",
    "#print(np.array(outputs_list).shape)\n",
    "#print(np.array(targets_list))\n",
    "#print(np.array(targets_list).shape)\n",
    "for i in range(len(outputs_list)):\n",
    "    outputs_list[i] = outputs_list[i].to(\"cpu\")\n",
    "outputs_array = np.array(outputs_list)\n",
    "for i in range(len(outputs_array)):\n",
    "  outputs_array[i] = outputs_array[i].to(\"cpu\")\n",
    "  outputs_array[i] = outputs_array[i].numpy()\n",
    "full_test_outputs = np.concatenate(outputs_array, axis=0 )\n",
    "for i in range(len(targets_list)):\n",
    "    targets_list[i] = targets_list[i].to(\"cpu\")\n",
    "targets_array = np.array(targets_list)\n",
    "for i in range(len(targets_array)):\n",
    "  targets_array[i] = targets_array[i].to(\"cpu\")\n",
    "  targets_array[i] = targets_array[i].numpy()\n",
    "full_test_targets = np.concatenate(targets_array, axis=0 )\n",
    "testloss = loss_fn(torch.tensor(full_test_outputs), torch.tensor(full_test_targets))\n",
    "print(\"Test loss = %.3f\" % testloss.item())\n",
    "print(\"Accuracy = %.3f\" % accuracy)"
   ]
  },
  {
   "cell_type": "code",
   "execution_count": 17,
   "metadata": {
    "id": "gfsVHWPeL284"
   },
   "outputs": [
    {
     "name": "stdout",
     "output_type": "stream",
     "text": [
      "              precision    recall  f1-score   support\n",
      "\n",
      "         0.0       0.89      0.96      0.92       359\n",
      "         1.0       0.06      0.02      0.03        45\n",
      "\n",
      "    accuracy                           0.85       404\n",
      "   macro avg       0.47      0.49      0.48       404\n",
      "weighted avg       0.79      0.85      0.82       404\n",
      "\n",
      "AUC: 0.488826988548437\n"
     ]
    }
   ],
   "source": [
    "from sklearn import metrics\n",
    "from sklearn.metrics import roc_auc_score\n",
    "print(metrics.classification_report(true_list, pred_list))\n",
    "print(\"AUC:\",roc_auc_score(true_list, pred_list))"
   ]
  },
  {
   "cell_type": "code",
   "execution_count": 20,
   "metadata": {},
   "outputs": [
    {
     "data": {
      "image/png": "[encoded data removed]",
      "text/plain": [
       "<Figure size 432x288 with 1 Axes>"
      ]
     },
     "metadata": {
      "needs_background": "light"
     },
     "output_type": "display_data"
    }
   ],
   "source": [
    "import matplotlib.pyplot as plt\n",
    "plt.plot(step_count_list, trainingloss_list, label = \"training loss\")\n",
    "plt.plot(step_count_list, validloss_list, label = \"validation loss\")\n",
    "plt.legend()\n",
    "plt.show()"
   ]
  },
  {
   "cell_type": "code",
   "execution_count": 19,
   "metadata": {
    "id": "guGNmpu4YX0n"
   },
   "outputs": [
    {
     "data": {
      "image/png": "[encoded data removed]",
      "text/plain": [
       "<Figure size 432x288 with 2 Axes>"
      ]
     },
     "metadata": {
      "needs_background": "light"
     },
     "output_type": "display_data"
    }
   ],
   "source": [
    "import matplotlib.pyplot as plt\n",
    "from sklearn.metrics import ConfusionMatrixDisplay\n",
    "from sklearn.metrics import confusion_matrix, ConfusionMatrixDisplay\n",
    "cm = confusion_matrix(true_list, pred_list)\n",
    "disp = ConfusionMatrixDisplay(confusion_matrix=cm)\n",
    "disp.plot()\n",
    "\n",
    "plt.show()"
   ]
  }
 ],
 "metadata": {
  "accelerator": "GPU",
  "colab": {
   "background_execution": "on",
   "collapsed_sections": [],
   "machine_shape": "hm",
   "name": "Pytorch_Image_Classification_MLPwithDropout_FinalRun.ipynb",
   "provenance": []
  },
  "kernelspec": {
   "display_name": "Python 3 (ipykernel)",
   "language": "python",
   "name": "python3"
  },
  "language_info": {
   "codemirror_mode": {
    "name": "ipython",
    "version": 3
   },
   "file_extension": ".py",
   "mimetype": "text/x-python",
   "name": "python",
   "nbconvert_exporter": "python",
   "pygments_lexer": "ipython3",
   "version": "3.9.7"
  }
 },
 "nbformat": 4,
 "nbformat_minor": 4
}
