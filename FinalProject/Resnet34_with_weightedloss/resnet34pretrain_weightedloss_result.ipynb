{
 "cells": [
  {
   "cell_type": "markdown",
   "metadata": {
    "id": "pkDfzauwCGVe"
   },
   "source": [
    "###Load Data"
   ]
  },
  {
   "cell_type": "code",
   "execution_count": null,
   "metadata": {
    "id": "RMVcs2AoHoVZ"
   },
   "outputs": [],
   "source": [
    "import torch\n",
    "import torch.nn as nn\n",
    "from torchvision import datasets ,models,transforms\n",
    "from pathlib import Path\n",
    "from matplotlib import pyplot as plt\n",
    "import numpy as np\n",
    "import torch.nn.functional as F\n",
    "from sklearn.model_selection import train_test_split\n",
    "import matplotlib.pyplot as plt\n",
    "from torch.nn import Linear, ReLU, CrossEntropyLoss, Conv2d, MaxPool2d, Module\n",
    "from torch.optim import Adam\n",
    "import pandas as pd\n",
    "import os, shutil\n",
    "from os import listdir\n",
    "from tqdm import tqdm_notebook as tqdm\n",
    "from PIL import Image\n",
    "import torchvision.transforms as transforms\n",
    "from torch.utils.data import DataLoader"
   ]
  },
  {
   "cell_type": "code",
   "execution_count": null,
   "metadata": {
    "colab": {
     "base_uri": "https://localhost:8080/"
    },
    "id": "bpnoiNU8L7rv",
    "outputId": "1d0c6a27-86b6-4ba0-afb8-5316b691ac2c"
   },
   "outputs": [
    {
     "name": "stdout",
     "output_type": "stream",
     "text": [
      "Mounted at /content/drive\n"
     ]
    }
   ],
   "source": [
    "from google.colab import drive\n",
    "drive.mount('/content/drive')"
   ]
  },
  {
   "cell_type": "code",
   "execution_count": null,
   "metadata": {
    "id": "Nci4NfRFbTGM"
   },
   "outputs": [],
   "source": [
    "#!gdown --id '16k0608XLsNcCWvX9mawqv_ojAHQB7aa9'\n",
    "#!unzip -q OneDrive-2021-12-12.zip\n",
    "#https://drive.google.com/drive/folders/1KGXp-WE5SJ1xQqU9EQWsXNVA17XWS84w?usp=sharing\n",
    "#https://drive.google.com/u/0/uc?id=17BZWzb-FTx00cJAIrTHKogXdaZVuUtiM&export=download\n",
    "#https://drive.google.com/u/0/uc?export=download&confirm=dlti&id=17BZWzb-FTx00cJAIrTHKogXdaZVuUtiM\n",
    "#https://drive.google.com/file/d/1l8YzfPxHeMuLfUdSILbbb7gK98d3a9Ja/view?usp=sharing\n",
    "#!gdown --id '1l8YzfPxHeMuLfUdSILbbb7gK98d3a9Ja'\n",
    "!unzip -q /content/drive/MyDrive/split_.zip"
   ]
  },
  {
   "cell_type": "code",
   "execution_count": null,
   "metadata": {
    "colab": {
     "base_uri": "https://localhost:8080/"
    },
    "id": "0E39_pW9P-tC",
    "outputId": "5c1d24a9-cb4b-49e9-e116-665853a82168"
   },
   "outputs": [
    {
     "name": "stdout",
     "output_type": "stream",
     "text": [
      "train neg  2484\n",
      "train pos  2484\n",
      "test neg  359\n",
      "test pos  45\n",
      "val neg  363\n",
      "val pos  44\n"
     ]
    }
   ],
   "source": [
    "# check\n",
    "path, dirs, files = next(os.walk(\"content/drive/MyDrive/split/train/negative\"))\n",
    "print(\"train neg \",len(files))\n",
    "path, dirs, files = next(os.walk(\"content/drive/MyDrive/split/train/positive\"))\n",
    "print(\"train pos \",len(files))\n",
    "path, dirs, files = next(os.walk(\"content/drive/MyDrive/split/test/negative\"))\n",
    "print(\"test neg \",len(files))\n",
    "path, dirs, files = next(os.walk(\"content/drive/MyDrive/split/test/positive\"))\n",
    "print(\"test pos \",len(files))\n",
    "path, dirs, files = next(os.walk(\"content/drive/MyDrive/split/val/negative\"))\n",
    "print(\"val neg \",len(files))\n",
    "path, dirs, files = next(os.walk(\"content/drive/MyDrive/split/val/positive\"))\n",
    "print(\"val pos \",len(files))"
   ]
  },
  {
   "cell_type": "markdown",
   "metadata": {
    "id": "fJpfESMizbgb"
   },
   "source": [
    "### Transform to tensor"
   ]
  },
  {
   "cell_type": "code",
   "execution_count": null,
   "metadata": {
    "id": "VFcTGGhozXBU"
   },
   "outputs": [],
   "source": [
    "# raw img size 4040 * 5416 pixel\n",
    "wid = 1000\n",
    "hgt = 1000\n",
    "\n",
    "train_tfm = transforms.Compose([\n",
    "    transforms.Resize((1000, 1000)),\n",
    "    # transforms.ColorJitter(contrast=1),\n",
    "    # transforms.RandomRotation(degrees = 8, fill = 1),\n",
    "    # transforms.Resize((128, 128)),\n",
    "    # transforms.RandomHorizontalFlip(p=0.5),\n",
    "    transforms.Grayscale(num_output_channels=3),\n",
    "    transforms.ToTensor(),\n",
    "])\n",
    "\n",
    "test_tfm = transforms.Compose([\n",
    "    transforms.Resize((1000, 1000)),\n",
    "    transforms.Grayscale(num_output_channels=3),\n",
    "    transforms.ToTensor(),\n",
    "])\n",
    "\n",
    "# input[512, 1, 28, 28]"
   ]
  },
  {
   "cell_type": "markdown",
   "metadata": {
    "id": "NJpzd9Z16Zqy"
   },
   "source": [
    "### Build Dataset"
   ]
  },
  {
   "cell_type": "code",
   "execution_count": null,
   "metadata": {
    "id": "ph4o1U5WnxGd"
   },
   "outputs": [],
   "source": [
    "batch_size = 16\n",
    "#train_set = datasets.DatasetFolder(\"split/train\", loader=lambda x: Image.open(x), extensions=\"jpg\", transform=train_tfm)\n",
    "subtrain_set = datasets.DatasetFolder(\"content/drive/MyDrive/split/train\", loader=lambda x: Image.open(x), extensions=\"jpg\", transform=train_tfm)\n",
    "valid_set = datasets.DatasetFolder(\"content/drive/MyDrive/split/val\", loader=lambda x: Image.open(x), extensions=\"jpg\", transform=test_tfm)\n",
    "test_set = datasets.DatasetFolder(\"content/drive/MyDrive/split/test\", loader=lambda x: Image.open(x), extensions=\"jpg\", transform=test_tfm)\n",
    "\n",
    "#train_loader = DataLoader(train_set, batch_size=batch_size, shuffle=True) # , num_workers=8, pin_memory=True\n",
    "subtrain_loader = DataLoader(subtrain_set, batch_size=batch_size, shuffle=True)\n",
    "valid_loader = DataLoader(valid_set, batch_size=batch_size, shuffle=True)\n",
    "test_loader = DataLoader(test_set, batch_size=batch_size, shuffle=False)"
   ]
  },
  {
   "cell_type": "code",
   "execution_count": null,
   "metadata": {
    "colab": {
     "base_uri": "https://localhost:8080/"
    },
    "id": "Sl40eDvxWaa5",
    "outputId": "7e2a8531-bc7b-4c0c-c95b-f66d8b987d57"
   },
   "outputs": [
    {
     "name": "stdout",
     "output_type": "stream",
     "text": [
      "Get length: 4968\n",
      "Get training data at position 3:  (tensor([[[0.8157, 0.8039, 0.7922,  ..., 0.1137, 0.1137, 0.1137],\n",
      "         [0.7961, 0.7882, 0.7804,  ..., 0.1098, 0.1098, 0.1059],\n",
      "         [0.7725, 0.7765, 0.7765,  ..., 0.1098, 0.1020, 0.0980],\n",
      "         ...,\n",
      "         [0.4039, 0.4039, 0.4039,  ..., 0.2471, 0.2627, 0.2706],\n",
      "         [0.4078, 0.4039, 0.4039,  ..., 0.2471, 0.2627, 0.2706],\n",
      "         [0.4157, 0.4118, 0.4078,  ..., 0.2471, 0.2588, 0.2667]],\n",
      "\n",
      "        [[0.8157, 0.8039, 0.7922,  ..., 0.1137, 0.1137, 0.1137],\n",
      "         [0.7961, 0.7882, 0.7804,  ..., 0.1098, 0.1098, 0.1059],\n",
      "         [0.7725, 0.7765, 0.7765,  ..., 0.1098, 0.1020, 0.0980],\n",
      "         ...,\n",
      "         [0.4039, 0.4039, 0.4039,  ..., 0.2471, 0.2627, 0.2706],\n",
      "         [0.4078, 0.4039, 0.4039,  ..., 0.2471, 0.2627, 0.2706],\n",
      "         [0.4157, 0.4118, 0.4078,  ..., 0.2471, 0.2588, 0.2667]],\n",
      "\n",
      "        [[0.8157, 0.8039, 0.7922,  ..., 0.1137, 0.1137, 0.1137],\n",
      "         [0.7961, 0.7882, 0.7804,  ..., 0.1098, 0.1098, 0.1059],\n",
      "         [0.7725, 0.7765, 0.7765,  ..., 0.1098, 0.1020, 0.0980],\n",
      "         ...,\n",
      "         [0.4039, 0.4039, 0.4039,  ..., 0.2471, 0.2627, 0.2706],\n",
      "         [0.4078, 0.4039, 0.4039,  ..., 0.2471, 0.2627, 0.2706],\n",
      "         [0.4157, 0.4118, 0.4078,  ..., 0.2471, 0.2588, 0.2667]]]), 0)\n"
     ]
    }
   ],
   "source": [
    "print(\"Get length:\", len(subtrain_set))\n",
    "print(\"Get training data at position 3: \", subtrain_set[3])"
   ]
  },
  {
   "cell_type": "code",
   "execution_count": null,
   "metadata": {
    "colab": {
     "base_uri": "https://localhost:8080/"
    },
    "id": "g5VVJik1UQOh",
    "outputId": "5c6fa3da-3670-461a-d390-25627f0deb6c"
   },
   "outputs": [
    {
     "data": {
      "text/plain": [
       "torch.Size([3, 1000, 1000])"
      ]
     },
     "execution_count": 8,
     "metadata": {},
     "output_type": "execute_result"
    }
   ],
   "source": [
    "subtrain_set[0][0].shape"
   ]
  },
  {
   "cell_type": "markdown",
   "metadata": {
    "id": "v70BfWBdxahw"
   },
   "source": [
    "### MLP (博任)"
   ]
  },
  {
   "cell_type": "code",
   "execution_count": null,
   "metadata": {
    "id": "zhq7ahtUitEG"
   },
   "outputs": [],
   "source": [
    "# dataiter = iter(train_loader)\n",
    "# images, labels = dataiter.next()\n",
    "\n",
    "# print(images.shape)\n",
    "# print(labels.shape)\n",
    "#CUDA_LAUNCH_BLOCKING=1\n",
    "use_cuda = torch.cuda.is_available()\n",
    "device = torch.device(\"cuda\" if use_cuda else \"cpu\")"
   ]
  },
  {
   "cell_type": "code",
   "execution_count": null,
   "metadata": {
    "colab": {
     "base_uri": "https://localhost:8080/",
     "height": 83,
     "referenced_widgets": [
      "1c06074ebd88465ab941c68393a87519",
      "a1fc53d22c9a4c739e397f41c4f3b30b",
      "b6f15feaf95245858e8c71019e69a859",
      "3b83427bdd024b84bf63c419b47e3a0b",
      "5cb0c4d80bee49ccb2fa4c542747f845",
      "24c8757f1c9048c6837bb3e211429b1f",
      "82e73721db894b4fbc31c178241633bd",
      "2c3b94c20a704c83ab2b46626a67de26",
      "374a43f07ee84705b17ffbe7afff0204",
      "5832c4b7204e4ab2b60cf0f1cf7de7c7",
      "d1b6316ec4234022bc66235f405e94b3"
     ]
    },
    "id": "ymng1wBObk0a",
    "outputId": "ad13d2fd-02bd-4675-bd6a-4ecb06194a50"
   },
   "outputs": [
    {
     "name": "stdout",
     "output_type": "stream",
     "text": [
      "Running on device:  cuda\n"
     ]
    },
    {
     "name": "stderr",
     "output_type": "stream",
     "text": [
      "Downloading: \"https://download.pytorch.org/models/resnet34-b627a593.pth\" to /root/.cache/torch/hub/checkpoints/resnet34-b627a593.pth\n"
     ]
    },
    {
     "data": {
      "application/vnd.jupyter.widget-view+json": {
       "model_id": "1c06074ebd88465ab941c68393a87519",
       "version_major": 2,
       "version_minor": 0
      },
      "text/plain": [
       "  0%|          | 0.00/83.3M [00:00<?, ?B/s]"
      ]
     },
     "metadata": {},
     "output_type": "display_data"
    }
   ],
   "source": [
    "import torchvision\n",
    "import torchvision.transforms as transforms\n",
    "import torchvision.models as models\n",
    "#get number of input features\n",
    "#D_in = 3*5416*4040\n",
    "D_in = 1000*1000\n",
    "H = 56\n",
    "#Binary classification problem\n",
    "D_out = 1\n",
    "use_cuda = torch.cuda.is_available()\n",
    "device = torch.device(\"cuda\" if use_cuda else \"cpu\")\n",
    "print(\"Running on device: \", device)\n",
    "'''\n",
    "net = torch.nn.Sequential(\n",
    "        torch.nn.Linear(D_in, H),  \n",
    "        torch.nn.ReLU(),\n",
    "        torch.nn.Linear(H, H),\n",
    "        torch.nn.ReLU(),\n",
    "        torch.nn.Linear(H, D_out),\n",
    "        torch.nn.Sigmoid()\n",
    ")\n",
    "'''\n",
    "class model(nn.Module): # 2 types: real, fake\n",
    "    def __init__(self, backbone): # positive parameter means grl or not, True: not grl\n",
    "        super(model, self).__init__()\n",
    "        # self.convert = nn.Conv2d(1, 3, 2)\n",
    "        self.backbone = backbone\n",
    "        self.classifier = nn.Sequential(\n",
    "            nn.Linear(1000, 1),\n",
    "            nn.Sigmoid(),\n",
    "        )\n",
    "\n",
    "    def forward(self, x):\n",
    "        # print('ori = ', x.shape)\n",
    "        # x = self.convert(x)\n",
    "        # print(x.shape)\n",
    "        x = self.backbone(x)\n",
    "      \n",
    "        x = self.classifier(x)\n",
    "\n",
    "        return x\n",
    "\n",
    "#backbone = torchvision.models.resnet18(pretrained=True)\n",
    "backbone = torchvision.models.resnet34(pretrained=True)\n",
    "#下面這個model更猛，但你可能跑不動\n",
    "#backbone = torchvision.models.resnext101_32x8d(pretrained=True)\n",
    "\n",
    "my_model = model(backbone)\n",
    "\n",
    "# move the model to device (i.e., cpu or gpu)\n",
    "my_model = my_model.to(device)"
   ]
  },
  {
   "cell_type": "code",
   "execution_count": null,
   "metadata": {
    "id": "CkMQ3yhxX_8l"
   },
   "outputs": [],
   "source": [
    "# define the optimizer\n",
    "optimizer = torch.optim.Adam(my_model.parameters(), lr=0.0001)\n",
    "# Binary Cross Entropy Loss\n",
    "loss_fn = torch.nn.BCELoss()\n",
    "#loss_fn = nn.BCEWithLogitsLoss()"
   ]
  },
  {
   "cell_type": "code",
   "execution_count": null,
   "metadata": {
    "colab": {
     "background_save": true,
     "base_uri": "https://localhost:8080/"
    },
    "id": "2NfDaXZDkgDq",
    "outputId": "22ef279c-3543-4177-a350-1f5cc03917d5"
   },
   "outputs": [
    {
     "name": "stdout",
     "output_type": "stream",
     "text": [
      "Calculating Loss...\n",
      "Epoch 0 Batch 10: trainingLoss = 0.607, validationLoss = 0.450, Weighted validationLoss = 1.895  (minibatch size = 16)\n",
      "Calculating Loss...\n",
      "Epoch 0 Batch 20: trainingLoss = 0.576, validationLoss = 0.997, Weighted validationLoss = 1.377  (minibatch size = 16)\n",
      "Oh yah\n",
      "Calculating Loss...\n",
      "Epoch 0 Batch 30: trainingLoss = 0.590, validationLoss = 1.001, Weighted validationLoss = 1.597  (minibatch size = 16)\n",
      "Calculating Loss...\n",
      "Epoch 0 Batch 40: trainingLoss = 0.587, validationLoss = 0.472, Weighted validationLoss = 2.831  (minibatch size = 16)\n",
      "Calculating Loss...\n",
      "Epoch 0 Batch 50: trainingLoss = 0.589, validationLoss = 0.966, Weighted validationLoss = 1.312  (minibatch size = 16)\n",
      "Oh yah\n",
      "Calculating Loss...\n",
      "Epoch 0 Batch 60: trainingLoss = 0.593, validationLoss = 0.711, Weighted validationLoss = 1.250  (minibatch size = 16)\n",
      "Oh yah\n",
      "Calculating Loss...\n",
      "Epoch 0 Batch 70: trainingLoss = 0.587, validationLoss = 0.876, Weighted validationLoss = 1.449  (minibatch size = 16)\n",
      "Calculating Loss...\n",
      "Epoch 0 Batch 80: trainingLoss = 0.594, validationLoss = 0.551, Weighted validationLoss = 1.476  (minibatch size = 16)\n",
      "Calculating Loss...\n",
      "Epoch 0 Batch 90: trainingLoss = 0.593, validationLoss = 0.577, Weighted validationLoss = 1.419  (minibatch size = 16)\n",
      "Calculating Loss...\n",
      "Epoch 0 Batch 100: trainingLoss = 0.596, validationLoss = 0.384, Weighted validationLoss = 1.963  (minibatch size = 16)\n",
      "Calculating Loss...\n",
      "Epoch 0 Batch 110: trainingLoss = 0.592, validationLoss = 0.385, Weighted validationLoss = 1.788  (minibatch size = 16)\n",
      "Calculating Loss...\n",
      "Epoch 0 Batch 120: trainingLoss = 0.584, validationLoss = 0.426, Weighted validationLoss = 2.621  (minibatch size = 16)\n",
      "Calculating Loss...\n",
      "Epoch 0 Batch 130: trainingLoss = 0.582, validationLoss = 1.272, Weighted validationLoss = 1.603  (minibatch size = 16)\n",
      "Calculating Loss...\n",
      "Epoch 0 Batch 140: trainingLoss = 0.578, validationLoss = 0.593, Weighted validationLoss = 1.359  (minibatch size = 16)\n",
      "Calculating Loss...\n",
      "Epoch 0 Batch 150: trainingLoss = 0.577, validationLoss = 0.520, Weighted validationLoss = 4.286  (minibatch size = 16)\n",
      "Calculating Loss...\n",
      "Epoch 0 Batch 160: trainingLoss = 0.574, validationLoss = 0.706, Weighted validationLoss = 1.402  (minibatch size = 16)\n",
      "Calculating Loss...\n",
      "Epoch 0 Batch 170: trainingLoss = 0.572, validationLoss = 0.863, Weighted validationLoss = 2.512  (minibatch size = 16)\n",
      "Calculating Loss...\n",
      "Epoch 0 Batch 180: trainingLoss = 0.570, validationLoss = 0.571, Weighted validationLoss = 2.092  (minibatch size = 16)\n",
      "Calculating Loss...\n",
      "Epoch 0 Batch 190: trainingLoss = 0.571, validationLoss = 0.800, Weighted validationLoss = 1.855  (minibatch size = 16)\n",
      "Calculating Loss...\n",
      "Epoch 0 Batch 200: trainingLoss = 0.575, validationLoss = 0.642, Weighted validationLoss = 1.324  (minibatch size = 16)\n",
      "Calculating Loss...\n",
      "Epoch 0 Batch 210: trainingLoss = 0.576, validationLoss = 0.633, Weighted validationLoss = 1.430  (minibatch size = 16)\n",
      "Calculating Loss...\n",
      "Epoch 0 Batch 220: trainingLoss = 0.575, validationLoss = 0.491, Weighted validationLoss = 1.484  (minibatch size = 16)\n",
      "Calculating Loss...\n",
      "Epoch 0 Batch 230: trainingLoss = 0.573, validationLoss = 0.378, Weighted validationLoss = 1.990  (minibatch size = 16)\n",
      "Calculating Loss...\n",
      "Epoch 0 Batch 240: trainingLoss = 0.573, validationLoss = 0.487, Weighted validationLoss = 1.515  (minibatch size = 16)\n",
      "Calculating Loss...\n",
      "Epoch 0 Batch 250: trainingLoss = 0.572, validationLoss = 0.643, Weighted validationLoss = 1.310  (minibatch size = 16)\n",
      "Calculating Loss...\n",
      "Epoch 0 Batch 260: trainingLoss = 0.568, validationLoss = 0.508, Weighted validationLoss = 1.455  (minibatch size = 16)\n",
      "Calculating Loss...\n",
      "Epoch 0 Batch 270: trainingLoss = 0.568, validationLoss = 0.537, Weighted validationLoss = 1.454  (minibatch size = 16)\n",
      "Calculating Loss...\n",
      "Epoch 0 Batch 280: trainingLoss = 0.566, validationLoss = 0.732, Weighted validationLoss = 1.581  (minibatch size = 16)\n",
      "Calculating Loss...\n",
      "Epoch 0 Batch 290: trainingLoss = 0.562, validationLoss = 1.036, Weighted validationLoss = 1.729  (minibatch size = 16)\n",
      "Calculating Loss...\n",
      "Epoch 0 Batch 300: trainingLoss = 0.562, validationLoss = 0.494, Weighted validationLoss = 2.488  (minibatch size = 16)\n",
      "Calculating Loss...\n",
      "Epoch 0 Batch 310: trainingLoss = 0.561, validationLoss = 0.469, Weighted validationLoss = 2.460  (minibatch size = 16)\n",
      "Calculating Loss...\n",
      "Epoch 1 Batch 320: trainingLoss = 0.560, validationLoss = 0.809, Weighted validationLoss = 1.354  (minibatch size = 16)\n",
      "Calculating Loss...\n",
      "Epoch 1 Batch 330: trainingLoss = 0.557, validationLoss = 0.898, Weighted validationLoss = 1.443  (minibatch size = 16)\n",
      "Calculating Loss...\n",
      "Epoch 1 Batch 340: trainingLoss = 0.555, validationLoss = 0.582, Weighted validationLoss = 1.592  (minibatch size = 16)\n",
      "Calculating Loss...\n",
      "Epoch 1 Batch 350: trainingLoss = 0.552, validationLoss = 0.443, Weighted validationLoss = 1.926  (minibatch size = 16)\n",
      "Calculating Loss...\n",
      "Epoch 1 Batch 360: trainingLoss = 0.550, validationLoss = 0.448, Weighted validationLoss = 1.590  (minibatch size = 16)\n",
      "Calculating Loss...\n",
      "Epoch 1 Batch 370: trainingLoss = 0.547, validationLoss = 1.119, Weighted validationLoss = 1.582  (minibatch size = 16)\n",
      "Calculating Loss...\n",
      "Epoch 1 Batch 380: trainingLoss = 0.548, validationLoss = 0.674, Weighted validationLoss = 1.462  (minibatch size = 16)\n",
      "Calculating Loss...\n",
      "Epoch 1 Batch 390: trainingLoss = 0.548, validationLoss = 0.425, Weighted validationLoss = 1.651  (minibatch size = 16)\n",
      "Calculating Loss...\n",
      "Epoch 1 Batch 400: trainingLoss = 0.549, validationLoss = 0.501, Weighted validationLoss = 1.502  (minibatch size = 16)\n",
      "Calculating Loss...\n",
      "Epoch 1 Batch 410: trainingLoss = 0.547, validationLoss = 0.630, Weighted validationLoss = 1.336  (minibatch size = 16)\n",
      "Calculating Loss...\n",
      "Epoch 1 Batch 420: trainingLoss = 0.545, validationLoss = 0.399, Weighted validationLoss = 1.741  (minibatch size = 16)\n",
      "Calculating Loss...\n",
      "Epoch 1 Batch 430: trainingLoss = 0.544, validationLoss = 0.795, Weighted validationLoss = 1.965  (minibatch size = 16)\n",
      "Calculating Loss...\n",
      "Epoch 1 Batch 440: trainingLoss = 0.542, validationLoss = 0.526, Weighted validationLoss = 1.621  (minibatch size = 16)\n",
      "Calculating Loss...\n",
      "Epoch 1 Batch 450: trainingLoss = 0.541, validationLoss = 0.491, Weighted validationLoss = 1.763  (minibatch size = 16)\n",
      "Calculating Loss...\n",
      "Epoch 1 Batch 460: trainingLoss = 0.541, validationLoss = 0.523, Weighted validationLoss = 1.439  (minibatch size = 16)\n",
      "Calculating Loss...\n",
      "Epoch 1 Batch 470: trainingLoss = 0.538, validationLoss = 0.501, Weighted validationLoss = 1.474  (minibatch size = 16)\n",
      "Calculating Loss...\n",
      "Epoch 1 Batch 480: trainingLoss = 0.538, validationLoss = 0.486, Weighted validationLoss = 1.647  (minibatch size = 16)\n",
      "Calculating Loss...\n",
      "Epoch 1 Batch 490: trainingLoss = 0.538, validationLoss = 0.453, Weighted validationLoss = 3.019  (minibatch size = 16)\n",
      "Calculating Loss...\n",
      "Epoch 1 Batch 500: trainingLoss = 0.538, validationLoss = 0.465, Weighted validationLoss = 1.431  (minibatch size = 16)\n",
      "Calculating Loss...\n",
      "Epoch 1 Batch 510: trainingLoss = 0.537, validationLoss = 0.815, Weighted validationLoss = 1.428  (minibatch size = 16)\n",
      "Calculating Loss...\n",
      "Epoch 1 Batch 520: trainingLoss = 0.535, validationLoss = 0.552, Weighted validationLoss = 1.571  (minibatch size = 16)\n",
      "Calculating Loss...\n",
      "Epoch 1 Batch 530: trainingLoss = 0.534, validationLoss = 0.452, Weighted validationLoss = 2.406  (minibatch size = 16)\n",
      "Calculating Loss...\n",
      "Epoch 1 Batch 540: trainingLoss = 0.534, validationLoss = 0.415, Weighted validationLoss = 1.887  (minibatch size = 16)\n",
      "Calculating Loss...\n",
      "Epoch 1 Batch 550: trainingLoss = 0.533, validationLoss = 0.849, Weighted validationLoss = 1.448  (minibatch size = 16)\n",
      "Calculating Loss...\n",
      "Epoch 1 Batch 560: trainingLoss = 0.531, validationLoss = 0.634, Weighted validationLoss = 1.765  (minibatch size = 16)\n",
      "Calculating Loss...\n",
      "Epoch 1 Batch 570: trainingLoss = 0.530, validationLoss = 0.372, Weighted validationLoss = 1.606  (minibatch size = 16)\n",
      "Calculating Loss...\n",
      "Epoch 1 Batch 580: trainingLoss = 0.527, validationLoss = 0.391, Weighted validationLoss = 1.789  (minibatch size = 16)\n",
      "Calculating Loss...\n",
      "Epoch 1 Batch 590: trainingLoss = 0.527, validationLoss = 0.453, Weighted validationLoss = 3.403  (minibatch size = 16)\n",
      "Calculating Loss...\n",
      "Epoch 1 Batch 600: trainingLoss = 0.526, validationLoss = 0.672, Weighted validationLoss = 1.291  (minibatch size = 16)\n",
      "Calculating Loss...\n",
      "Epoch 1 Batch 610: trainingLoss = 0.524, validationLoss = 1.014, Weighted validationLoss = 1.530  (minibatch size = 16)\n",
      "Calculating Loss...\n",
      "Epoch 1 Batch 620: trainingLoss = 0.523, validationLoss = 0.470, Weighted validationLoss = 3.041  (minibatch size = 16)\n",
      "Calculating Loss...\n",
      "Epoch 2 Batch 630: trainingLoss = 0.522, validationLoss = 0.491, Weighted validationLoss = 1.590  (minibatch size = 16)\n",
      "Calculating Loss...\n",
      "Epoch 2 Batch 640: trainingLoss = 0.520, validationLoss = 0.588, Weighted validationLoss = 1.571  (minibatch size = 16)\n",
      "Calculating Loss...\n",
      "Epoch 2 Batch 650: trainingLoss = 0.518, validationLoss = 0.529, Weighted validationLoss = 1.838  (minibatch size = 16)\n",
      "Calculating Loss...\n",
      "Epoch 2 Batch 660: trainingLoss = 0.516, validationLoss = 1.561, Weighted validationLoss = 1.916  (minibatch size = 16)\n",
      "Calculating Loss...\n",
      "Epoch 2 Batch 670: trainingLoss = 0.514, validationLoss = 0.483, Weighted validationLoss = 1.661  (minibatch size = 16)\n",
      "Calculating Loss...\n",
      "Epoch 2 Batch 680: trainingLoss = 0.512, validationLoss = 0.425, Weighted validationLoss = 2.642  (minibatch size = 16)\n",
      "Calculating Loss...\n",
      "Epoch 2 Batch 690: trainingLoss = 0.510, validationLoss = 0.434, Weighted validationLoss = 2.500  (minibatch size = 16)\n",
      "Calculating Loss...\n",
      "Epoch 2 Batch 700: trainingLoss = 0.509, validationLoss = 0.596, Weighted validationLoss = 2.875  (minibatch size = 16)\n",
      "Calculating Loss...\n",
      "Epoch 2 Batch 710: trainingLoss = 0.510, validationLoss = 0.442, Weighted validationLoss = 2.278  (minibatch size = 16)\n",
      "Calculating Loss...\n",
      "Epoch 2 Batch 720: trainingLoss = 0.509, validationLoss = 1.040, Weighted validationLoss = 1.479  (minibatch size = 16)\n",
      "Calculating Loss...\n",
      "Epoch 2 Batch 730: trainingLoss = 0.508, validationLoss = 0.534, Weighted validationLoss = 1.584  (minibatch size = 16)\n",
      "Calculating Loss...\n",
      "Epoch 2 Batch 740: trainingLoss = 0.507, validationLoss = 0.474, Weighted validationLoss = 1.778  (minibatch size = 16)\n",
      "Calculating Loss...\n",
      "Epoch 2 Batch 750: trainingLoss = 0.507, validationLoss = 0.683, Weighted validationLoss = 1.346  (minibatch size = 16)\n",
      "Calculating Loss...\n",
      "Epoch 2 Batch 760: trainingLoss = 0.506, validationLoss = 0.378, Weighted validationLoss = 2.064  (minibatch size = 16)\n",
      "Calculating Loss...\n",
      "Epoch 2 Batch 770: trainingLoss = 0.505, validationLoss = 0.432, Weighted validationLoss = 3.061  (minibatch size = 16)\n",
      "Calculating Loss...\n",
      "Epoch 2 Batch 780: trainingLoss = 0.504, validationLoss = 1.928, Weighted validationLoss = 2.172  (minibatch size = 16)\n",
      "Calculating Loss...\n",
      "Epoch 2 Batch 790: trainingLoss = 0.502, validationLoss = 1.444, Weighted validationLoss = 1.980  (minibatch size = 16)\n",
      "Calculating Loss...\n",
      "Epoch 2 Batch 800: trainingLoss = 0.501, validationLoss = 0.368, Weighted validationLoss = 2.970  (minibatch size = 16)\n",
      "Calculating Loss...\n",
      "Epoch 2 Batch 810: trainingLoss = 0.499, validationLoss = 0.473, Weighted validationLoss = 2.060  (minibatch size = 16)\n",
      "Calculating Loss...\n",
      "Epoch 2 Batch 820: trainingLoss = 0.496, validationLoss = 0.646, Weighted validationLoss = 2.001  (minibatch size = 16)\n",
      "Calculating Loss...\n",
      "Epoch 2 Batch 830: trainingLoss = 0.494, validationLoss = 0.435, Weighted validationLoss = 2.382  (minibatch size = 16)\n",
      "Calculating Loss...\n",
      "Epoch 2 Batch 840: trainingLoss = 0.492, validationLoss = 0.464, Weighted validationLoss = 1.737  (minibatch size = 16)\n",
      "Calculating Loss...\n",
      "Epoch 2 Batch 850: trainingLoss = 0.491, validationLoss = 0.496, Weighted validationLoss = 1.911  (minibatch size = 16)\n",
      "Calculating Loss...\n",
      "Epoch 2 Batch 860: trainingLoss = 0.489, validationLoss = 0.672, Weighted validationLoss = 2.353  (minibatch size = 16)\n",
      "Calculating Loss...\n",
      "Epoch 2 Batch 870: trainingLoss = 0.487, validationLoss = 0.713, Weighted validationLoss = 1.817  (minibatch size = 16)\n",
      "Calculating Loss...\n",
      "Epoch 2 Batch 880: trainingLoss = 0.486, validationLoss = 0.909, Weighted validationLoss = 1.868  (minibatch size = 16)\n",
      "Calculating Loss...\n",
      "Epoch 2 Batch 890: trainingLoss = 0.485, validationLoss = 0.529, Weighted validationLoss = 2.565  (minibatch size = 16)\n",
      "Calculating Loss...\n",
      "Epoch 2 Batch 900: trainingLoss = 0.484, validationLoss = 0.453, Weighted validationLoss = 2.913  (minibatch size = 16)\n",
      "Calculating Loss...\n",
      "Epoch 2 Batch 910: trainingLoss = 0.483, validationLoss = 0.416, Weighted validationLoss = 3.313  (minibatch size = 16)\n",
      "Calculating Loss...\n",
      "Epoch 2 Batch 920: trainingLoss = 0.482, validationLoss = 0.650, Weighted validationLoss = 2.106  (minibatch size = 16)\n",
      "Calculating Loss...\n",
      "Epoch 2 Batch 930: trainingLoss = 0.481, validationLoss = 0.781, Weighted validationLoss = 1.741  (minibatch size = 16)\n",
      "Calculating Loss...\n",
      "Epoch 3 Batch 940: trainingLoss = 0.480, validationLoss = 0.458, Weighted validationLoss = 2.176  (minibatch size = 16)\n",
      "Calculating Loss...\n",
      "Epoch 3 Batch 950: trainingLoss = 0.479, validationLoss = 0.592, Weighted validationLoss = 1.404  (minibatch size = 16)\n",
      "Calculating Loss...\n",
      "Epoch 3 Batch 960: trainingLoss = 0.476, validationLoss = 0.766, Weighted validationLoss = 1.660  (minibatch size = 16)\n",
      "Calculating Loss...\n",
      "Epoch 3 Batch 970: trainingLoss = 0.474, validationLoss = 1.005, Weighted validationLoss = 1.732  (minibatch size = 16)\n",
      "Calculating Loss...\n",
      "Epoch 3 Batch 980: trainingLoss = 0.472, validationLoss = 0.452, Weighted validationLoss = 3.043  (minibatch size = 16)\n",
      "Calculating Loss...\n",
      "Epoch 3 Batch 990: trainingLoss = 0.470, validationLoss = 1.230, Weighted validationLoss = 1.928  (minibatch size = 16)\n",
      "Calculating Loss...\n",
      "Epoch 3 Batch 1000: trainingLoss = 0.468, validationLoss = 0.574, Weighted validationLoss = 2.257  (minibatch size = 16)\n",
      "Calculating Loss...\n",
      "Epoch 3 Batch 1010: trainingLoss = 0.467, validationLoss = 0.917, Weighted validationLoss = 2.088  (minibatch size = 16)\n",
      "Calculating Loss...\n",
      "Epoch 3 Batch 1020: trainingLoss = 0.466, validationLoss = 0.717, Weighted validationLoss = 2.238  (minibatch size = 16)\n",
      "Calculating Loss...\n",
      "Epoch 3 Batch 1030: trainingLoss = 0.465, validationLoss = 0.676, Weighted validationLoss = 6.452  (minibatch size = 16)\n",
      "Calculating Loss...\n",
      "Epoch 3 Batch 1040: trainingLoss = 0.464, validationLoss = 0.492, Weighted validationLoss = 1.841  (minibatch size = 16)\n",
      "Calculating Loss...\n",
      "Epoch 3 Batch 1050: trainingLoss = 0.462, validationLoss = 0.562, Weighted validationLoss = 2.273  (minibatch size = 16)\n",
      "Calculating Loss...\n",
      "Epoch 3 Batch 1060: trainingLoss = 0.462, validationLoss = 0.449, Weighted validationLoss = 3.016  (minibatch size = 16)\n",
      "early stop1\n",
      "early stop2\n"
     ]
    }
   ],
   "source": [
    "nepoch = 100\n",
    "step_count = 0\n",
    "log_interval = 10\n",
    "#trainingAccuracy_list = []\n",
    "#validationAccuracy_list = []\n",
    "trainingloss_list = []\n",
    "validloss_list = []\n",
    "validloss_weighted_list = []\n",
    "step_count_list = []\n",
    "#train_ncorrect = 0\n",
    "#train_test_nobs = 0\n",
    "cumulative_loss = 0\n",
    "countdown = 100\n",
    "\n",
    "\n",
    "for epoch_id in range(0, nepoch):    \n",
    "    if countdown == 0:\n",
    "        print(\"early stop2\")\n",
    "        break  \n",
    "    for batch_idx, (inputs, targets) in enumerate(subtrain_loader):\n",
    "        #reshape target to two-dimensional array\n",
    "        targets = targets.reshape((-1, 1))\n",
    "        step_count += 1        \n",
    "        my_model.train()\n",
    "        #print(inputs)\n",
    "        #print(targets)\n",
    "        inputs, targets = inputs.to(device), targets.to(device)\n",
    "      \n",
    "        optimizer.zero_grad()\n",
    "        outputs = my_model(inputs)   \n",
    "        targets = targets.float()\n",
    "        loss = loss_fn(outputs, targets)\n",
    "        cumulative_loss += loss\n",
    "\n",
    "        #train_pred = (outputs.cpu().detach().numpy() > 0.5).astype('float32')\n",
    "        #train_tmp_correct = (train_pred == targets.cpu().detach().numpy()).sum()\n",
    "        #train_ncorrect += train_tmp_correct\n",
    "        #train_test_nobs += len(train_pred) \n",
    "  \n",
    "        loss.backward()\n",
    "        optimizer.step()\n",
    "        #if step_count % log_interval == 0: \n",
    "        if step_count % log_interval == 0:\n",
    "            step_count_list.append(step_count)\n",
    "            #trainingAccuracy = train_ncorrect / train_test_nobs\n",
    "            #valid_ncorrect = 0\n",
    "            #valid_test_nobs = 0\n",
    "            validoutputs_list = []\n",
    "            validtargets_list = []\n",
    "            with torch.no_grad():\n",
    "              for i, (validinputs, validtargets) in enumerate(valid_loader):\n",
    "                if i == 0:\n",
    "                  print(\"Calculating Loss...\")\n",
    "                my_model.eval()\n",
    "                validtargets = validtargets.reshape((-1, 1))\n",
    "                validinputs, validtargets = validinputs.to(device), validtargets.to(device)\n",
    "                validoutputs = my_model(validinputs) \n",
    "                validtargets = validtargets.float()\n",
    "                validoutputs_list.append(validoutputs)\n",
    "                validtargets_list.append(validtargets)\n",
    "                #valid_pred = (validoutputs.cpu().detach().numpy() > 0.5).astype('float32')\n",
    "                #valid_tmp_correct = (valid_pred == validtargets.cpu().detach().numpy()).sum()\n",
    "                #valid_ncorrect += valid_tmp_correct\n",
    "                #valid_test_nobs += len(valid_pred) \n",
    "            #validationAccuracy = valid_ncorrect / valid_test_nobs\n",
    "            validoutputs_array = np.array(validoutputs_list)\n",
    "            for i in range(len(validoutputs_array)):\n",
    "              validoutputs_array[i] = validoutputs_array[i].to(\"cpu\")\n",
    "              validoutputs_array[i] = validoutputs_array[i].numpy()\n",
    "            full_valid_outputs = np.concatenate(validoutputs_array, axis=0 )\n",
    "            validtargets_array = np.array(validtargets_list)\n",
    "            for i in range(len(validtargets_array)):\n",
    "              validtargets_array[i] = validtargets_array[i].to(\"cpu\")\n",
    "              validtargets_array[i] = validtargets_array[i].numpy()\n",
    "            full_valid_targets = np.concatenate(validtargets_array, axis=0 )\n",
    "            validloss = loss_fn(torch.tensor(full_valid_outputs), torch.tensor(full_valid_targets))\n",
    "            trainingloss = cumulative_loss / step_count\n",
    "            weighted_loss = nn.BCELoss(reduction='none') \n",
    "            weight = torch.zeros_like(torch.tensor(full_valid_targets))\n",
    "            weight = torch.fill_(weight, 1)\n",
    "            weight[torch.tensor(full_valid_targets) == 1] = 10\n",
    "            weighted_loss = weighted_loss(torch.tensor(full_valid_outputs), torch.tensor(full_valid_targets))\n",
    "            weighted_loss = torch.mean(weighted_loss * weight)  \n",
    "            validloss_weighted = weighted_loss\n",
    "            #trainingAccuracy_list.append(trainingAccuracy)\n",
    "            #validationAccuracy_list.append(validationAccuracy)\n",
    "            trainingloss_list.append(trainingloss.item())\n",
    "            validloss_list.append(validloss.item())\n",
    "            validloss_weighted_list.append(validloss_weighted.item())\n",
    "            print(\"Epoch %d Batch %d: trainingLoss = %.3f, validationLoss = %.3f, Weighted validationLoss = %.3f  (minibatch size = %d)\" % (epoch_id, step_count, trainingloss.item(), validloss.item(), validloss_weighted.item(), len(targets)))\n",
    "            #print(\"Epoch %d Batch %d: trainingAccuracy = %.3f, validationAccuracy = %.3f (minibatch size = %d)\" % (epoch_id, step_count, trainingAccuracy, validationAccuracy, len(targets)))        \n",
    "            if step_count < 20:\n",
    "                before_lowestloss = validloss_weighted\n",
    "                PATH = './resnet34_weightedloss.pth' #save model\n",
    "                torch.save(my_model.state_dict(), PATH)\n",
    "                !cp resnet34_weightedloss.pth \"drive/My Drive\"\n",
    "            elif step_count >=20:\n",
    "                if validloss_weighted < before_lowestloss:\n",
    "                    print(\"Oh yah\") #爽啦，進步了！\n",
    "                    PATH = './resnet34_weightedloss.pth' #save model\n",
    "                    torch.save(my_model.state_dict(), PATH)\n",
    "                    !cp resnet34_weightedloss.pth \"drive/My Drive\"\n",
    "                    before_lowestloss = validloss_weighted\n",
    "                    countdown = 100 #經過1000個batch相當於經過100個10個batch\n",
    "                else:\n",
    "                    countdown -= 1\n",
    "            if countdown == 0:\n",
    "                print(\"early stop1\") #好了啦\n",
    "                break"
   ]
  },
  {
   "cell_type": "code",
   "execution_count": null,
   "metadata": {
    "colab": {
     "background_save": true
    },
    "id": "xZj_j70MMIJY",
    "outputId": "0ee52103-0985-497b-d88b-bfdf8e063251"
   },
   "outputs": [
    {
     "data": {
      "text/plain": [
       "<All keys matched successfully>"
      ]
     },
     "execution_count": null,
     "metadata": {},
     "output_type": "execute_result"
    }
   ],
   "source": [
    "my_model.load_state_dict(torch.load(PATH)) #use the saved model to test"
   ]
  },
  {
   "cell_type": "code",
   "execution_count": null,
   "metadata": {
    "colab": {
     "background_save": true
    },
    "id": "N8TmsQyTLq3b",
    "outputId": "cec4262d-313d-43b0-8a45-97caa6ce3c8b"
   },
   "outputs": [
    {
     "name": "stdout",
     "output_type": "stream",
     "text": [
      "Doing model testing...\n",
      "Test loss = 0.747\n",
      "Accuracy = 0.582\n"
     ]
    }
   ],
   "source": [
    "my_model.eval()\n",
    "print(\"Doing model testing...\")\n",
    "test_nobs = 0\n",
    "ncorrect = 0\n",
    "pred_list = []\n",
    "true_list = []\n",
    "outputs_list = []\n",
    "targets_list = []\n",
    "with torch.no_grad():\n",
    "    for batch_idx, (inputs, targets) in enumerate(test_loader):            \n",
    "        inputs, targets = inputs.to(device), targets.to(device)\n",
    "        targets = targets.reshape((-1, 1))\n",
    "        outputs = my_model(inputs)\n",
    "        targets = targets.float()\n",
    "        outputs_list.append(outputs)\n",
    "        targets_list.append(targets)              \n",
    "        pred = (outputs.cpu().numpy() > 0.5).astype('float32')\n",
    "        pred_list.extend(pred.flatten().tolist())\n",
    "        true_list.extend(targets.flatten().tolist())\n",
    "        tmp_correct = (pred == targets.cpu().numpy()).sum()\n",
    "        ncorrect += tmp_correct\n",
    "        test_nobs += len(pred)        \n",
    "accuracy = ncorrect / test_nobs\n",
    "#print(np.array(outputs_list))\n",
    "#print(np.array(outputs_list).shape)\n",
    "#print(np.array(targets_list))\n",
    "#print(np.array(targets_list).shape)\n",
    "outputs_array = np.array(outputs_list)\n",
    "for i in range(len(outputs_array)):\n",
    "  outputs_array[i] = outputs_array[i].to(\"cpu\")\n",
    "  outputs_array[i] = outputs_array[i].numpy()\n",
    "full_test_outputs = np.concatenate(outputs_array, axis=0 )\n",
    "targets_array = np.array(targets_list)\n",
    "for i in range(len(targets_array)):\n",
    "  targets_array[i] = targets_array[i].to(\"cpu\")\n",
    "  targets_array[i] = targets_array[i].numpy()\n",
    "full_test_targets = np.concatenate(targets_array, axis=0 )\n",
    "testloss = loss_fn(torch.tensor(full_test_outputs), torch.tensor(full_test_targets))\n",
    "print(\"Test loss = %.3f\" % testloss.item())\n",
    "print(\"Accuracy = %.3f\" % accuracy)\n"
   ]
  },
  {
   "cell_type": "code",
   "execution_count": null,
   "metadata": {
    "colab": {
     "background_save": true
    },
    "id": "gfsVHWPeL284",
    "outputId": "fd744740-1b83-4acf-ba64-1d6fdcb1993f"
   },
   "outputs": [
    {
     "name": "stdout",
     "output_type": "stream",
     "text": [
      "              precision    recall  f1-score   support\n",
      "\n",
      "         0.0       0.92      0.58      0.71       359\n",
      "         1.0       0.15      0.60      0.24        45\n",
      "\n",
      "    accuracy                           0.58       404\n",
      "   macro avg       0.54      0.59      0.48       404\n",
      "weighted avg       0.83      0.58      0.66       404\n",
      "\n",
      "AUC: 0.5896935933147632\n"
     ]
    }
   ],
   "source": [
    "from sklearn import metrics\n",
    "from sklearn.metrics import roc_auc_score\n",
    "print(metrics.classification_report(true_list, pred_list))\n",
    "print(\"AUC:\",roc_auc_score(true_list, pred_list))"
   ]
  },
  {
   "cell_type": "code",
   "execution_count": null,
   "metadata": {
    "colab": {
     "background_save": true
    },
    "id": "2NGsfRMNGzPq"
   },
   "outputs": [],
   "source": [
    "!cp resnet34_weightedloss.pth \"drive/My Drive\""
   ]
  },
  {
   "cell_type": "code",
   "execution_count": null,
   "metadata": {
    "colab": {
     "background_save": true
    },
    "id": "00G4oBcjxDL-",
    "outputId": "7b1950ba-afe1-4b23-9795-981efd53359d"
   },
   "outputs": [
    {
     "data": {
      "image/png": "[encoded data removed]",
      "text/plain": [
       "<Figure size 432x288 with 1 Axes>"
      ]
     },
     "metadata": {},
     "output_type": "display_data"
    }
   ],
   "source": [
    "import matplotlib.pyplot as plt\n",
    "plt.plot(step_count_list, trainingloss_list, label = \"training loss\")\n",
    "plt.plot(step_count_list, validloss_list, label = \"validation loss\")\n",
    "plt.legend()\n",
    "plt.show()"
   ]
  },
  {
   "cell_type": "code",
   "execution_count": null,
   "metadata": {
    "colab": {
     "background_save": true
    },
    "id": "rOR2S8pGpdry",
    "outputId": "7db3700a-f59c-4fd5-8a6b-8f05f9e1bac4"
   },
   "outputs": [
    {
     "data": {
      "image/png": "[encoded data removed]",
      "text/plain": [
       "<Figure size 432x288 with 2 Axes>"
      ]
     },
     "metadata": {},
     "output_type": "display_data"
    }
   ],
   "source": [
    "import matplotlib.pyplot as plt\n",
    "from sklearn.metrics import ConfusionMatrixDisplay\n",
    "ConfusionMatrixDisplay.from_predictions(true_list, pred_list)\n",
    "\n",
    "plt.show()\n"
   ]
  },
  {
   "cell_type": "code",
   "execution_count": null,
   "metadata": {
    "id": "PLf0InJYBikO"
   },
   "outputs": [],
   "source": []
  }
 ],
 "metadata": {
  "accelerator": "GPU",
  "colab": {
   "background_execution": "on",
   "collapsed_sections": [],
   "name": "resnet34pretrain_weightedloss.ipynb",
   "provenance": []
  },
  "kernelspec": {
   "display_name": "Python 3 (ipykernel)",
   "language": "python",
   "name": "python3"
  },
  "language_info": {
   "codemirror_mode": {
    "name": "ipython",
    "version": 3
   },
   "file_extension": ".py",
   "mimetype": "text/x-python",
   "name": "python",
   "nbconvert_exporter": "python",
   "pygments_lexer": "ipython3",
   "version": "3.9.7"
  },
  "widgets": {
   "application/vnd.jupyter.widget-state+json": {
    "1c06074ebd88465ab941c68393a87519": {
     "model_module": "@jupyter-widgets/controls",
     "model_module_version": "1.5.0",
     "model_name": "HBoxModel",
     "state": {
      "_dom_classes": [],
      "_model_module": "@jupyter-widgets/controls",
      "_model_module_version": "1.5.0",
      "_model_name": "HBoxModel",
      "_view_count": null,
      "_view_module": "@jupyter-widgets/controls",
      "_view_module_version": "1.5.0",
      "_view_name": "HBoxView",
      "box_style": "",
      "children": [
       "IPY_MODEL_a1fc53d22c9a4c739e397f41c4f3b30b",
       "IPY_MODEL_b6f15feaf95245858e8c71019e69a859",
       "IPY_MODEL_3b83427bdd024b84bf63c419b47e3a0b"
      ],
      "layout": "IPY_MODEL_5cb0c4d80bee49ccb2fa4c542747f845"
     }
    },
    "24c8757f1c9048c6837bb3e211429b1f": {
     "model_module": "@jupyter-widgets/base",
     "model_module_version": "1.2.0",
     "model_name": "LayoutModel",
     "state": {
      "_model_module": "@jupyter-widgets/base",
      "_model_module_version": "1.2.0",
      "_model_name": "LayoutModel",
      "_view_count": null,
      "_view_module": "@jupyter-widgets/base",
      "_view_module_version": "1.2.0",
      "_view_name": "LayoutView",
      "align_content": null,
      "align_items": null,
      "align_self": null,
      "border": null,
      "bottom": null,
      "display": null,
      "flex": null,
      "flex_flow": null,
      "grid_area": null,
      "grid_auto_columns": null,
      "grid_auto_flow": null,
      "grid_auto_rows": null,
      "grid_column": null,
      "grid_gap": null,
      "grid_row": null,
      "grid_template_areas": null,
      "grid_template_columns": null,
      "grid_template_rows": null,
      "height": null,
      "justify_content": null,
      "justify_items": null,
      "left": null,
      "margin": null,
      "max_height": null,
      "max_width": null,
      "min_height": null,
      "min_width": null,
      "object_fit": null,
      "object_position": null,
      "order": null,
      "overflow": null,
      "overflow_x": null,
      "overflow_y": null,
      "padding": null,
      "right": null,
      "top": null,
      "visibility": null,
      "width": null
     }
    },
    "2c3b94c20a704c83ab2b46626a67de26": {
     "model_module": "@jupyter-widgets/base",
     "model_module_version": "1.2.0",
     "model_name": "LayoutModel",
     "state": {
      "_model_module": "@jupyter-widgets/base",
      "_model_module_version": "1.2.0",
      "_model_name": "LayoutModel",
      "_view_count": null,
      "_view_module": "@jupyter-widgets/base",
      "_view_module_version": "1.2.0",
      "_view_name": "LayoutView",
      "align_content": null,
      "align_items": null,
      "align_self": null,
      "border": null,
      "bottom": null,
      "display": null,
      "flex": null,
      "flex_flow": null,
      "grid_area": null,
      "grid_auto_columns": null,
      "grid_auto_flow": null,
      "grid_auto_rows": null,
      "grid_column": null,
      "grid_gap": null,
      "grid_row": null,
      "grid_template_areas": null,
      "grid_template_columns": null,
      "grid_template_rows": null,
      "height": null,
      "justify_content": null,
      "justify_items": null,
      "left": null,
      "margin": null,
      "max_height": null,
      "max_width": null,
      "min_height": null,
      "min_width": null,
      "object_fit": null,
      "object_position": null,
      "order": null,
      "overflow": null,
      "overflow_x": null,
      "overflow_y": null,
      "padding": null,
      "right": null,
      "top": null,
      "visibility": null,
      "width": null
     }
    },
    "374a43f07ee84705b17ffbe7afff0204": {
     "model_module": "@jupyter-widgets/controls",
     "model_module_version": "1.5.0",
     "model_name": "ProgressStyleModel",
     "state": {
      "_model_module": "@jupyter-widgets/controls",
      "_model_module_version": "1.5.0",
      "_model_name": "ProgressStyleModel",
      "_view_count": null,
      "_view_module": "@jupyter-widgets/base",
      "_view_module_version": "1.2.0",
      "_view_name": "StyleView",
      "bar_color": null,
      "description_width": ""
     }
    },
    "3b83427bdd024b84bf63c419b47e3a0b": {
     "model_module": "@jupyter-widgets/controls",
     "model_module_version": "1.5.0",
     "model_name": "HTMLModel",
     "state": {
      "_dom_classes": [],
      "_model_module": "@jupyter-widgets/controls",
      "_model_module_version": "1.5.0",
      "_model_name": "HTMLModel",
      "_view_count": null,
      "_view_module": "@jupyter-widgets/controls",
      "_view_module_version": "1.5.0",
      "_view_name": "HTMLView",
      "description": "",
      "description_tooltip": null,
      "layout": "IPY_MODEL_5832c4b7204e4ab2b60cf0f1cf7de7c7",
      "placeholder": "​",
      "style": "IPY_MODEL_d1b6316ec4234022bc66235f405e94b3",
      "value": " 83.3M/83.3M [00:00&lt;00:00, 125MB/s]"
     }
    },
    "5832c4b7204e4ab2b60cf0f1cf7de7c7": {
     "model_module": "@jupyter-widgets/base",
     "model_module_version": "1.2.0",
     "model_name": "LayoutModel",
     "state": {
      "_model_module": "@jupyter-widgets/base",
      "_model_module_version": "1.2.0",
      "_model_name": "LayoutModel",
      "_view_count": null,
      "_view_module": "@jupyter-widgets/base",
      "_view_module_version": "1.2.0",
      "_view_name": "LayoutView",
      "align_content": null,
      "align_items": null,
      "align_self": null,
      "border": null,
      "bottom": null,
      "display": null,
      "flex": null,
      "flex_flow": null,
      "grid_area": null,
      "grid_auto_columns": null,
      "grid_auto_flow": null,
      "grid_auto_rows": null,
      "grid_column": null,
      "grid_gap": null,
      "grid_row": null,
      "grid_template_areas": null,
      "grid_template_columns": null,
      "grid_template_rows": null,
      "height": null,
      "justify_content": null,
      "justify_items": null,
      "left": null,
      "margin": null,
      "max_height": null,
      "max_width": null,
      "min_height": null,
      "min_width": null,
      "object_fit": null,
      "object_position": null,
      "order": null,
      "overflow": null,
      "overflow_x": null,
      "overflow_y": null,
      "padding": null,
      "right": null,
      "top": null,
      "visibility": null,
      "width": null
     }
    },
    "5cb0c4d80bee49ccb2fa4c542747f845": {
     "model_module": "@jupyter-widgets/base",
     "model_module_version": "1.2.0",
     "model_name": "LayoutModel",
     "state": {
      "_model_module": "@jupyter-widgets/base",
      "_model_module_version": "1.2.0",
      "_model_name": "LayoutModel",
      "_view_count": null,
      "_view_module": "@jupyter-widgets/base",
      "_view_module_version": "1.2.0",
      "_view_name": "LayoutView",
      "align_content": null,
      "align_items": null,
      "align_self": null,
      "border": null,
      "bottom": null,
      "display": null,
      "flex": null,
      "flex_flow": null,
      "grid_area": null,
      "grid_auto_columns": null,
      "grid_auto_flow": null,
      "grid_auto_rows": null,
      "grid_column": null,
      "grid_gap": null,
      "grid_row": null,
      "grid_template_areas": null,
      "grid_template_columns": null,
      "grid_template_rows": null,
      "height": null,
      "justify_content": null,
      "justify_items": null,
      "left": null,
      "margin": null,
      "max_height": null,
      "max_width": null,
      "min_height": null,
      "min_width": null,
      "object_fit": null,
      "object_position": null,
      "order": null,
      "overflow": null,
      "overflow_x": null,
      "overflow_y": null,
      "padding": null,
      "right": null,
      "top": null,
      "visibility": null,
      "width": null
     }
    },
    "82e73721db894b4fbc31c178241633bd": {
     "model_module": "@jupyter-widgets/controls",
     "model_module_version": "1.5.0",
     "model_name": "DescriptionStyleModel",
     "state": {
      "_model_module": "@jupyter-widgets/controls",
      "_model_module_version": "1.5.0",
      "_model_name": "DescriptionStyleModel",
      "_view_count": null,
      "_view_module": "@jupyter-widgets/base",
      "_view_module_version": "1.2.0",
      "_view_name": "StyleView",
      "description_width": ""
     }
    },
    "a1fc53d22c9a4c739e397f41c4f3b30b": {
     "model_module": "@jupyter-widgets/controls",
     "model_module_version": "1.5.0",
     "model_name": "HTMLModel",
     "state": {
      "_dom_classes": [],
      "_model_module": "@jupyter-widgets/controls",
      "_model_module_version": "1.5.0",
      "_model_name": "HTMLModel",
      "_view_count": null,
      "_view_module": "@jupyter-widgets/controls",
      "_view_module_version": "1.5.0",
      "_view_name": "HTMLView",
      "description": "",
      "description_tooltip": null,
      "layout": "IPY_MODEL_24c8757f1c9048c6837bb3e211429b1f",
      "placeholder": "​",
      "style": "IPY_MODEL_82e73721db894b4fbc31c178241633bd",
      "value": "100%"
     }
    },
    "b6f15feaf95245858e8c71019e69a859": {
     "model_module": "@jupyter-widgets/controls",
     "model_module_version": "1.5.0",
     "model_name": "FloatProgressModel",
     "state": {
      "_dom_classes": [],
      "_model_module": "@jupyter-widgets/controls",
      "_model_module_version": "1.5.0",
      "_model_name": "FloatProgressModel",
      "_view_count": null,
      "_view_module": "@jupyter-widgets/controls",
      "_view_module_version": "1.5.0",
      "_view_name": "ProgressView",
      "bar_style": "success",
      "description": "",
      "description_tooltip": null,
      "layout": "IPY_MODEL_2c3b94c20a704c83ab2b46626a67de26",
      "max": 87319819,
      "min": 0,
      "orientation": "horizontal",
      "style": "IPY_MODEL_374a43f07ee84705b17ffbe7afff0204",
      "value": 87319819
     }
    },
    "d1b6316ec4234022bc66235f405e94b3": {
     "model_module": "@jupyter-widgets/controls",
     "model_module_version": "1.5.0",
     "model_name": "DescriptionStyleModel",
     "state": {
      "_model_module": "@jupyter-widgets/controls",
      "_model_module_version": "1.5.0",
      "_model_name": "DescriptionStyleModel",
      "_view_count": null,
      "_view_module": "@jupyter-widgets/base",
      "_view_module_version": "1.2.0",
      "_view_name": "StyleView",
      "description_width": ""
     }
    }
   }
  }
 },
 "nbformat": 4,
 "nbformat_minor": 4
}
